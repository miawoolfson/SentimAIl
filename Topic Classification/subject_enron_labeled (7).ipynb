{
  "cells": [
    {
      "cell_type": "markdown",
      "metadata": {
        "id": "iWD_-lD7NFrP"
      },
      "source": [
        "#Prepare The Dataset"
      ]
    },
    {
      "cell_type": "code",
      "execution_count": 1,
      "metadata": {
        "colab": {
          "base_uri": "https://localhost:8080/"
        },
        "id": "qI6jStvRNGCs",
        "outputId": "f18ceb56-e460-4fbb-ec7f-f95e8d301084"
      },
      "outputs": [
        {
          "name": "stdout",
          "output_type": "stream",
          "text": [
            "time: 438 µs (started: 2025-05-28 12:05:27 +00:00)\n"
          ]
        }
      ],
      "source": [
        "%%capture\n",
        "!pip install ipython-autotime\n",
        "%load_ext autotime"
      ]
    },
    {
      "cell_type": "code",
      "execution_count": 2,
      "metadata": {
        "colab": {
          "base_uri": "https://localhost:8080/"
        },
        "id": "PtwqYW5xTMti",
        "outputId": "0e2de925-906e-4ff3-ab93-a2cbdec85992"
      },
      "outputs": [
        {
          "name": "stdout",
          "output_type": "stream",
          "text": [
            "time: 946 ms (started: 2025-05-28 12:05:27 +00:00)\n"
          ]
        }
      ],
      "source": [
        "import pandas as pd\n",
        "import os\n",
        "from google.colab import files, drive"
      ]
    },
    {
      "cell_type": "code",
      "execution_count": 3,
      "metadata": {
        "colab": {
          "base_uri": "https://localhost:8080/"
        },
        "id": "aVeVPXLfIRgA",
        "outputId": "57ce0cf0-b90b-4766-e76a-07c3985dc95d"
      },
      "outputs": [
        {
          "name": "stdout",
          "output_type": "stream",
          "text": [
            "Drive already mounted at /content/drive; to attempt to forcibly remount, call drive.mount(\"/content/drive\", force_remount=True).\n",
            "time: 1.43 s (started: 2025-05-28 12:05:28 +00:00)\n"
          ]
        }
      ],
      "source": [
        "drive.mount('/content/drive')"
      ]
    },
    {
      "cell_type": "code",
      "execution_count": 4,
      "metadata": {
        "colab": {
          "base_uri": "https://localhost:8080/",
          "height": 591
        },
        "id": "iLopS7j9NWXM",
        "outputId": "8dc4222a-4a5d-44e1-a9d2-7b3b4473208a"
      },
      "outputs": [
        {
          "data": {
            "application/vnd.google.colaboratory.intrinsic+json": {
              "summary": "{\n  \"name\": \"df\",\n  \"rows\": 1702,\n  \"fields\": [\n    {\n      \"column\": \"column_a\",\n      \"properties\": {\n        \"dtype\": \"number\",\n        \"std\": 97156,\n        \"min\": 379,\n        \"max\": 511979,\n        \"num_unique_values\": 1702,\n        \"samples\": [\n          228249,\n          229295,\n          250872\n        ],\n        \"semantic_type\": \"\",\n        \"description\": \"\"\n      }\n    },\n    {\n      \"column\": \"message_id\",\n      \"properties\": {\n        \"dtype\": \"string\",\n        \"num_unique_values\": 1702,\n        \"samples\": [\n          \"<23778978.1075863635437.JavaMail.evans@thyme>\",\n          \"<31218520.1075847578460.JavaMail.evans@thyme>\",\n          \"<24162646.1075858884386.JavaMail.evans@thyme>\"\n        ],\n        \"semantic_type\": \"\",\n        \"description\": \"\"\n      }\n    },\n    {\n      \"column\": \"date\",\n      \"properties\": {\n        \"dtype\": \"object\",\n        \"num_unique_values\": 1609,\n        \"samples\": [\n          \"2001-07-20T16:53:03\",\n          \"2001-05-29T08:58:00\",\n          \"2000-08-14T09:13:00\"\n        ],\n        \"semantic_type\": \"\",\n        \"description\": \"\"\n      }\n    },\n    {\n      \"column\": \"from\",\n      \"properties\": {\n        \"dtype\": \"category\",\n        \"num_unique_values\": 175,\n        \"samples\": [\n          \"frozenset({'brenda_worley@ypo.org'})\",\n          \"frozenset({'mlk@pkns.com'})\",\n          \"frozenset({'wgramm@aol.com'})\"\n        ],\n        \"semantic_type\": \"\",\n        \"description\": \"\"\n      }\n    },\n    {\n      \"column\": \"to\",\n      \"properties\": {\n        \"dtype\": \"category\",\n        \"num_unique_values\": 708,\n        \"samples\": [\n          \"frozenset({'mary.hain@enron.com', 'susan.mara@enron.com', 'mona.petrochko@enron.com', 'tim.belden@enron.com', 'jeff.dasovich@enron.com'})\",\n          \"frozenset({'rosalee.fleming@enron.com'})\",\n          \"frozenset({'mark.palmer@enron.com'})\"\n        ],\n        \"semantic_type\": \"\",\n        \"description\": \"\"\n      }\n    },\n    {\n      \"column\": \"subject\",\n      \"properties\": {\n        \"dtype\": \"string\",\n        \"num_unique_values\": 1267,\n        \"samples\": [\n          \"Moving foward at a good clip\",\n          \"WSP: Market Ripe for Manipulation...\",\n          \"Re: India And The WTO Services Negotiation\"\n        ],\n        \"semantic_type\": \"\",\n        \"description\": \"\"\n      }\n    },\n    {\n      \"column\": \"x_from\",\n      \"properties\": {\n        \"dtype\": \"category\",\n        \"num_unique_values\": 206,\n        \"samples\": [\n          \"Blair, Lynn </O=ENRON/OU=NA/CN=RECIPIENTS/CN=LBLAIR>\",\n          \"Beth Apollo <Beth Apollo/ENRON@enronXgate@ENRON>\",\n          \"Mark Whitt/DEN/ECT@ENRON <IMCEANOTES-Mark+20Whitt_DEN_ECT+40ENRON@ENRON.com>\"\n        ],\n        \"semantic_type\": \"\",\n        \"description\": \"\"\n      }\n    },\n    {\n      \"column\": \"x_to\",\n      \"properties\": {\n        \"dtype\": \"string\",\n        \"num_unique_values\": 853,\n        \"samples\": [\n          \"Ann M Schmidt, Bryan Seyfried, Elizabeth Linnell, filuntz@aol.com, James D Steffes, Janet Butler, Jeannie Mandelker, Jeff Dasovich, Joe Hartsoe, John Neslage, John Sherriff, Joseph Alamo, Karen Denne, Lysa Akin, Mark Palmer, Mark Schroeder, Markus Fiala, Michael R Brown, Mona L Petrochko, Nicholas O'Day, Peggy Mahoney, Peter Styles, Richard Shapiro, Rob Bradley, Sandra McCubbin, Shelley Corman, Stella Chan, Steven J Kean, Susan J Mara, Mike Roan, Alex Parsons, Andrew Morrison, lipsen@cisco.com, Janel Guerrero, Shirley A Hudler, Kathleen Sullivan, Tom Briggs, Linda Robertson, Lora Sullivan, Jennifer Thome, jkradin@marathon-com.com, rlichtenstein@marathon-com.com, syamane@marathon-com.com, ken@kdscommunications.com, hgovenar@govadv.com, sgovenar@govadv.com, bhansen@lhom.com, Carin Nersesian, Robert Neustaedter\",\n          \"Sally Keepers\",\n          \"'Jinbaek Kim <jinbaek@ieor.berkeley.edu>@ENRON' <IMCEANOTES-Jinbaek+20Kim+20+3Cjinbaek+40ieor+2Eberkeley+2Eedu+3E+40ENRON@ENRON.com>\"\n        ],\n        \"semantic_type\": \"\",\n        \"description\": \"\"\n      }\n    },\n    {\n      \"column\": \"x_cc\",\n      \"properties\": {\n        \"dtype\": \"category\",\n        \"num_unique_values\": 319,\n        \"samples\": [\n          \"Alvarez, Ray </O=ENRON/OU=NA/CN=RECIPIENTS/CN=Ralvare2>\",\n          \"Timothy J Detmering, Mary Clark\",\n          \"James D Steffes, Jeff Dasovich, Joe Hartsoe, Linda Robertson, Richard Shapiro, skean@enron.com\"\n        ],\n        \"semantic_type\": \"\",\n        \"description\": \"\"\n      }\n    },\n    {\n      \"column\": \"x_bcc\",\n      \"properties\": {\n        \"dtype\": \"number\",\n        \"std\": null,\n        \"min\": null,\n        \"max\": null,\n        \"num_unique_values\": 0,\n        \"samples\": [],\n        \"semantic_type\": \"\",\n        \"description\": \"\"\n      }\n    },\n    {\n      \"column\": \"x_folder\",\n      \"properties\": {\n        \"dtype\": \"category\",\n        \"num_unique_values\": 182,\n        \"samples\": [],\n        \"semantic_type\": \"\",\n        \"description\": \"\"\n      }\n    },\n    {\n      \"column\": \"x_origin\",\n      \"properties\": {\n        \"dtype\": \"category\",\n        \"num_unique_values\": 76,\n        \"samples\": [],\n        \"semantic_type\": \"\",\n        \"description\": \"\"\n      }\n    },\n    {\n      \"column\": \"x_filename\",\n      \"properties\": {\n        \"dtype\": \"category\",\n        \"num_unique_values\": 92,\n        \"samples\": [],\n        \"semantic_type\": \"\",\n        \"description\": \"\"\n      }\n    },\n    {\n      \"column\": \"content\",\n      \"properties\": {\n        \"dtype\": \"string\",\n        \"num_unique_values\": 1587,\n        \"samples\": [],\n        \"semantic_type\": \"\",\n        \"description\": \"\"\n      }\n    },\n    {\n      \"column\": \"user\",\n      \"properties\": {\n        \"dtype\": \"category\",\n        \"num_unique_values\": 58,\n        \"samples\": [],\n        \"semantic_type\": \"\",\n        \"description\": \"\"\n      }\n    },\n    {\n      \"column\": \"labeled\",\n      \"properties\": {\n        \"dtype\": \"boolean\",\n        \"num_unique_values\": 1,\n        \"samples\": [],\n        \"semantic_type\": \"\",\n        \"description\": \"\"\n      }\n    },\n    {\n      \"column\": \"coarse_genre\",\n      \"properties\": {\n        \"dtype\": \"category\",\n        \"num_unique_values\": 8,\n        \"samples\": [],\n        \"semantic_type\": \"\",\n        \"description\": \"\"\n      }\n    },\n    {\n      \"column\": \"included_forwarded\",\n      \"properties\": {\n        \"dtype\": \"category\",\n        \"num_unique_values\": 13,\n        \"samples\": [],\n        \"semantic_type\": \"\",\n        \"description\": \"\"\n      }\n    },\n    {\n      \"column\": \"primary_topic\",\n      \"properties\": {\n        \"dtype\": \"category\",\n        \"num_unique_values\": 13,\n        \"samples\": [],\n        \"semantic_type\": \"\",\n        \"description\": \"\"\n      }\n    },\n    {\n      \"column\": \"emotional_tone\",\n      \"properties\": {\n        \"dtype\": \"category\",\n        \"num_unique_values\": 19,\n        \"samples\": [],\n        \"semantic_type\": \"\",\n        \"description\": \"\"\n      }\n    }\n  ]\n}",
              "type": "dataframe",
              "variable_name": "df"
            },
            "text/html": [
              "\n",
              "  <div id=\"df-21b2bf0f-c716-4d0d-97a4-50de0ae1f8ea\" class=\"colab-df-container\">\n",
              "    <div>\n",
              "<style scoped>\n",
              "    .dataframe tbody tr th:only-of-type {\n",
              "        vertical-align: middle;\n",
              "    }\n",
              "\n",
              "    .dataframe tbody tr th {\n",
              "        vertical-align: top;\n",
              "    }\n",
              "\n",
              "    .dataframe thead th {\n",
              "        text-align: right;\n",
              "    }\n",
              "</style>\n",
              "<table border=\"1\" class=\"dataframe\">\n",
              "  <thead>\n",
              "    <tr style=\"text-align: right;\">\n",
              "      <th></th>\n",
              "      <th>column_a</th>\n",
              "      <th>message_id</th>\n",
              "      <th>date</th>\n",
              "      <th>from</th>\n",
              "      <th>to</th>\n",
              "      <th>subject</th>\n",
              "      <th>x_from</th>\n",
              "      <th>x_to</th>\n",
              "      <th>x_cc</th>\n",
              "      <th>x_bcc</th>\n",
              "      <th>x_folder</th>\n",
              "      <th>x_origin</th>\n",
              "      <th>x_filename</th>\n",
              "      <th>content</th>\n",
              "      <th>user</th>\n",
              "      <th>labeled</th>\n",
              "      <th>coarse_genre</th>\n",
              "      <th>included_forwarded</th>\n",
              "      <th>primary_topic</th>\n",
              "      <th>emotional_tone</th>\n",
              "    </tr>\n",
              "  </thead>\n",
              "  <tbody>\n",
              "    <tr>\n",
              "      <th>0</th>\n",
              "      <td>379</td>\n",
              "      <td>&lt;9831685.1075855725804.JavaMail.evans@thyme&gt;</td>\n",
              "      <td>2001-03-15T14:45:00</td>\n",
              "      <td>frozenset({'phillip.allen@enron.com'})</td>\n",
              "      <td>frozenset({'todd.burke@enron.com'})</td>\n",
              "      <td>Re: Confidential Employee Information/Lenhart</td>\n",
              "      <td>Phillip K Allen</td>\n",
              "      <td>Todd Burke</td>\n",
              "      <td>NaN</td>\n",
              "      <td>NaN</td>\n",
              "      <td>\\Phillip_Allen_June2001\\Notes Folders\\'sent mail</td>\n",
              "      <td>Allen-P</td>\n",
              "      <td>pallen.nsf</td>\n",
              "      <td>I also need to know the base salaries of Jay R...</td>\n",
              "      <td>allen-p</td>\n",
              "      <td>True</td>\n",
              "      <td>Company Business / Strategy</td>\n",
              "      <td>NaN</td>\n",
              "      <td>Internal Operations</td>\n",
              "      <td>NaN</td>\n",
              "    </tr>\n",
              "    <tr>\n",
              "      <th>1</th>\n",
              "      <td>381</td>\n",
              "      <td>&lt;21041312.1075855725847.JavaMail.evans@thyme&gt;</td>\n",
              "      <td>2001-03-15T14:11:00</td>\n",
              "      <td>frozenset({'phillip.allen@enron.com'})</td>\n",
              "      <td>frozenset({'kim.bolton@enron.com'})</td>\n",
              "      <td>RE: PERSONAL AND CONFIDENTIAL COMPENSATION INF...</td>\n",
              "      <td>Phillip K Allen</td>\n",
              "      <td>Kim Bolton</td>\n",
              "      <td>NaN</td>\n",
              "      <td>NaN</td>\n",
              "      <td>\\Phillip_Allen_June2001\\Notes Folders\\'sent mail</td>\n",
              "      <td>Allen-P</td>\n",
              "      <td>pallen.nsf</td>\n",
              "      <td>Thanks for the information. It would be helpfu...</td>\n",
              "      <td>allen-p</td>\n",
              "      <td>True</td>\n",
              "      <td>Personal in Work Context</td>\n",
              "      <td>NaN</td>\n",
              "      <td>NaN</td>\n",
              "      <td>Anxiety</td>\n",
              "    </tr>\n",
              "    <tr>\n",
              "      <th>2</th>\n",
              "      <td>2139</td>\n",
              "      <td>&lt;5907100.1075858639941.JavaMail.evans@thyme&gt;</td>\n",
              "      <td>2001-06-20T17:04:51</td>\n",
              "      <td>frozenset({'k..allen@enron.com'})</td>\n",
              "      <td>frozenset({'matt.smith@enron.com', 'matthew.le...</td>\n",
              "      <td>FW: Western Wholesale Activities - Gas &amp; Power...</td>\n",
              "      <td>Allen, Phillip K. &lt;/O=ENRON/OU=NA/CN=RECIPIENT...</td>\n",
              "      <td>Lenhart, Matthew &lt;/O=ENRON/OU=NA/CN=RECIPIENTS...</td>\n",
              "      <td>NaN</td>\n",
              "      <td>NaN</td>\n",
              "      <td>\\PALLEN (Non-Privileged)\\Allen, Phillip K.\\Sen...</td>\n",
              "      <td>Allen-P</td>\n",
              "      <td>PALLEN (Non-Privileged).pst</td>\n",
              "      <td>-----Original Message----- From: Hawkins, Bern...</td>\n",
              "      <td>allen-p</td>\n",
              "      <td>True</td>\n",
              "      <td>Logistics</td>\n",
              "      <td>Forwarded Emails + Replies</td>\n",
              "      <td>NaN</td>\n",
              "      <td>NaN</td>\n",
              "    </tr>\n",
              "    <tr>\n",
              "      <th>3</th>\n",
              "      <td>2140</td>\n",
              "      <td>&lt;26625142.1075858639964.JavaMail.evans@thyme&gt;</td>\n",
              "      <td>2001-06-20T17:09:00</td>\n",
              "      <td>frozenset({'k..allen@enron.com'})</td>\n",
              "      <td>frozenset({'matt.smith@enron.com', 'matthew.le...</td>\n",
              "      <td>FW: Western Wholesale Activities - Gas &amp; Power...</td>\n",
              "      <td>Allen, Phillip K. &lt;/O=ENRON/OU=NA/CN=RECIPIENT...</td>\n",
              "      <td>Lenhart, Matthew &lt;/O=ENRON/OU=NA/CN=RECIPIENTS...</td>\n",
              "      <td>NaN</td>\n",
              "      <td>NaN</td>\n",
              "      <td>\\PALLEN (Non-Privileged)\\Allen, Phillip K.\\Sen...</td>\n",
              "      <td>Allen-P</td>\n",
              "      <td>PALLEN (Non-Privileged).pst</td>\n",
              "      <td>-----Original Message----- From: Perrino, Dave...</td>\n",
              "      <td>allen-p</td>\n",
              "      <td>True</td>\n",
              "      <td>Logistics</td>\n",
              "      <td>Forwarded Emails + Replies</td>\n",
              "      <td>NaN</td>\n",
              "      <td>NaN</td>\n",
              "    </tr>\n",
              "    <tr>\n",
              "      <th>4</th>\n",
              "      <td>2232</td>\n",
              "      <td>&lt;19730598.1075858642129.JavaMail.evans@thyme&gt;</td>\n",
              "      <td>2001-08-09T12:30:58</td>\n",
              "      <td>frozenset({'k..allen@enron.com'})</td>\n",
              "      <td>frozenset({'matt.smith@enron.com', 'm..tholt@e...</td>\n",
              "      <td>FW: Western Wholesale Activities - Gas &amp; Power...</td>\n",
              "      <td>Allen, Phillip K. &lt;/O=ENRON/OU=NA/CN=RECIPIENT...</td>\n",
              "      <td>Smith, Matt &lt;/O=ENRON/OU=NA/CN=RECIPIENTS/CN=M...</td>\n",
              "      <td>NaN</td>\n",
              "      <td>NaN</td>\n",
              "      <td>\\PALLEN (Non-Privileged)\\Allen, Phillip K.\\Sen...</td>\n",
              "      <td>Allen-P</td>\n",
              "      <td>PALLEN (Non-Privileged).pst</td>\n",
              "      <td>-----Original Message----- From: Comnes, Alan ...</td>\n",
              "      <td>allen-p</td>\n",
              "      <td>True</td>\n",
              "      <td>Logistics</td>\n",
              "      <td>Forwarded Emails + Replies</td>\n",
              "      <td>NaN</td>\n",
              "      <td>NaN</td>\n",
              "    </tr>\n",
              "  </tbody>\n",
              "</table>\n",
              "</div>\n",
              "    <div class=\"colab-df-buttons\">\n",
              "\n",
              "  <div class=\"colab-df-container\">\n",
              "    <button class=\"colab-df-convert\" onclick=\"convertToInteractive('df-21b2bf0f-c716-4d0d-97a4-50de0ae1f8ea')\"\n",
              "            title=\"Convert this dataframe to an interactive table.\"\n",
              "            style=\"display:none;\">\n",
              "\n",
              "  <svg xmlns=\"http://www.w3.org/2000/svg\" height=\"24px\" viewBox=\"0 -960 960 960\">\n",
              "    <path d=\"M120-120v-720h720v720H120Zm60-500h600v-160H180v160Zm220 220h160v-160H400v160Zm0 220h160v-160H400v160ZM180-400h160v-160H180v160Zm440 0h160v-160H620v160ZM180-180h160v-160H180v160Zm440 0h160v-160H620v160Z\"/>\n",
              "  </svg>\n",
              "    </button>\n",
              "\n",
              "  <style>\n",
              "    .colab-df-container {\n",
              "      display:flex;\n",
              "      gap: 12px;\n",
              "    }\n",
              "\n",
              "    .colab-df-convert {\n",
              "      background-color: #E8F0FE;\n",
              "      border: none;\n",
              "      border-radius: 50%;\n",
              "      cursor: pointer;\n",
              "      display: none;\n",
              "      fill: #1967D2;\n",
              "      height: 32px;\n",
              "      padding: 0 0 0 0;\n",
              "      width: 32px;\n",
              "    }\n",
              "\n",
              "    .colab-df-convert:hover {\n",
              "      background-color: #E2EBFA;\n",
              "      box-shadow: 0px 1px 2px rgba(60, 64, 67, 0.3), 0px 1px 3px 1px rgba(60, 64, 67, 0.15);\n",
              "      fill: #174EA6;\n",
              "    }\n",
              "\n",
              "    .colab-df-buttons div {\n",
              "      margin-bottom: 4px;\n",
              "    }\n",
              "\n",
              "    [theme=dark] .colab-df-convert {\n",
              "      background-color: #3B4455;\n",
              "      fill: #D2E3FC;\n",
              "    }\n",
              "\n",
              "    [theme=dark] .colab-df-convert:hover {\n",
              "      background-color: #434B5C;\n",
              "      box-shadow: 0px 1px 3px 1px rgba(0, 0, 0, 0.15);\n",
              "      filter: drop-shadow(0px 1px 2px rgba(0, 0, 0, 0.3));\n",
              "      fill: #FFFFFF;\n",
              "    }\n",
              "  </style>\n",
              "\n",
              "    <script>\n",
              "      const buttonEl =\n",
              "        document.querySelector('#df-21b2bf0f-c716-4d0d-97a4-50de0ae1f8ea button.colab-df-convert');\n",
              "      buttonEl.style.display =\n",
              "        google.colab.kernel.accessAllowed ? 'block' : 'none';\n",
              "\n",
              "      async function convertToInteractive(key) {\n",
              "        const element = document.querySelector('#df-21b2bf0f-c716-4d0d-97a4-50de0ae1f8ea');\n",
              "        const dataTable =\n",
              "          await google.colab.kernel.invokeFunction('convertToInteractive',\n",
              "                                                    [key], {});\n",
              "        if (!dataTable) return;\n",
              "\n",
              "        const docLinkHtml = 'Like what you see? Visit the ' +\n",
              "          '<a target=\"_blank\" href=https://colab.research.google.com/notebooks/data_table.ipynb>data table notebook</a>'\n",
              "          + ' to learn more about interactive tables.';\n",
              "        element.innerHTML = '';\n",
              "        dataTable['output_type'] = 'display_data';\n",
              "        await google.colab.output.renderOutput(dataTable, element);\n",
              "        const docLink = document.createElement('div');\n",
              "        docLink.innerHTML = docLinkHtml;\n",
              "        element.appendChild(docLink);\n",
              "      }\n",
              "    </script>\n",
              "  </div>\n",
              "\n",
              "\n",
              "    <div id=\"df-53b16d2d-2458-4003-b1f6-4efa0bf6b174\">\n",
              "      <button class=\"colab-df-quickchart\" onclick=\"quickchart('df-53b16d2d-2458-4003-b1f6-4efa0bf6b174')\"\n",
              "                title=\"Suggest charts\"\n",
              "                style=\"display:none;\">\n",
              "\n",
              "<svg xmlns=\"http://www.w3.org/2000/svg\" height=\"24px\"viewBox=\"0 0 24 24\"\n",
              "     width=\"24px\">\n",
              "    <g>\n",
              "        <path d=\"M19 3H5c-1.1 0-2 .9-2 2v14c0 1.1.9 2 2 2h14c1.1 0 2-.9 2-2V5c0-1.1-.9-2-2-2zM9 17H7v-7h2v7zm4 0h-2V7h2v10zm4 0h-2v-4h2v4z\"/>\n",
              "    </g>\n",
              "</svg>\n",
              "      </button>\n",
              "\n",
              "<style>\n",
              "  .colab-df-quickchart {\n",
              "      --bg-color: #E8F0FE;\n",
              "      --fill-color: #1967D2;\n",
              "      --hover-bg-color: #E2EBFA;\n",
              "      --hover-fill-color: #174EA6;\n",
              "      --disabled-fill-color: #AAA;\n",
              "      --disabled-bg-color: #DDD;\n",
              "  }\n",
              "\n",
              "  [theme=dark] .colab-df-quickchart {\n",
              "      --bg-color: #3B4455;\n",
              "      --fill-color: #D2E3FC;\n",
              "      --hover-bg-color: #434B5C;\n",
              "      --hover-fill-color: #FFFFFF;\n",
              "      --disabled-bg-color: #3B4455;\n",
              "      --disabled-fill-color: #666;\n",
              "  }\n",
              "\n",
              "  .colab-df-quickchart {\n",
              "    background-color: var(--bg-color);\n",
              "    border: none;\n",
              "    border-radius: 50%;\n",
              "    cursor: pointer;\n",
              "    display: none;\n",
              "    fill: var(--fill-color);\n",
              "    height: 32px;\n",
              "    padding: 0;\n",
              "    width: 32px;\n",
              "  }\n",
              "\n",
              "  .colab-df-quickchart:hover {\n",
              "    background-color: var(--hover-bg-color);\n",
              "    box-shadow: 0 1px 2px rgba(60, 64, 67, 0.3), 0 1px 3px 1px rgba(60, 64, 67, 0.15);\n",
              "    fill: var(--button-hover-fill-color);\n",
              "  }\n",
              "\n",
              "  .colab-df-quickchart-complete:disabled,\n",
              "  .colab-df-quickchart-complete:disabled:hover {\n",
              "    background-color: var(--disabled-bg-color);\n",
              "    fill: var(--disabled-fill-color);\n",
              "    box-shadow: none;\n",
              "  }\n",
              "\n",
              "  .colab-df-spinner {\n",
              "    border: 2px solid var(--fill-color);\n",
              "    border-color: transparent;\n",
              "    border-bottom-color: var(--fill-color);\n",
              "    animation:\n",
              "      spin 1s steps(1) infinite;\n",
              "  }\n",
              "\n",
              "  @keyframes spin {\n",
              "    0% {\n",
              "      border-color: transparent;\n",
              "      border-bottom-color: var(--fill-color);\n",
              "      border-left-color: var(--fill-color);\n",
              "    }\n",
              "    20% {\n",
              "      border-color: transparent;\n",
              "      border-left-color: var(--fill-color);\n",
              "      border-top-color: var(--fill-color);\n",
              "    }\n",
              "    30% {\n",
              "      border-color: transparent;\n",
              "      border-left-color: var(--fill-color);\n",
              "      border-top-color: var(--fill-color);\n",
              "      border-right-color: var(--fill-color);\n",
              "    }\n",
              "    40% {\n",
              "      border-color: transparent;\n",
              "      border-right-color: var(--fill-color);\n",
              "      border-top-color: var(--fill-color);\n",
              "    }\n",
              "    60% {\n",
              "      border-color: transparent;\n",
              "      border-right-color: var(--fill-color);\n",
              "    }\n",
              "    80% {\n",
              "      border-color: transparent;\n",
              "      border-right-color: var(--fill-color);\n",
              "      border-bottom-color: var(--fill-color);\n",
              "    }\n",
              "    90% {\n",
              "      border-color: transparent;\n",
              "      border-bottom-color: var(--fill-color);\n",
              "    }\n",
              "  }\n",
              "</style>\n",
              "\n",
              "      <script>\n",
              "        async function quickchart(key) {\n",
              "          const quickchartButtonEl =\n",
              "            document.querySelector('#' + key + ' button');\n",
              "          quickchartButtonEl.disabled = true;  // To prevent multiple clicks.\n",
              "          quickchartButtonEl.classList.add('colab-df-spinner');\n",
              "          try {\n",
              "            const charts = await google.colab.kernel.invokeFunction(\n",
              "                'suggestCharts', [key], {});\n",
              "          } catch (error) {\n",
              "            console.error('Error during call to suggestCharts:', error);\n",
              "          }\n",
              "          quickchartButtonEl.classList.remove('colab-df-spinner');\n",
              "          quickchartButtonEl.classList.add('colab-df-quickchart-complete');\n",
              "        }\n",
              "        (() => {\n",
              "          let quickchartButtonEl =\n",
              "            document.querySelector('#df-53b16d2d-2458-4003-b1f6-4efa0bf6b174 button');\n",
              "          quickchartButtonEl.style.display =\n",
              "            google.colab.kernel.accessAllowed ? 'block' : 'none';\n",
              "        })();\n",
              "      </script>\n",
              "    </div>\n",
              "\n",
              "    </div>\n",
              "  </div>\n"
            ],
            "text/plain": [
              "   column_a                                     message_id  \\\n",
              "0       379   <9831685.1075855725804.JavaMail.evans@thyme>   \n",
              "1       381  <21041312.1075855725847.JavaMail.evans@thyme>   \n",
              "2      2139   <5907100.1075858639941.JavaMail.evans@thyme>   \n",
              "3      2140  <26625142.1075858639964.JavaMail.evans@thyme>   \n",
              "4      2232  <19730598.1075858642129.JavaMail.evans@thyme>   \n",
              "\n",
              "                  date                                    from  \\\n",
              "0  2001-03-15T14:45:00  frozenset({'phillip.allen@enron.com'})   \n",
              "1  2001-03-15T14:11:00  frozenset({'phillip.allen@enron.com'})   \n",
              "2  2001-06-20T17:04:51       frozenset({'k..allen@enron.com'})   \n",
              "3  2001-06-20T17:09:00       frozenset({'k..allen@enron.com'})   \n",
              "4  2001-08-09T12:30:58       frozenset({'k..allen@enron.com'})   \n",
              "\n",
              "                                                  to  \\\n",
              "0                frozenset({'todd.burke@enron.com'})   \n",
              "1                frozenset({'kim.bolton@enron.com'})   \n",
              "2  frozenset({'matt.smith@enron.com', 'matthew.le...   \n",
              "3  frozenset({'matt.smith@enron.com', 'matthew.le...   \n",
              "4  frozenset({'matt.smith@enron.com', 'm..tholt@e...   \n",
              "\n",
              "                                             subject  \\\n",
              "0      Re: Confidential Employee Information/Lenhart   \n",
              "1  RE: PERSONAL AND CONFIDENTIAL COMPENSATION INF...   \n",
              "2  FW: Western Wholesale Activities - Gas & Power...   \n",
              "3  FW: Western Wholesale Activities - Gas & Power...   \n",
              "4  FW: Western Wholesale Activities - Gas & Power...   \n",
              "\n",
              "                                              x_from  \\\n",
              "0                                    Phillip K Allen   \n",
              "1                                    Phillip K Allen   \n",
              "2  Allen, Phillip K. </O=ENRON/OU=NA/CN=RECIPIENT...   \n",
              "3  Allen, Phillip K. </O=ENRON/OU=NA/CN=RECIPIENT...   \n",
              "4  Allen, Phillip K. </O=ENRON/OU=NA/CN=RECIPIENT...   \n",
              "\n",
              "                                                x_to x_cc  x_bcc  \\\n",
              "0                                         Todd Burke  NaN    NaN   \n",
              "1                                         Kim Bolton  NaN    NaN   \n",
              "2  Lenhart, Matthew </O=ENRON/OU=NA/CN=RECIPIENTS...  NaN    NaN   \n",
              "3  Lenhart, Matthew </O=ENRON/OU=NA/CN=RECIPIENTS...  NaN    NaN   \n",
              "4  Smith, Matt </O=ENRON/OU=NA/CN=RECIPIENTS/CN=M...  NaN    NaN   \n",
              "\n",
              "                                            x_folder x_origin  \\\n",
              "0   \\Phillip_Allen_June2001\\Notes Folders\\'sent mail  Allen-P   \n",
              "1   \\Phillip_Allen_June2001\\Notes Folders\\'sent mail  Allen-P   \n",
              "2  \\PALLEN (Non-Privileged)\\Allen, Phillip K.\\Sen...  Allen-P   \n",
              "3  \\PALLEN (Non-Privileged)\\Allen, Phillip K.\\Sen...  Allen-P   \n",
              "4  \\PALLEN (Non-Privileged)\\Allen, Phillip K.\\Sen...  Allen-P   \n",
              "\n",
              "                    x_filename  \\\n",
              "0                   pallen.nsf   \n",
              "1                   pallen.nsf   \n",
              "2  PALLEN (Non-Privileged).pst   \n",
              "3  PALLEN (Non-Privileged).pst   \n",
              "4  PALLEN (Non-Privileged).pst   \n",
              "\n",
              "                                             content     user  labeled  \\\n",
              "0  I also need to know the base salaries of Jay R...  allen-p     True   \n",
              "1  Thanks for the information. It would be helpfu...  allen-p     True   \n",
              "2  -----Original Message----- From: Hawkins, Bern...  allen-p     True   \n",
              "3  -----Original Message----- From: Perrino, Dave...  allen-p     True   \n",
              "4  -----Original Message----- From: Comnes, Alan ...  allen-p     True   \n",
              "\n",
              "                  coarse_genre          included_forwarded  \\\n",
              "0  Company Business / Strategy                         NaN   \n",
              "1     Personal in Work Context                         NaN   \n",
              "2                    Logistics  Forwarded Emails + Replies   \n",
              "3                    Logistics  Forwarded Emails + Replies   \n",
              "4                    Logistics  Forwarded Emails + Replies   \n",
              "\n",
              "         primary_topic emotional_tone  \n",
              "0  Internal Operations            NaN  \n",
              "1                  NaN        Anxiety  \n",
              "2                  NaN            NaN  \n",
              "3                  NaN            NaN  \n",
              "4                  NaN            NaN  "
            ]
          },
          "execution_count": 4,
          "metadata": {},
          "output_type": "execute_result"
        },
        {
          "name": "stdout",
          "output_type": "stream",
          "text": [
            "time: 557 ms (started: 2025-05-28 12:05:29 +00:00)\n"
          ]
        }
      ],
      "source": [
        "save_path = '/content/drive/MyDrive/DS Final Only Me/enron_labeled_clean.csv'\n",
        "df = pd.read_csv(save_path)\n",
        "df.head()"
      ]
    },
    {
      "cell_type": "code",
      "execution_count": 5,
      "metadata": {
        "colab": {
          "base_uri": "https://localhost:8080/",
          "height": 1000
        },
        "id": "PvyVZfpfBsxM",
        "outputId": "3863d664-6e25-4604-fe64-34dec2aac9ce"
      },
      "outputs": [
        {
          "data": {
            "image/png": "[encoded data removed]",
            "text/plain": [
              "<Figure size 1000x600 with 1 Axes>"
            ]
          },
          "metadata": {},
          "output_type": "display_data"
        },
        {
          "data": {
            "image/png": "[encoded data removed]",
            "text/plain": [
              "<Figure size 1000x600 with 1 Axes>"
            ]
          },
          "metadata": {},
          "output_type": "display_data"
        },
        {
          "name": "stdout",
          "output_type": "stream",
          "text": [
            "time: 1.23 s (started: 2025-05-28 12:05:30 +00:00)\n"
          ]
        }
      ],
      "source": [
        "import matplotlib.pyplot as plt\n",
        "\n",
        "# Coarse Genre with counts\n",
        "coarse_counts = df['coarse_genre'].value_counts()\n",
        "\n",
        "plt.figure(figsize=(10,6))\n",
        "ax = coarse_counts.plot(kind='bar', title='Coarse Genre Distribution')\n",
        "plt.ylabel(\"Number of Samples\")\n",
        "plt.xlabel(\"Coarse Genre\")\n",
        "plt.xticks(rotation=45, ha='right')\n",
        "\n",
        "# Add count labels\n",
        "for i, count in enumerate(coarse_counts):\n",
        "    ax.text(i, count + 1, str(count), ha='center', va='bottom')\n",
        "\n",
        "plt.tight_layout()\n",
        "plt.show()\n",
        "\n",
        "# Primary Topic with counts\n",
        "primary_counts = df['primary_topic'].value_counts()\n",
        "\n",
        "plt.figure(figsize=(10,6))\n",
        "ax = primary_counts.plot(kind='bar', title='Primary Topic Distribution')\n",
        "plt.ylabel(\"Number of Samples\")\n",
        "plt.xlabel(\"Primary Topic\")\n",
        "plt.xticks(rotation=45, ha='right')\n",
        "\n",
        "# Add count labels\n",
        "for i, count in enumerate(primary_counts):\n",
        "    ax.text(i, count + 1, str(count), ha='center', va='bottom')\n",
        "\n",
        "plt.tight_layout()\n",
        "plt.show()\n"
      ]
    },
    {
      "cell_type": "code",
      "execution_count": 6,
      "metadata": {
        "colab": {
          "base_uri": "https://localhost:8080/"
        },
        "id": "bgdz51DNbi9X",
        "outputId": "84004766-97c6-4496-f24f-b296858fbf1f"
      },
      "outputs": [
        {
          "name": "stdout",
          "output_type": "stream",
          "text": [
            "time: 12.7 ms (started: 2025-05-28 12:05:31 +00:00)\n"
          ]
        }
      ],
      "source": [
        "#Combine \"Purely Personal\" + \"Personal in Work Context\" into a single label\n",
        "df['coarse_genre'] = df['coarse_genre'].replace({\n",
        "    'Purely Personal': 'Personal',\n",
        "    'Personal in Work Context': 'Personal'\n",
        "})"
      ]
    },
    {
      "cell_type": "code",
      "execution_count": 7,
      "metadata": {
        "colab": {
          "base_uri": "https://localhost:8080/"
        },
        "id": "W1JLUDKCKWLc",
        "outputId": "65fbec6b-6af8-4841-af30-b507753aa6ca"
      },
      "outputs": [
        {
          "name": "stdout",
          "output_type": "stream",
          "text": [
            "time: 11 ms (started: 2025-05-28 12:05:31 +00:00)\n"
          ]
        }
      ],
      "source": [
        "#Drop rows where coarse_genre is \"Empty (attachment issue)\" or \"Empty Message\"\n",
        "df = df[~df['coarse_genre'].isin(['Empty (attachment issue)', 'Empty Message'])].copy()"
      ]
    },
    {
      "cell_type": "code",
      "execution_count": 8,
      "metadata": {
        "colab": {
          "base_uri": "https://localhost:8080/"
        },
        "id": "bQlKADgvKbif",
        "outputId": "18026416-401f-441a-a1ed-f602439b54f4"
      },
      "outputs": [
        {
          "name": "stdout",
          "output_type": "stream",
          "text": [
            "time: 307 µs (started: 2025-05-28 12:05:31 +00:00)\n"
          ]
        }
      ],
      "source": [
        "# # Limit \"Company Business / Strategy\" and \"Logistics\" to max 160 rows each\n",
        "# # Separate into groups\n",
        "# df_business = df[df['coarse_genre'] == 'Company Business / Strategy'].sample(n=100, random_state=42)\n",
        "# df_logistics = df[df['coarse_genre'] == 'Logistics'].sample(n=100, random_state=42)\n",
        "# df_document = df[df['coarse_genre'] == 'Document Collaboration'].sample(n=100, random_state=42)\n",
        "# df_personal = df[df['Personal'] == 'Personal'].sample(n=100, random_state=42)\n",
        "\n",
        "# # Keep the rest as-is (all other categories)\n",
        "# df_other = df[~df['coarse_genre'].isin(['Company Business / Strategy', 'Logistics', 'Document Collaboration', 'personal'])]\n",
        "\n",
        "# # Combine into df_balanced\n",
        "# df_balanced = pd.concat([df_business, df_logistics, df_document,df_personal, df_other], ignore_index=True)"
      ]
    },
    {
      "cell_type": "code",
      "execution_count": 9,
      "metadata": {
        "colab": {
          "base_uri": "https://localhost:8080/"
        },
        "id": "7cEi7Xwomw8E",
        "outputId": "e131062c-8517-4c10-ea6a-242fd7aca079"
      },
      "outputs": [
        {
          "name": "stdout",
          "output_type": "stream",
          "text": [
            "time: 255 µs (started: 2025-05-28 12:05:31 +00:00)\n"
          ]
        }
      ],
      "source": [
        "# df_balanced = df.groupby('coarse_genre', group_keys=False).apply(lambda x: x.sample(n=min(len(x), 100), random_state=42)).reset_index(drop=True)"
      ]
    },
    {
      "cell_type": "code",
      "execution_count": 10,
      "metadata": {
        "colab": {
          "base_uri": "https://localhost:8080/"
        },
        "id": "SOKd6lfEbmAE",
        "outputId": "3af537a2-305e-40f1-e939-895dd1855c87"
      },
      "outputs": [
        {
          "name": "stdout",
          "output_type": "stream",
          "text": [
            "time: 265 µs (started: 2025-05-28 12:05:31 +00:00)\n"
          ]
        }
      ],
      "source": [
        "# import matplotlib.pyplot as plt\n",
        "\n",
        "# # Coarse Genre with counts\n",
        "# coarse_counts = df_balanced['coarse_genre'].value_counts()\n",
        "\n",
        "# plt.figure(figsize=(10,6))\n",
        "# ax = coarse_counts.plot(kind='bar', title='Coarse Genre Distribution')\n",
        "# plt.ylabel(\"Number of Samples\")\n",
        "# plt.xlabel(\"Coarse Genre\")\n",
        "# plt.xticks(rotation=45, ha='right')\n",
        "\n",
        "# # Add count labels\n",
        "# for i, count in enumerate(coarse_counts):\n",
        "#     ax.text(i, count + 1, str(count), ha='center', va='bottom')\n",
        "\n",
        "# plt.tight_layout()\n",
        "# plt.show()\n"
      ]
    },
    {
      "cell_type": "markdown",
      "metadata": {
        "id": "WhaQ4AQwb2ZW"
      },
      "source": [
        "#Download"
      ]
    },
    {
      "cell_type": "code",
      "execution_count": 11,
      "metadata": {
        "colab": {
          "base_uri": "https://localhost:8080/"
        },
        "id": "QDLeGyOaLECu",
        "outputId": "a92a54aa-cfa0-41b7-e2f1-d4831930b974"
      },
      "outputs": [
        {
          "name": "stdout",
          "output_type": "stream",
          "text": [
            "time: 197 µs (started: 2025-05-28 12:05:31 +00:00)\n"
          ]
        }
      ],
      "source": [
        "# df = df_balanced"
      ]
    },
    {
      "cell_type": "code",
      "execution_count": 12,
      "metadata": {
        "colab": {
          "base_uri": "https://localhost:8080/"
        },
        "id": "p60nBzLhb3wF",
        "outputId": "949cf670-7bb7-47ba-bd45-ba4950cfd49f"
      },
      "outputs": [
        {
          "name": "stdout",
          "output_type": "stream",
          "text": [
            "time: 41.1 s (started: 2025-05-28 12:05:31 +00:00)\n"
          ]
        }
      ],
      "source": [
        "from transformers import BertTokenizer, BertForSequenceClassification\n",
        "import torch\n",
        "torch.manual_seed(42)\n",
        "device = 'cuda' if torch.cuda.is_available() else 'cpu'"
      ]
    },
    {
      "cell_type": "markdown",
      "metadata": {
        "id": "Tvu2V6t3cPzR"
      },
      "source": [
        "#Encoding"
      ]
    },
    {
      "cell_type": "code",
      "execution_count": 13,
      "metadata": {
        "colab": {
          "base_uri": "https://localhost:8080/"
        },
        "id": "rl4gq_eIcPHR",
        "outputId": "5572e643-818c-49c3-b7f1-44d82b3a893a"
      },
      "outputs": [
        {
          "name": "stdout",
          "output_type": "stream",
          "text": [
            "time: 552 ms (started: 2025-05-28 12:06:13 +00:00)\n"
          ]
        }
      ],
      "source": [
        "# 1. Combine subject and content into one text field\n",
        "#df['text'] = df['subject'].astype(str) + ' ' + df['content'].astype(str)\n",
        "\n",
        "df['text'] = (\n",
        "    df['subject'].fillna('') + ' ' +\n",
        "    df['content'].fillna('') + ' ' +\n",
        "    df['x_folder'].fillna('') + ' ' +\n",
        "    df['x_filename'].fillna('')\n",
        ")\n",
        "\n",
        "def inject_tags(row):\n",
        "    text = row['text'].lower()\n",
        "    tags = []\n",
        "\n",
        "    if any(kw in text for kw in ['resume', 'cv', 'position', 'apply', 'hiring', 'job', 'interview', 'offer', 'candidate', 'recruit']):\n",
        "        tags.append('[EMPLOYMENT]')\n",
        "\n",
        "    if any(kw in text for kw in ['thank you', 'congratulations', 'happy birthday', 'good to see you', 'see you soon',\n",
        "                                 'sorry', 'miss you', 'talk soon', 'thanks again', 'wedding', 'dinner', 'family', 'friends']):\n",
        "        tags.append('[PERSONAL]')\n",
        "\n",
        "    if any(kw in text for kw in ['meeting', 'schedule', 'call', 'join us', 'calendar', 'time', 'zoom', 'room', 'location', 'reminder']):\n",
        "        tags.append('[LOGISTICS]')\n",
        "\n",
        "    if any(kw in text for kw in ['attached', 'document', 'review', 'spreadsheet', 'draft', 'doc', 'ppt', 'attachment', 'slides']):\n",
        "        tags.append('[DOCUMENT]')\n",
        "\n",
        "    if any(kw in text for kw in ['project', 'strategy', 'analysis', 'report', 'budget', 'client', 'contract', 'performance',\n",
        "                                 'plan', 'goal', 'financial', 'update', 'objective', 'initiative', 'proposal']):\n",
        "        tags.append('[BUSINESS]')\n",
        "\n",
        "    return ' '.join(tags) + ' ' + row['text'] if tags else row['text']\n",
        "\n",
        "df['text'] = df.apply(inject_tags, axis=1)"
      ]
    },
    {
      "cell_type": "code",
      "execution_count": 14,
      "metadata": {
        "colab": {
          "base_uri": "https://localhost:8080/"
        },
        "id": "x4Fg4B_PcWWJ",
        "outputId": "0738a845-6f7a-438e-a950-b65911817645"
      },
      "outputs": [
        {
          "name": "stdout",
          "output_type": "stream",
          "text": [
            "{'Company Business / Strategy': np.int64(0), 'Document Collaboration': np.int64(1), 'Employment': np.int64(2), 'Logistics': np.int64(3), 'Personal': np.int64(4)}\n",
            "time: 4.73 ms (started: 2025-05-28 12:06:13 +00:00)\n"
          ]
        }
      ],
      "source": [
        "# 2. Encode the target (coarse_genre)\n",
        "from sklearn.preprocessing import LabelEncoder\n",
        "\n",
        "label_encoder = LabelEncoder()\n",
        "df['label'] = label_encoder.fit_transform(df['coarse_genre'])\n",
        "\n",
        "# 3. Save the mapping (to use later for decoding predictions)\n",
        "label_mapping = dict(zip(label_encoder.classes_, label_encoder.transform(label_encoder.classes_)))\n",
        "print(label_mapping)\n"
      ]
    },
    {
      "cell_type": "markdown",
      "metadata": {
        "id": "1ipEUDsLM_uB"
      },
      "source": [
        "#Split"
      ]
    },
    {
      "cell_type": "code",
      "execution_count": 15,
      "metadata": {
        "colab": {
          "base_uri": "https://localhost:8080/"
        },
        "id": "DGptdKK_NBK9",
        "outputId": "394592c1-2d1f-409f-d27f-6318216f1166"
      },
      "outputs": [
        {
          "name": "stdout",
          "output_type": "stream",
          "text": [
            "time: 42.8 ms (started: 2025-05-28 12:06:13 +00:00)\n"
          ]
        }
      ],
      "source": [
        "from sklearn.model_selection import train_test_split\n",
        "\n",
        "train_texts, val_texts, train_labels, val_labels = train_test_split(\n",
        "    df['text'].tolist(), df['label'].tolist(),\n",
        "    test_size=0.2,\n",
        "    random_state=42,\n",
        "    stratify=df['label']\n",
        ")"
      ]
    },
    {
      "cell_type": "markdown",
      "metadata": {
        "id": "3MA-LwrMcg-N"
      },
      "source": [
        "#Tokenize"
      ]
    },
    {
      "cell_type": "code",
      "execution_count": 16,
      "metadata": {
        "colab": {
          "base_uri": "https://localhost:8080/"
        },
        "id": "Z_GypgkGcinV",
        "outputId": "16ff1131-474d-406e-cceb-4d561b690310"
      },
      "outputs": [
        {
          "name": "stderr",
          "output_type": "stream",
          "text": [
            "/usr/local/lib/python3.11/dist-packages/huggingface_hub/utils/_auth.py:94: UserWarning: \n",
            "The secret `HF_TOKEN` does not exist in your Colab secrets.\n",
            "To authenticate with the Hugging Face Hub, create a token in your settings tab (https://huggingface.co/settings/tokens), set it as secret in your Google Colab and restart your session.\n",
            "You will be able to reuse this secret in all of your notebooks.\n",
            "Please note that authentication is recommended but still optional to access public models or datasets.\n",
            "  warnings.warn(\n"
          ]
        },
        {
          "name": "stdout",
          "output_type": "stream",
          "text": [
            "time: 53.6 s (started: 2025-05-28 12:06:13 +00:00)\n"
          ]
        }
      ],
      "source": [
        "from transformers import BertTokenizer\n",
        "\n",
        "tokenizer = BertTokenizer.from_pretrained('bert-base-uncased')\n",
        "\n",
        "train_encodings = tokenizer(train_texts, truncation=True, padding=True, max_length=256)\n",
        "val_encodings = tokenizer(val_texts, truncation=True, padding=True, max_length=256)"
      ]
    },
    {
      "cell_type": "markdown",
      "metadata": {
        "id": "79k2jo-zcomY"
      },
      "source": [
        "#Dataset Class"
      ]
    },
    {
      "cell_type": "code",
      "execution_count": 17,
      "metadata": {
        "colab": {
          "base_uri": "https://localhost:8080/"
        },
        "id": "MvOrwbbFck7T",
        "outputId": "da15dbe2-aed6-4239-ca78-1f686c55d040"
      },
      "outputs": [
        {
          "name": "stdout",
          "output_type": "stream",
          "text": [
            "time: 942 µs (started: 2025-05-28 12:07:07 +00:00)\n"
          ]
        }
      ],
      "source": [
        "import torch\n",
        "from torch.utils.data import Dataset\n",
        "\n",
        "class EmailDataset(Dataset):\n",
        "    def __init__(self, encodings, labels):\n",
        "        self.encodings = encodings  # tokenizer outputs\n",
        "        self.labels = labels        # your numeric labels from LabelEncoder\n",
        "\n",
        "    def __len__(self):\n",
        "        return len(self.labels)  # how many samples in total\n",
        "\n",
        "    def __getitem__(self, idx):\n",
        "        return {\n",
        "            'input_ids': torch.tensor(self.encodings['input_ids'][idx]),\n",
        "            'attention_mask': torch.tensor(self.encodings['attention_mask'][idx]),\n",
        "            'labels': torch.tensor(self.labels[idx])\n",
        "        }"
      ]
    },
    {
      "cell_type": "code",
      "execution_count": 18,
      "metadata": {
        "colab": {
          "base_uri": "https://localhost:8080/"
        },
        "id": "ICK_F7oLcwTx",
        "outputId": "463524c0-9f3d-4803-d1cc-6ce7016f2ec4"
      },
      "outputs": [
        {
          "name": "stdout",
          "output_type": "stream",
          "text": [
            "time: 468 µs (started: 2025-05-28 12:07:07 +00:00)\n"
          ]
        }
      ],
      "source": [
        "train_dataset = EmailDataset(train_encodings, train_labels)\n",
        "val_dataset = EmailDataset(val_encodings, val_labels)"
      ]
    },
    {
      "cell_type": "markdown",
      "metadata": {
        "id": "GTjpuoDecsL6"
      },
      "source": [
        "#Bert"
      ]
    },
    {
      "cell_type": "code",
      "execution_count": 19,
      "metadata": {
        "colab": {
          "base_uri": "https://localhost:8080/"
        },
        "id": "6bRGN9Ssc8KT",
        "outputId": "0a96b35d-79f2-4c9e-afa0-316c865f4fb6"
      },
      "outputs": [
        {
          "name": "stdout",
          "output_type": "stream",
          "text": [
            "Requirement already satisfied: transformers in /usr/local/lib/python3.11/dist-packages (4.52.3)\n",
            "Requirement already satisfied: filelock in /usr/local/lib/python3.11/dist-packages (from transformers) (3.18.0)\n",
            "Requirement already satisfied: huggingface-hub<1.0,>=0.30.0 in /usr/local/lib/python3.11/dist-packages (from transformers) (0.31.4)\n",
            "Requirement already satisfied: numpy>=1.17 in /usr/local/lib/python3.11/dist-packages (from transformers) (2.0.2)\n",
            "Requirement already satisfied: packaging>=20.0 in /usr/local/lib/python3.11/dist-packages (from transformers) (24.2)\n",
            "Requirement already satisfied: pyyaml>=5.1 in /usr/local/lib/python3.11/dist-packages (from transformers) (6.0.2)\n",
            "Requirement already satisfied: regex!=2019.12.17 in /usr/local/lib/python3.11/dist-packages (from transformers) (2024.11.6)\n",
            "Requirement already satisfied: requests in /usr/local/lib/python3.11/dist-packages (from transformers) (2.32.3)\n",
            "Requirement already satisfied: tokenizers<0.22,>=0.21 in /usr/local/lib/python3.11/dist-packages (from transformers) (0.21.1)\n",
            "Requirement already satisfied: safetensors>=0.4.3 in /usr/local/lib/python3.11/dist-packages (from transformers) (0.5.3)\n",
            "Requirement already satisfied: tqdm>=4.27 in /usr/local/lib/python3.11/dist-packages (from transformers) (4.67.1)\n",
            "Requirement already satisfied: fsspec>=2023.5.0 in /usr/local/lib/python3.11/dist-packages (from huggingface-hub<1.0,>=0.30.0->transformers) (2025.3.2)\n",
            "Requirement already satisfied: typing-extensions>=3.7.4.3 in /usr/local/lib/python3.11/dist-packages (from huggingface-hub<1.0,>=0.30.0->transformers) (4.13.2)\n",
            "Requirement already satisfied: charset-normalizer<4,>=2 in /usr/local/lib/python3.11/dist-packages (from requests->transformers) (3.4.2)\n",
            "Requirement already satisfied: idna<4,>=2.5 in /usr/local/lib/python3.11/dist-packages (from requests->transformers) (3.10)\n",
            "Requirement already satisfied: urllib3<3,>=1.21.1 in /usr/local/lib/python3.11/dist-packages (from requests->transformers) (2.4.0)\n",
            "Requirement already satisfied: certifi>=2017.4.17 in /usr/local/lib/python3.11/dist-packages (from requests->transformers) (2025.4.26)\n",
            "time: 2.51 s (started: 2025-05-28 12:07:07 +00:00)\n"
          ]
        }
      ],
      "source": [
        "!pip install -U transformers"
      ]
    },
    {
      "cell_type": "code",
      "execution_count": 20,
      "metadata": {
        "colab": {
          "base_uri": "https://localhost:8080/"
        },
        "id": "IqpEj7EncsoE",
        "outputId": "f770dcff-d7d0-4ed6-f747-e7f36109009a"
      },
      "outputs": [
        {
          "name": "stderr",
          "output_type": "stream",
          "text": [
            "Some weights of BertForSequenceClassification were not initialized from the model checkpoint at bert-base-uncased and are newly initialized: ['classifier.bias', 'classifier.weight']\n",
            "You should probably TRAIN this model on a down-stream task to be able to use it for predictions and inference.\n"
          ]
        },
        {
          "name": "stdout",
          "output_type": "stream",
          "text": [
            "time: 404 ms (started: 2025-05-28 12:07:09 +00:00)\n"
          ]
        }
      ],
      "source": [
        "from transformers import BertConfig, BertForSequenceClassification\n",
        "\n",
        "num_labels = len(label_encoder.classes_)  # should match your 7 selected tags\n",
        "\n",
        "config = BertConfig.from_pretrained(\n",
        "    'bert-base-uncased',\n",
        "    num_labels=num_labels,\n",
        "    hidden_dropout_prob=0.3,              # ⬅️ Increase dropout\n",
        "    attention_probs_dropout_prob=0.3      # ⬅️ Dropout in attention layers\n",
        ")\n",
        "\n",
        "model = BertForSequenceClassification.from_pretrained(\n",
        "    'bert-base-uncased',\n",
        "    config=config\n",
        ")"
      ]
    },
    {
      "cell_type": "code",
      "execution_count": 21,
      "metadata": {
        "colab": {
          "base_uri": "https://localhost:8080/"
        },
        "id": "wtjZN9n_dUnT",
        "outputId": "4e753e2c-7e87-4b01-c617-5236bc9823df"
      },
      "outputs": [
        {
          "name": "stderr",
          "output_type": "stream",
          "text": [
            "Some weights of BertForSequenceClassification were not initialized from the model checkpoint at bert-base-uncased and are newly initialized: ['classifier.bias', 'classifier.weight']\n",
            "You should probably TRAIN this model on a down-stream task to be able to use it for predictions and inference.\n"
          ]
        },
        {
          "name": "stdout",
          "output_type": "stream",
          "text": [
            "time: 725 ms (started: 2025-05-28 12:07:10 +00:00)\n"
          ]
        }
      ],
      "source": [
        "from transformers import BertForSequenceClassification\n",
        "import torch\n",
        "from torch.optim import AdamW\n",
        "\n",
        "# Define number of labels from your label encoder\n",
        "num_labels = len(label_encoder.classes_)\n",
        "\n",
        "config = BertConfig.from_pretrained(\n",
        "    'bert-base-uncased',\n",
        "    num_labels=num_labels,\n",
        "    hidden_dropout_prob=0.4,              # ⬅️ Increase dropout\n",
        "    attention_probs_dropout_prob=0.4      # ⬅️ Dropout in attention layers\n",
        ")\n",
        "\n",
        "model = BertForSequenceClassification.from_pretrained(\n",
        "    'bert-base-uncased',\n",
        "    config=config\n",
        ")\n",
        "\n",
        "# Move model to device\n",
        "device = 'cuda' if torch.cuda.is_available() else 'cpu'\n",
        "model.to(device)\n",
        "\n",
        "# Optimizer\n",
        "optimizer = AdamW(model.parameters(), lr=2e-5)"
      ]
    },
    {
      "cell_type": "code",
      "execution_count": 22,
      "metadata": {
        "colab": {
          "base_uri": "https://localhost:8080/"
        },
        "id": "gI6ER4B0db9L",
        "outputId": "2632b1a1-0701-43bc-f551-c56a9fb4c5ac"
      },
      "outputs": [
        {
          "name": "stdout",
          "output_type": "stream",
          "text": [
            "time: 729 µs (started: 2025-05-28 12:07:10 +00:00)\n"
          ]
        }
      ],
      "source": [
        "from torch.utils.data import DataLoader\n",
        "\n",
        "# Create DataLoaders\n",
        "train_loader = DataLoader(train_dataset, batch_size=16, shuffle=True)\n",
        "val_loader = DataLoader(val_dataset, batch_size=16)"
      ]
    },
    {
      "cell_type": "code",
      "execution_count": 23,
      "metadata": {
        "colab": {
          "base_uri": "https://localhost:8080/"
        },
        "id": "TAqkVMrTdxmq",
        "outputId": "92a50aac-135f-4dea-f852-f0749ebbeb7f"
      },
      "outputs": [
        {
          "name": "stdout",
          "output_type": "stream",
          "text": [
            "time: 5.27 ms (started: 2025-05-28 12:07:10 +00:00)\n"
          ]
        }
      ],
      "source": [
        "from sklearn.utils.class_weight import compute_class_weight\n",
        "import numpy as np\n",
        "import torch\n",
        "\n",
        "# Compute weights\n",
        "class_weights = compute_class_weight(\n",
        "    class_weight='balanced',\n",
        "    classes=np.unique(train_labels),\n",
        "    y=train_labels\n",
        ")\n",
        "class_weights_tensor = torch.tensor(class_weights, dtype=torch.float).to(device)\n",
        "\n",
        "# Define weighted loss function\n",
        "loss_fn = torch.nn.CrossEntropyLoss(weight=class_weights_tensor, label_smoothing=0.1)"
      ]
    },
    {
      "cell_type": "code",
      "execution_count": 24,
      "metadata": {
        "colab": {
          "base_uri": "https://localhost:8080/"
        },
        "id": "0d8t0BXDd5wY",
        "outputId": "430c1750-db31-4e6e-eb86-637133da065d"
      },
      "outputs": [
        {
          "name": "stdout",
          "output_type": "stream",
          "text": [
            "\n",
            "🔁 Epoch 1\n"
          ]
        },
        {
          "name": "stderr",
          "output_type": "stream",
          "text": [
            "100%|██████████| 83/83 [00:52<00:00,  1.57it/s]\n"
          ]
        },
        {
          "name": "stdout",
          "output_type": "stream",
          "text": [
            "✅ Train Loss: 1.7757 | Train Acc: 0.1742\n",
            "🧪 Val   Loss: 1.7458 | Val   Acc: 0.2810\n",
            "\n",
            "🔁 Epoch 2\n"
          ]
        },
        {
          "name": "stderr",
          "output_type": "stream",
          "text": [
            "100%|██████████| 83/83 [00:53<00:00,  1.56it/s]\n"
          ]
        },
        {
          "name": "stdout",
          "output_type": "stream",
          "text": [
            "✅ Train Loss: 1.7353 | Train Acc: 0.2280\n",
            "🧪 Val   Loss: 1.7129 | Val   Acc: 0.2659\n",
            "\n",
            "🔁 Epoch 3\n"
          ]
        },
        {
          "name": "stderr",
          "output_type": "stream",
          "text": [
            "100%|██████████| 83/83 [00:53<00:00,  1.56it/s]\n"
          ]
        },
        {
          "name": "stdout",
          "output_type": "stream",
          "text": [
            "✅ Train Loss: 1.6556 | Train Acc: 0.3879\n",
            "🧪 Val   Loss: 1.6104 | Val   Acc: 0.3112\n",
            "\n",
            "🔁 Epoch 4\n"
          ]
        },
        {
          "name": "stderr",
          "output_type": "stream",
          "text": [
            "100%|██████████| 83/83 [00:53<00:00,  1.55it/s]\n"
          ]
        },
        {
          "name": "stdout",
          "output_type": "stream",
          "text": [
            "✅ Train Loss: 1.5273 | Train Acc: 0.5098\n",
            "🧪 Val   Loss: 1.5749 | Val   Acc: 0.3293\n",
            "\n",
            "🔁 Epoch 5\n"
          ]
        },
        {
          "name": "stderr",
          "output_type": "stream",
          "text": [
            "100%|██████████| 83/83 [00:53<00:00,  1.55it/s]\n"
          ]
        },
        {
          "name": "stdout",
          "output_type": "stream",
          "text": [
            "✅ Train Loss: 1.4205 | Train Acc: 0.5689\n",
            "🧪 Val   Loss: 1.4074 | Val   Acc: 0.4653\n",
            "\n",
            "🔁 Epoch 6\n"
          ]
        },
        {
          "name": "stderr",
          "output_type": "stream",
          "text": [
            "100%|██████████| 83/83 [00:53<00:00,  1.56it/s]\n"
          ]
        },
        {
          "name": "stdout",
          "output_type": "stream",
          "text": [
            "✅ Train Loss: 1.3414 | Train Acc: 0.6402\n",
            "🧪 Val   Loss: 1.4596 | Val   Acc: 0.3746\n",
            "\n",
            "🔁 Epoch 7\n"
          ]
        },
        {
          "name": "stderr",
          "output_type": "stream",
          "text": [
            "100%|██████████| 83/83 [00:53<00:00,  1.55it/s]\n"
          ]
        },
        {
          "name": "stdout",
          "output_type": "stream",
          "text": [
            "✅ Train Loss: 1.2506 | Train Acc: 0.6682\n",
            "🧪 Val   Loss: 1.4057 | Val   Acc: 0.4834\n",
            "\n",
            "🔁 Epoch 8\n"
          ]
        },
        {
          "name": "stderr",
          "output_type": "stream",
          "text": [
            "100%|██████████| 83/83 [00:53<00:00,  1.55it/s]\n"
          ]
        },
        {
          "name": "stdout",
          "output_type": "stream",
          "text": [
            "✅ Train Loss: 1.1960 | Train Acc: 0.6932\n",
            "🧪 Val   Loss: 1.5245 | Val   Acc: 0.4018\n",
            "time: 7min 41s (started: 2025-05-28 12:07:10 +00:00)\n"
          ]
        }
      ],
      "source": [
        "from sklearn.metrics import accuracy_score\n",
        "from tqdm import tqdm\n",
        "\n",
        "device = torch.device(\"cuda\" if torch.cuda.is_available() else \"cpu\")\n",
        "model.to(device)\n",
        "\n",
        "for epoch in range(8):  # Adjust number of epochs if needed\n",
        "    print(f\"\\n🔁 Epoch {epoch + 1}\")\n",
        "\n",
        "    # === TRAINING ===\n",
        "    model.train()\n",
        "    train_loss = 0\n",
        "    correct = 0\n",
        "    total = 0\n",
        "\n",
        "    for batch in tqdm(train_loader):\n",
        "        input_ids = batch['input_ids'].to(device)\n",
        "        attention_mask = batch['attention_mask'].to(device)\n",
        "        labels = batch['labels'].to(device)\n",
        "\n",
        "        optimizer.zero_grad()\n",
        "        outputs = model(input_ids, attention_mask=attention_mask)\n",
        "        loss = loss_fn(outputs.logits, labels)  # ✅ using class-weighted loss\n",
        "        train_loss += loss.item()\n",
        "\n",
        "        preds = outputs.logits.argmax(dim=1)\n",
        "        correct += (preds == labels).sum().item()\n",
        "        total += labels.size(0)\n",
        "\n",
        "        loss.backward()\n",
        "        optimizer.step()\n",
        "\n",
        "    train_acc = correct / total\n",
        "    avg_train_loss = train_loss / len(train_loader)\n",
        "\n",
        "    # === VALIDATION ===\n",
        "    model.eval()\n",
        "    val_loss = 0\n",
        "    correct = 0\n",
        "    total = 0\n",
        "\n",
        "    all_preds = []\n",
        "    all_labels = []\n",
        "\n",
        "    with torch.no_grad():\n",
        "        for batch in val_loader:\n",
        "            input_ids = batch['input_ids'].to(device)\n",
        "            attention_mask = batch['attention_mask'].to(device)\n",
        "            labels = batch['labels'].to(device)\n",
        "\n",
        "            outputs = model(input_ids, attention_mask=attention_mask)\n",
        "            loss = loss_fn(outputs.logits, labels)\n",
        "            val_loss += loss.item()\n",
        "\n",
        "            preds = outputs.logits.argmax(dim=1)\n",
        "\n",
        "            all_preds.extend(preds.cpu().tolist())\n",
        "            all_labels.extend(labels.cpu().tolist())\n",
        "\n",
        "            correct += (preds == labels).sum().item()\n",
        "            total += labels.size(0)\n",
        "\n",
        "    val_preds = all_preds\n",
        "    val_labels = all_labels\n",
        "\n",
        "    val_acc = correct / total\n",
        "    avg_val_loss = val_loss / len(val_loader)\n",
        "\n",
        "    print(f\"✅ Train Loss: {avg_train_loss:.4f} | Train Acc: {train_acc:.4f}\")\n",
        "    print(f\"🧪 Val   Loss: {avg_val_loss:.4f} | Val   Acc: {val_acc:.4f}\")\n"
      ]
    },
    {
      "cell_type": "markdown",
      "metadata": {
        "id": "-8mIpLN5d6iS"
      },
      "source": [
        "#Metrics"
      ]
    },
    {
      "cell_type": "code",
      "execution_count": 25,
      "metadata": {
        "colab": {
          "base_uri": "https://localhost:8080/"
        },
        "id": "oO9HTMqed_uI",
        "outputId": "15ebde79-452f-4f4f-ae0b-85fce288e6e2"
      },
      "outputs": [
        {
          "name": "stdout",
          "output_type": "stream",
          "text": [
            "time: 4.18 s (started: 2025-05-28 12:14:52 +00:00)\n"
          ]
        }
      ],
      "source": [
        "import numpy as np\n",
        "\n",
        "model.eval()\n",
        "all_preds = []\n",
        "all_labels = []\n",
        "\n",
        "with torch.no_grad():\n",
        "    for batch in val_loader:\n",
        "        input_ids = batch['input_ids'].to(device)\n",
        "        attention_mask = batch['attention_mask'].to(device)\n",
        "        labels = batch['labels'].to(device)\n",
        "\n",
        "        outputs = model(input_ids, attention_mask=attention_mask)\n",
        "        preds = outputs.logits.argmax(dim=1)\n",
        "\n",
        "        all_preds.extend(preds.cpu().numpy())\n",
        "        all_labels.extend(labels.cpu().numpy())\n"
      ]
    },
    {
      "cell_type": "code",
      "execution_count": 26,
      "metadata": {
        "colab": {
          "base_uri": "https://localhost:8080/"
        },
        "id": "ef0WoKWEeEkF",
        "outputId": "7574b2f6-8244-470c-e944-a9e90e158165"
      },
      "outputs": [
        {
          "name": "stdout",
          "output_type": "stream",
          "text": [
            "                             precision    recall  f1-score   support\n",
            "\n",
            "Company Business / Strategy       0.94      0.22      0.35       148\n",
            "     Document Collaboration       0.20      0.97      0.33        35\n",
            "                 Employment       0.27      0.84      0.41        19\n",
            "                  Logistics       0.75      0.47      0.57       103\n",
            "                   Personal       1.00      0.12      0.21        26\n",
            "\n",
            "                   accuracy                           0.40       331\n",
            "                  macro avg       0.63      0.52      0.37       331\n",
            "               weighted avg       0.77      0.40      0.41       331\n",
            "\n",
            "time: 17.7 ms (started: 2025-05-28 12:14:56 +00:00)\n"
          ]
        }
      ],
      "source": [
        "from sklearn.metrics import classification_report\n",
        "\n",
        "# Get label IDs sorted as they appear in label_encoder\n",
        "label_ids = list(range(len(label_encoder.classes_)))\n",
        "target_names = label_encoder.inverse_transform(label_ids)\n",
        "\n",
        "# Print report\n",
        "print(classification_report(all_labels, all_preds, target_names=target_names))\n"
      ]
    },
    {
      "cell_type": "code",
      "execution_count": 27,
      "metadata": {
        "colab": {
          "base_uri": "https://localhost:8080/",
          "height": 825
        },
        "id": "xYar3xYteJre",
        "outputId": "336018a4-b819-48c6-c0eb-72d1d7661bdd"
      },
      "outputs": [
        {
          "data": {
            "image/png": "[encoded data removed]",
            "text/plain": [
              "<Figure size 1000x800 with 2 Axes>"
            ]
          },
          "metadata": {},
          "output_type": "display_data"
        },
        {
          "name": "stdout",
          "output_type": "stream",
          "text": [
            "time: 941 ms (started: 2025-05-28 12:14:56 +00:00)\n"
          ]
        }
      ],
      "source": [
        "from sklearn.metrics import confusion_matrix\n",
        "import seaborn as sns\n",
        "import matplotlib.pyplot as plt\n",
        "\n",
        "# Compute confusion matrix\n",
        "cm = confusion_matrix(all_labels, all_preds)\n",
        "\n",
        "# Plot\n",
        "plt.figure(figsize=(10, 8))\n",
        "sns.heatmap(cm, annot=True, fmt='d', cmap='Blues',\n",
        "            xticklabels=target_names,\n",
        "            yticklabels=target_names)\n",
        "\n",
        "plt.xlabel('Predicted')\n",
        "plt.ylabel('True')\n",
        "plt.title('Confusion Matrix')\n",
        "plt.xticks(rotation=45, ha='right')\n",
        "plt.yticks(rotation=0)\n",
        "plt.tight_layout()\n",
        "plt.show()\n"
      ]
    },
    {
      "cell_type": "code",
      "execution_count": 28,
      "metadata": {
        "colab": {
          "base_uri": "https://localhost:8080/",
          "height": 290
        },
        "id": "blibN1lQkd1O",
        "outputId": "72d7a7fe-1484-4fcb-f11c-78fd8bf05eb4"
      },
      "outputs": [
        {
          "data": {
            "text/html": [
              "<div>\n",
              "<style scoped>\n",
              "    .dataframe tbody tr th:only-of-type {\n",
              "        vertical-align: middle;\n",
              "    }\n",
              "\n",
              "    .dataframe tbody tr th {\n",
              "        vertical-align: top;\n",
              "    }\n",
              "\n",
              "    .dataframe thead th {\n",
              "        text-align: right;\n",
              "    }\n",
              "</style>\n",
              "<table border=\"1\" class=\"dataframe\">\n",
              "  <thead>\n",
              "    <tr style=\"text-align: right;\">\n",
              "      <th></th>\n",
              "      <th>count</th>\n",
              "    </tr>\n",
              "    <tr>\n",
              "      <th>coarse_genre</th>\n",
              "      <th></th>\n",
              "    </tr>\n",
              "  </thead>\n",
              "  <tbody>\n",
              "    <tr>\n",
              "      <th>Company Business / Strategy</th>\n",
              "      <td>740</td>\n",
              "    </tr>\n",
              "    <tr>\n",
              "      <th>Logistics</th>\n",
              "      <td>512</td>\n",
              "    </tr>\n",
              "    <tr>\n",
              "      <th>Document Collaboration</th>\n",
              "      <td>174</td>\n",
              "    </tr>\n",
              "    <tr>\n",
              "      <th>Personal</th>\n",
              "      <td>132</td>\n",
              "    </tr>\n",
              "    <tr>\n",
              "      <th>Employment</th>\n",
              "      <td>93</td>\n",
              "    </tr>\n",
              "  </tbody>\n",
              "</table>\n",
              "</div><br><label><b>dtype:</b> int64</label>"
            ],
            "text/plain": [
              "coarse_genre\n",
              "Company Business / Strategy    740\n",
              "Logistics                      512\n",
              "Document Collaboration         174\n",
              "Personal                       132\n",
              "Employment                      93\n",
              "Name: count, dtype: int64"
            ]
          },
          "execution_count": 28,
          "metadata": {},
          "output_type": "execute_result"
        },
        {
          "name": "stdout",
          "output_type": "stream",
          "text": [
            "time: 8.09 ms (started: 2025-05-28 12:14:57 +00:00)\n"
          ]
        }
      ],
      "source": [
        "df['coarse_genre'].value_counts()"
      ]
    },
    {
      "cell_type": "code",
      "execution_count": 29,
      "metadata": {
        "colab": {
          "base_uri": "https://localhost:8080/"
        },
        "id": "61a3DoBXs4Qc",
        "outputId": "ef923818-0592-4e2f-843d-6404a914c6ce"
      },
      "outputs": [
        {
          "name": "stdout",
          "output_type": "stream",
          "text": [
            "time: 213 ms (started: 2025-05-28 12:14:57 +00:00)\n"
          ]
        }
      ],
      "source": [
        "import pandas as pd\n",
        "\n",
        "# Rebuild the label decoding map\n",
        "inv_label_map = {v: k for k, v in label_mapping.items()}\n",
        "\n",
        "# Convert numeric labels to strings\n",
        "true_labels_text = [inv_label_map[i] for i in val_labels]\n",
        "pred_labels_text = [inv_label_map[i] for i in val_preds]\n",
        "\n",
        "# # Build evaluation DataFrame\n",
        "# df_eval = pd.DataFrame({\n",
        "#     'text': val_texts,\n",
        "#     'true_label': true_labels_text,\n",
        "#     'pred_label': pred_labels_text\n",
        "# })\n",
        "\n",
        "val_texts_used = [val_texts[i] for i in range(len(val_labels))]\n",
        "\n",
        "df_eval = pd.DataFrame({\n",
        "    'text': val_texts_used,\n",
        "    'true_label': [inv_label_map[i] for i in val_labels],\n",
        "    'pred_label': [inv_label_map[i] for i in val_preds]\n",
        "})\n",
        "\n",
        "\n",
        "# Save to CSV\n",
        "df_eval.to_csv(\"model_eval_results.csv\", index=False)\n"
      ]
    },
    {
      "cell_type": "code",
      "execution_count": 30,
      "metadata": {
        "colab": {
          "base_uri": "https://localhost:8080/",
          "height": 35
        },
        "id": "O1me6wK6s56R",
        "outputId": "3fefbff5-11b9-43ba-de9f-06ab511c7091"
      },
      "outputs": [
        {
          "data": {
            "application/javascript": "\n    async function download(id, filename, size) {\n      if (!google.colab.kernel.accessAllowed) {\n        return;\n      }\n      const div = document.createElement('div');\n      const label = document.createElement('label');\n      label.textContent = `Downloading \"${filename}\": `;\n      div.appendChild(label);\n      const progress = document.createElement('progress');\n      progress.max = size;\n      div.appendChild(progress);\n      document.body.appendChild(div);\n\n      const buffers = [];\n      let downloaded = 0;\n\n      const channel = await google.colab.kernel.comms.open(id);\n      // Send a message to notify the kernel that we're ready.\n      channel.send({})\n\n      for await (const message of channel.messages) {\n        // Send a message to notify the kernel that we're ready.\n        channel.send({})\n        if (message.buffers) {\n          for (const buffer of message.buffers) {\n            buffers.push(buffer);\n            downloaded += buffer.byteLength;\n            progress.value = downloaded;\n          }\n        }\n      }\n      const blob = new Blob(buffers, {type: 'application/binary'});\n      const a = document.createElement('a');\n      a.href = window.URL.createObjectURL(blob);\n      a.download = filename;\n      div.appendChild(a);\n      a.click();\n      div.remove();\n    }\n  ",
            "text/plain": [
              "<IPython.core.display.Javascript object>"
            ]
          },
          "metadata": {},
          "output_type": "display_data"
        },
        {
          "data": {
            "application/javascript": "download(\"download_f8e7bf38-32e5-4f9c-bba6-1186b4944a22\", \"model_eval_results.csv\", 1929395)",
            "text/plain": [
              "<IPython.core.display.Javascript object>"
            ]
          },
          "metadata": {},
          "output_type": "display_data"
        },
        {
          "name": "stdout",
          "output_type": "stream",
          "text": [
            "time: 8.33 ms (started: 2025-05-28 12:14:57 +00:00)\n"
          ]
        }
      ],
      "source": [
        "from google.colab import files\n",
        "files.download(\"model_eval_results.csv\")"
      ]
    },
    {
      "cell_type": "markdown",
      "metadata": {
        "id": "S-5j5NqP3Ifx"
      },
      "source": [
        "#Improve"
      ]
    },
    {
      "cell_type": "code",
      "execution_count": 31,
      "metadata": {
        "colab": {
          "base_uri": "https://localhost:8080/"
        },
        "id": "2E-u235B3LwC",
        "outputId": "7cb9d31b-0d5e-43bb-c4e2-18095620c69f"
      },
      "outputs": [
        {
          "name": "stdout",
          "output_type": "stream",
          "text": [
            "time: 104 ms (started: 2025-05-28 12:14:57 +00:00)\n"
          ]
        }
      ],
      "source": [
        "# Step 1: Load model prediction results\n",
        "df_errors = pd.read_csv(\"model_eval_results.csv\")\n",
        "\n",
        "# Step 2: Keep only misclassified samples\n",
        "df_misclassified = df_errors[df_errors['true_label'] != df_errors['pred_label']]\n",
        "\n",
        "# Step 3: Merge into your labeled training DataFrame\n",
        "# You need to map text to original df to recover label numbers\n",
        "df_misclassified = df_misclassified.merge(\n",
        "    df[['text', 'label']], on='text', how='left'\n",
        ")\n",
        "\n",
        "# Step 4: Append misclassified rows to original df\n",
        "df_boosted = pd.concat([df, df_misclassified], ignore_index=True)\n",
        "\n",
        "# ✅ Optional: Shuffle\n",
        "df_boosted = df_boosted.sample(frac=1.0, random_state=42).reset_index(drop=True)\n",
        "\n",
        "# 🔁 From here, continue with df_boosted instead of df:\n",
        "# encoding, train/val split, tokenizer, model training, etc.\n"
      ]
    },
    {
      "cell_type": "markdown",
      "metadata": {
        "id": "NoBHqa0R3dzP"
      },
      "source": [
        "##Encoding"
      ]
    },
    {
      "cell_type": "code",
      "execution_count": 32,
      "metadata": {
        "colab": {
          "base_uri": "https://localhost:8080/"
        },
        "id": "4XBJ3drh3fBt",
        "outputId": "263e5266-f6f0-4a3e-ac9e-3bdcb6f587fc"
      },
      "outputs": [
        {
          "name": "stdout",
          "output_type": "stream",
          "text": [
            "time: 338 ms (started: 2025-05-28 12:14:57 +00:00)\n"
          ]
        }
      ],
      "source": [
        "# 1. Combine subject and content into one text field\n",
        "#df['text'] = df['subject'].astype(str) + ' ' + df['content'].astype(str)\n",
        "\n",
        "df_boosted['text'] = (\n",
        "    df_boosted['subject'].fillna('') + ' ' +\n",
        "    df_boosted['content'].fillna('') + ' ' +\n",
        "    df_boosted['x_folder'].fillna('') + ' ' +\n",
        "    df_boosted['x_filename'].fillna('')\n",
        ")\n",
        "\n",
        "def inject_tags(row):\n",
        "    text = row['text'].lower()\n",
        "    tags = []\n",
        "\n",
        "    if any(kw in text for kw in ['resume', 'cv', 'position', 'apply', 'hiring', 'job', 'interview', 'offer', 'candidate', 'recruit']):\n",
        "        tags.append('[EMPLOYMENT]')\n",
        "\n",
        "    if any(kw in text for kw in ['thank you', 'congratulations', 'happy birthday', 'good to see you', 'see you soon',\n",
        "                                 'sorry', 'miss you', 'talk soon', 'thanks again', 'wedding', 'dinner', 'family', 'friends']):\n",
        "        tags.append('[PERSONAL]')\n",
        "\n",
        "    if any(kw in text for kw in ['meeting', 'schedule', 'call', 'join us', 'calendar', 'time', 'zoom', 'room', 'location', 'reminder']):\n",
        "        tags.append('[LOGISTICS]')\n",
        "\n",
        "    if any(kw in text for kw in ['attached', 'document', 'review', 'spreadsheet', 'draft', 'doc', 'ppt', 'attachment', 'slides']):\n",
        "        tags.append('[DOCUMENT]')\n",
        "\n",
        "    if any(kw in text for kw in ['project', 'strategy', 'analysis', 'report', 'budget', 'client', 'contract', 'performance',\n",
        "                                 'plan', 'goal', 'financial', 'update', 'objective', 'initiative', 'proposal']):\n",
        "        tags.append('[BUSINESS]')\n",
        "\n",
        "    return ' '.join(tags) + ' ' + row['text'] if tags else row['text']\n",
        "\n",
        "df_boosted['text'] = df_boosted.apply(inject_tags, axis=1)"
      ]
    },
    {
      "cell_type": "code",
      "execution_count": 33,
      "metadata": {
        "colab": {
          "base_uri": "https://localhost:8080/"
        },
        "id": "9mde__X33t-8",
        "outputId": "d6f0885a-37ac-4982-c567-d460cc0ba8d1"
      },
      "outputs": [
        {
          "name": "stdout",
          "output_type": "stream",
          "text": [
            "{'Company Business / Strategy': np.int64(0), 'Document Collaboration': np.int64(1), 'Employment': np.int64(2), 'Logistics': np.int64(3), 'Personal': np.int64(4), nan: np.int64(5)}\n",
            "time: 2.48 ms (started: 2025-05-28 12:14:58 +00:00)\n"
          ]
        }
      ],
      "source": [
        "# 2. Encode the target (coarse_genre)\n",
        "from sklearn.preprocessing import LabelEncoder\n",
        "\n",
        "label_encoder = LabelEncoder()\n",
        "df_boosted['label'] = label_encoder.fit_transform(df_boosted['coarse_genre'])\n",
        "\n",
        "# 3. Save the mapping (to use later for decoding predictions)\n",
        "label_mapping = dict(zip(label_encoder.classes_, label_encoder.transform(label_encoder.classes_)))\n",
        "print(label_mapping)\n"
      ]
    },
    {
      "cell_type": "markdown",
      "metadata": {
        "id": "KxId1E4U33y2"
      },
      "source": [
        "##Split"
      ]
    },
    {
      "cell_type": "code",
      "execution_count": 34,
      "metadata": {
        "colab": {
          "base_uri": "https://localhost:8080/"
        },
        "id": "FXZKvGuy34_j",
        "outputId": "0f9ca41b-2a2a-483b-bc0e-0bfe7b7634d9"
      },
      "outputs": [
        {
          "name": "stdout",
          "output_type": "stream",
          "text": [
            "time: 25.7 ms (started: 2025-05-28 12:14:58 +00:00)\n"
          ]
        }
      ],
      "source": [
        "# from sklearn.model_selection import train_test_split\n",
        "\n",
        "# train_texts, val_texts, train_labels, val_labels = train_test_split(\n",
        "#     df_boosted['text'].tolist(), df_boosted['label'].tolist(),\n",
        "#     test_size=0.2,\n",
        "#     random_state=42,\n",
        "#     stratify=df_boosted['label']\n",
        "# )\n",
        "\n",
        "# val_texts = df_boosted_2.loc[val_indices, 'text'].tolist()\n",
        "\n",
        "from sklearn.model_selection import train_test_split\n",
        "\n",
        "# Split using indices so we can fetch correct val_texts later\n",
        "indices = list(range(len(df_boosted)))\n",
        "train_idx, val_idx = train_test_split(\n",
        "    indices,\n",
        "    test_size=0.2,\n",
        "    random_state=42,\n",
        "    stratify=df_boosted['label']\n",
        ")\n",
        "\n",
        "# Create splits\n",
        "train_texts = df_boosted.loc[train_idx, 'text'].tolist()\n",
        "train_labels = df_boosted.loc[train_idx, 'label'].tolist()\n",
        "\n",
        "val_texts = df_boosted.loc[val_idx, 'text'].tolist()\n",
        "val_labels = df_boosted.loc[val_idx, 'label'].tolist()"
      ]
    },
    {
      "cell_type": "markdown",
      "metadata": {
        "id": "9EX_5038Q2jU"
      },
      "source": [
        "##Tokenize"
      ]
    },
    {
      "cell_type": "code",
      "execution_count": 35,
      "metadata": {
        "colab": {
          "base_uri": "https://localhost:8080/"
        },
        "id": "UCalYyM1Q351",
        "outputId": "58e418a9-3fb9-49a7-fdfb-4684112d6e24"
      },
      "outputs": [
        {
          "name": "stdout",
          "output_type": "stream",
          "text": [
            "time: 60 s (started: 2025-05-28 12:14:58 +00:00)\n"
          ]
        }
      ],
      "source": [
        "from transformers import BertTokenizer\n",
        "\n",
        "tokenizer = BertTokenizer.from_pretrained('bert-base-uncased')\n",
        "\n",
        "train_encodings = tokenizer(train_texts, truncation=True, padding=True, max_length=256)\n",
        "val_encodings = tokenizer(val_texts, truncation=True, padding=True, max_length=256)"
      ]
    },
    {
      "cell_type": "markdown",
      "metadata": {
        "id": "TaaaSIY0Q9yu"
      },
      "source": [
        "##DataSet Class"
      ]
    },
    {
      "cell_type": "code",
      "execution_count": 36,
      "metadata": {
        "colab": {
          "base_uri": "https://localhost:8080/"
        },
        "id": "_c_YxifFRLG-",
        "outputId": "d68077a8-8075-428f-e78a-ce3da6efcce8"
      },
      "outputs": [
        {
          "name": "stdout",
          "output_type": "stream",
          "text": [
            "time: 849 µs (started: 2025-05-28 12:15:58 +00:00)\n"
          ]
        }
      ],
      "source": [
        "import torch\n",
        "from torch.utils.data import Dataset\n",
        "\n",
        "class EmailDataset(Dataset):\n",
        "    def __init__(self, encodings, labels):\n",
        "        self.encodings = encodings  # tokenizer outputs\n",
        "        self.labels = labels        # your numeric labels from LabelEncoder\n",
        "\n",
        "    def __len__(self):\n",
        "        return len(self.labels)  # how many samples in total\n",
        "\n",
        "    def __getitem__(self, idx):\n",
        "        return {\n",
        "            'input_ids': torch.tensor(self.encodings['input_ids'][idx]),\n",
        "            'attention_mask': torch.tensor(self.encodings['attention_mask'][idx]),\n",
        "            'labels': torch.tensor(self.labels[idx])\n",
        "        }"
      ]
    },
    {
      "cell_type": "code",
      "execution_count": 37,
      "metadata": {
        "colab": {
          "base_uri": "https://localhost:8080/"
        },
        "id": "k1i4Px1rRPGS",
        "outputId": "52ec53cb-cb30-4b72-89c5-18d1a1c9e0e8"
      },
      "outputs": [
        {
          "name": "stdout",
          "output_type": "stream",
          "text": [
            "time: 420 µs (started: 2025-05-28 12:15:58 +00:00)\n"
          ]
        }
      ],
      "source": [
        "train_dataset = EmailDataset(train_encodings, train_labels)\n",
        "val_dataset = EmailDataset(val_encodings, val_labels)"
      ]
    },
    {
      "cell_type": "markdown",
      "metadata": {
        "id": "Gx1GfDS74hV8"
      },
      "source": [
        "##Train"
      ]
    },
    {
      "cell_type": "code",
      "execution_count": 38,
      "metadata": {
        "colab": {
          "base_uri": "https://localhost:8080/"
        },
        "id": "PNVkS3ky4i2U",
        "outputId": "056fa8f5-62f0-4498-9d89-03e2927d3ff3"
      },
      "outputs": [
        {
          "name": "stdout",
          "output_type": "stream",
          "text": [
            "\n",
            "🔁 Epoch 1\n"
          ]
        },
        {
          "name": "stderr",
          "output_type": "stream",
          "text": [
            "100%|██████████| 83/83 [00:53<00:00,  1.54it/s]\n"
          ]
        },
        {
          "name": "stdout",
          "output_type": "stream",
          "text": [
            "✅ Train Loss: 1.1679 | Train Acc: 0.7045\n",
            "🧪 Val   Loss: 1.4865 | Val   Acc: 0.4653\n",
            "\n",
            "🔁 Epoch 2\n"
          ]
        },
        {
          "name": "stderr",
          "output_type": "stream",
          "text": [
            "100%|██████████| 83/83 [00:53<00:00,  1.56it/s]\n"
          ]
        },
        {
          "name": "stdout",
          "output_type": "stream",
          "text": [
            "✅ Train Loss: 1.0665 | Train Acc: 0.7447\n",
            "🧪 Val   Loss: 1.4061 | Val   Acc: 0.5257\n",
            "\n",
            "🔁 Epoch 3\n"
          ]
        },
        {
          "name": "stderr",
          "output_type": "stream",
          "text": [
            "100%|██████████| 83/83 [00:53<00:00,  1.55it/s]\n"
          ]
        },
        {
          "name": "stdout",
          "output_type": "stream",
          "text": [
            "✅ Train Loss: 1.0172 | Train Acc: 0.7705\n",
            "🧪 Val   Loss: 1.4497 | Val   Acc: 0.5559\n",
            "\n",
            "🔁 Epoch 4\n"
          ]
        },
        {
          "name": "stderr",
          "output_type": "stream",
          "text": [
            "100%|██████████| 83/83 [00:53<00:00,  1.55it/s]\n"
          ]
        },
        {
          "name": "stdout",
          "output_type": "stream",
          "text": [
            "✅ Train Loss: 0.9690 | Train Acc: 0.7871\n",
            "🧪 Val   Loss: 1.4135 | Val   Acc: 0.6193\n",
            "\n",
            "🔁 Epoch 5\n"
          ]
        },
        {
          "name": "stderr",
          "output_type": "stream",
          "text": [
            "100%|██████████| 83/83 [00:53<00:00,  1.55it/s]\n"
          ]
        },
        {
          "name": "stdout",
          "output_type": "stream",
          "text": [
            "✅ Train Loss: 0.9286 | Train Acc: 0.8167\n",
            "🧪 Val   Loss: 1.6064 | Val   Acc: 0.5438\n",
            "\n",
            "🔁 Epoch 6\n"
          ]
        },
        {
          "name": "stderr",
          "output_type": "stream",
          "text": [
            "100%|██████████| 83/83 [00:53<00:00,  1.55it/s]\n"
          ]
        },
        {
          "name": "stdout",
          "output_type": "stream",
          "text": [
            "✅ Train Loss: 0.9033 | Train Acc: 0.8265\n",
            "🧪 Val   Loss: 1.4988 | Val   Acc: 0.5680\n",
            "\n",
            "🔁 Epoch 7\n"
          ]
        },
        {
          "name": "stderr",
          "output_type": "stream",
          "text": [
            "100%|██████████| 83/83 [00:53<00:00,  1.56it/s]\n"
          ]
        },
        {
          "name": "stdout",
          "output_type": "stream",
          "text": [
            "✅ Train Loss: 0.8516 | Train Acc: 0.8629\n",
            "🧪 Val   Loss: 1.4459 | Val   Acc: 0.6254\n",
            "\n",
            "🔁 Epoch 8\n"
          ]
        },
        {
          "name": "stderr",
          "output_type": "stream",
          "text": [
            "100%|██████████| 83/83 [00:53<00:00,  1.56it/s]\n"
          ]
        },
        {
          "name": "stdout",
          "output_type": "stream",
          "text": [
            "✅ Train Loss: 0.8467 | Train Acc: 0.8765\n",
            "🧪 Val   Loss: 1.5492 | Val   Acc: 0.5710\n",
            "time: 7min 42s (started: 2025-05-28 12:15:58 +00:00)\n"
          ]
        }
      ],
      "source": [
        "from sklearn.metrics import accuracy_score\n",
        "from tqdm import tqdm\n",
        "\n",
        "device = torch.device(\"cuda\" if torch.cuda.is_available() else \"cpu\")\n",
        "model.to(device)\n",
        "\n",
        "for epoch in range(8):  # Adjust number of epochs if needed\n",
        "    print(f\"\\n🔁 Epoch {epoch + 1}\")\n",
        "\n",
        "    # === TRAINING ===\n",
        "    model.train()\n",
        "    train_loss = 0\n",
        "    correct = 0\n",
        "    total = 0\n",
        "\n",
        "    for batch in tqdm(train_loader):\n",
        "        input_ids = batch['input_ids'].to(device)\n",
        "        attention_mask = batch['attention_mask'].to(device)\n",
        "        labels = batch['labels'].to(device)\n",
        "\n",
        "        optimizer.zero_grad()\n",
        "        outputs = model(input_ids, attention_mask=attention_mask)\n",
        "        loss = loss_fn(outputs.logits, labels)  # ✅ using class-weighted loss\n",
        "        train_loss += loss.item()\n",
        "\n",
        "        preds = outputs.logits.argmax(dim=1)\n",
        "        correct += (preds == labels).sum().item()\n",
        "        total += labels.size(0)\n",
        "\n",
        "        loss.backward()\n",
        "        optimizer.step()\n",
        "\n",
        "    train_acc = correct / total\n",
        "    avg_train_loss = train_loss / len(train_loader)\n",
        "\n",
        "    # === VALIDATION ===\n",
        "    model.eval()\n",
        "    val_loss = 0\n",
        "    correct = 0\n",
        "    total = 0\n",
        "\n",
        "    all_preds = []\n",
        "    all_labels = []\n",
        "\n",
        "    with torch.no_grad():\n",
        "        for batch in val_loader:\n",
        "            input_ids = batch['input_ids'].to(device)\n",
        "            attention_mask = batch['attention_mask'].to(device)\n",
        "            labels = batch['labels'].to(device)\n",
        "\n",
        "            outputs = model(input_ids, attention_mask=attention_mask)\n",
        "            loss = loss_fn(outputs.logits, labels)\n",
        "            val_loss += loss.item()\n",
        "\n",
        "            preds = outputs.logits.argmax(dim=1)\n",
        "\n",
        "            all_preds.extend(preds.cpu().tolist())\n",
        "            all_labels.extend(labels.cpu().tolist())\n",
        "\n",
        "            correct += (preds == labels).sum().item()\n",
        "            total += labels.size(0)\n",
        "\n",
        "    val_preds = all_preds\n",
        "    val_labels = all_labels\n",
        "\n",
        "    val_acc = correct / total\n",
        "    avg_val_loss = val_loss / len(val_loader)\n",
        "\n",
        "    print(f\"✅ Train Loss: {avg_train_loss:.4f} | Train Acc: {train_acc:.4f}\")\n",
        "    print(f\"🧪 Val   Loss: {avg_val_loss:.4f} | Val   Acc: {val_acc:.4f}\")\n"
      ]
    },
    {
      "cell_type": "markdown",
      "metadata": {
        "id": "sIaH_OfV48oe"
      },
      "source": [
        "##Metrics"
      ]
    },
    {
      "cell_type": "code",
      "execution_count": 39,
      "metadata": {
        "colab": {
          "base_uri": "https://localhost:8080/"
        },
        "id": "tB9Ul8U248of",
        "outputId": "76718a0b-3454-43be-c08c-6abe03b63e60"
      },
      "outputs": [
        {
          "name": "stdout",
          "output_type": "stream",
          "text": [
            "time: 4.14 s (started: 2025-05-28 12:23:40 +00:00)\n"
          ]
        }
      ],
      "source": [
        "import numpy as np\n",
        "\n",
        "model.eval()\n",
        "all_preds = []\n",
        "all_labels = []\n",
        "\n",
        "with torch.no_grad():\n",
        "    for batch in val_loader:\n",
        "        input_ids = batch['input_ids'].to(device)\n",
        "        attention_mask = batch['attention_mask'].to(device)\n",
        "        labels = batch['labels'].to(device)\n",
        "\n",
        "        outputs = model(input_ids, attention_mask=attention_mask)\n",
        "        preds = outputs.logits.argmax(dim=1)\n",
        "\n",
        "        all_preds.extend(preds.cpu().numpy())\n",
        "        all_labels.extend(labels.cpu().numpy())\n"
      ]
    },
    {
      "cell_type": "code",
      "execution_count": 40,
      "metadata": {
        "colab": {
          "base_uri": "https://localhost:8080/"
        },
        "id": "sFWcn5sI48oh",
        "outputId": "94cd51e0-8b7b-4521-a083-855e7fe38a2b"
      },
      "outputs": [
        {
          "name": "stdout",
          "output_type": "stream",
          "text": [
            "                             precision    recall  f1-score   support\n",
            "\n",
            "Company Business / Strategy       0.87      0.45      0.60       148\n",
            "     Document Collaboration       0.25      0.86      0.38        35\n",
            "                 Employment       0.48      0.74      0.58        19\n",
            "                  Logistics       0.76      0.66      0.71       103\n",
            "                   Personal       0.71      0.38      0.50        26\n",
            "\n",
            "                   accuracy                           0.57       331\n",
            "                  macro avg       0.62      0.62      0.55       331\n",
            "               weighted avg       0.74      0.57      0.60       331\n",
            "\n",
            "time: 16.7 ms (started: 2025-05-28 12:23:44 +00:00)\n"
          ]
        }
      ],
      "source": [
        "from sklearn.metrics import classification_report\n",
        "\n",
        "# Get label IDs sorted as they appear in label_encoder\n",
        "label_ids = list(range(len(label_encoder.classes_)))\n",
        "target_names = label_encoder.inverse_transform(label_ids)\n",
        "\n",
        "# Print report\n",
        "from sklearn.utils.multiclass import unique_labels\n",
        "\n",
        "labels_in_val = unique_labels(all_labels, all_preds)\n",
        "print(classification_report(all_labels, all_preds, labels=labels_in_val, target_names=[inv_label_map[i] for i in labels_in_val]))\n"
      ]
    },
    {
      "cell_type": "code",
      "execution_count": 41,
      "metadata": {
        "colab": {
          "base_uri": "https://localhost:8080/",
          "height": 825
        },
        "id": "svWh7Clv48oi",
        "outputId": "0159658b-38e4-4e9c-ec59-8d63ad488abf"
      },
      "outputs": [
        {
          "data": {
            "image/png": "[encoded data removed]",
            "text/plain": [
              "<Figure size 1000x800 with 2 Axes>"
            ]
          },
          "metadata": {},
          "output_type": "display_data"
        },
        {
          "name": "stdout",
          "output_type": "stream",
          "text": [
            "time: 382 ms (started: 2025-05-28 12:23:44 +00:00)\n"
          ]
        }
      ],
      "source": [
        "from sklearn.metrics import confusion_matrix\n",
        "import seaborn as sns\n",
        "import matplotlib.pyplot as plt\n",
        "\n",
        "# Compute confusion matrix\n",
        "cm = confusion_matrix(all_labels, all_preds)\n",
        "\n",
        "# Plot\n",
        "plt.figure(figsize=(10, 8))\n",
        "sns.heatmap(cm, annot=True, fmt='d', cmap='Blues',\n",
        "            xticklabels=target_names,\n",
        "            yticklabels=target_names)\n",
        "\n",
        "plt.xlabel('Predicted')\n",
        "plt.ylabel('True')\n",
        "plt.title('Confusion Matrix')\n",
        "plt.xticks(rotation=45, ha='right')\n",
        "plt.yticks(rotation=0)\n",
        "plt.tight_layout()\n",
        "plt.show()\n"
      ]
    },
    {
      "cell_type": "code",
      "execution_count": 42,
      "metadata": {
        "colab": {
          "base_uri": "https://localhost:8080/",
          "height": 290
        },
        "id": "bfLuJgge48oj",
        "outputId": "ea7fa0c7-f3bc-413d-deff-9454f6c70dba"
      },
      "outputs": [
        {
          "data": {
            "text/html": [
              "<div>\n",
              "<style scoped>\n",
              "    .dataframe tbody tr th:only-of-type {\n",
              "        vertical-align: middle;\n",
              "    }\n",
              "\n",
              "    .dataframe tbody tr th {\n",
              "        vertical-align: top;\n",
              "    }\n",
              "\n",
              "    .dataframe thead th {\n",
              "        text-align: right;\n",
              "    }\n",
              "</style>\n",
              "<table border=\"1\" class=\"dataframe\">\n",
              "  <thead>\n",
              "    <tr style=\"text-align: right;\">\n",
              "      <th></th>\n",
              "      <th>count</th>\n",
              "    </tr>\n",
              "    <tr>\n",
              "      <th>coarse_genre</th>\n",
              "      <th></th>\n",
              "    </tr>\n",
              "  </thead>\n",
              "  <tbody>\n",
              "    <tr>\n",
              "      <th>Company Business / Strategy</th>\n",
              "      <td>740</td>\n",
              "    </tr>\n",
              "    <tr>\n",
              "      <th>Logistics</th>\n",
              "      <td>512</td>\n",
              "    </tr>\n",
              "    <tr>\n",
              "      <th>Document Collaboration</th>\n",
              "      <td>174</td>\n",
              "    </tr>\n",
              "    <tr>\n",
              "      <th>Personal</th>\n",
              "      <td>132</td>\n",
              "    </tr>\n",
              "    <tr>\n",
              "      <th>Employment</th>\n",
              "      <td>93</td>\n",
              "    </tr>\n",
              "  </tbody>\n",
              "</table>\n",
              "</div><br><label><b>dtype:</b> int64</label>"
            ],
            "text/plain": [
              "coarse_genre\n",
              "Company Business / Strategy    740\n",
              "Logistics                      512\n",
              "Document Collaboration         174\n",
              "Personal                       132\n",
              "Employment                      93\n",
              "Name: count, dtype: int64"
            ]
          },
          "execution_count": 42,
          "metadata": {},
          "output_type": "execute_result"
        },
        {
          "name": "stdout",
          "output_type": "stream",
          "text": [
            "time: 10.3 ms (started: 2025-05-28 12:23:45 +00:00)\n"
          ]
        }
      ],
      "source": [
        "df['coarse_genre'].value_counts()"
      ]
    },
    {
      "cell_type": "code",
      "execution_count": 43,
      "metadata": {
        "colab": {
          "base_uri": "https://localhost:8080/"
        },
        "id": "WiS73y31KUPG",
        "outputId": "ec7ec2e2-6f78-4973-94e4-0b122a3acd22"
      },
      "outputs": [
        {
          "name": "stdout",
          "output_type": "stream",
          "text": [
            "val_texts: 370\n",
            "val_labels: 331\n",
            "val_preds: 331\n",
            "time: 705 µs (started: 2025-05-28 12:23:45 +00:00)\n"
          ]
        }
      ],
      "source": [
        "print(\"val_texts:\", len(val_texts))\n",
        "print(\"val_labels:\", len(val_labels))\n",
        "print(\"val_preds:\", len(val_preds))"
      ]
    },
    {
      "cell_type": "code",
      "execution_count": 44,
      "metadata": {
        "colab": {
          "base_uri": "https://localhost:8080/"
        },
        "id": "y1crjgmTFSHu",
        "outputId": "ffd767ee-724e-4266-af6f-9bf5f891c36f"
      },
      "outputs": [
        {
          "name": "stdout",
          "output_type": "stream",
          "text": [
            "time: 105 ms (started: 2025-05-28 12:23:45 +00:00)\n"
          ]
        }
      ],
      "source": [
        "import pandas as pd\n",
        "\n",
        "# Rebuild the label decoding map\n",
        "inv_label_map = {v: k for k, v in label_mapping.items()}\n",
        "\n",
        "# Convert numeric labels to strings\n",
        "true_labels_text = [inv_label_map[i] for i in val_labels]\n",
        "pred_labels_text = [inv_label_map[i] for i in val_preds]\n",
        "\n",
        "val_texts = df_boosted.loc[val_idx, 'text'].tolist()  # Make sure this is run again\n",
        "# val_texts = df_boosted.loc[val_idx, 'text'].tolist()\n",
        "val_texts_used = [val_texts[i] for i in range(len(val_labels))]\n",
        "\n",
        "# assert len(val_texts) == len(val_preds) == len(val_labels)\n",
        "\n",
        "# Build evaluation DataFrame\n",
        "df_eval = pd.DataFrame({\n",
        "    'text': val_texts_used,\n",
        "    'true_label': true_labels_text,\n",
        "    'pred_label': pred_labels_text\n",
        "})\n",
        "\n",
        "# Save to CSV\n",
        "df_eval.to_csv(\"model_eval_results_2.csv\", index=False)"
      ]
    },
    {
      "cell_type": "code",
      "execution_count": 45,
      "metadata": {
        "colab": {
          "base_uri": "https://localhost:8080/",
          "height": 35
        },
        "id": "mYcJV7QeGQmz",
        "outputId": "e735d987-b329-48cd-9103-4aadf6be07f1"
      },
      "outputs": [
        {
          "data": {
            "application/javascript": "\n    async function download(id, filename, size) {\n      if (!google.colab.kernel.accessAllowed) {\n        return;\n      }\n      const div = document.createElement('div');\n      const label = document.createElement('label');\n      label.textContent = `Downloading \"${filename}\": `;\n      div.appendChild(label);\n      const progress = document.createElement('progress');\n      progress.max = size;\n      div.appendChild(progress);\n      document.body.appendChild(div);\n\n      const buffers = [];\n      let downloaded = 0;\n\n      const channel = await google.colab.kernel.comms.open(id);\n      // Send a message to notify the kernel that we're ready.\n      channel.send({})\n\n      for await (const message of channel.messages) {\n        // Send a message to notify the kernel that we're ready.\n        channel.send({})\n        if (message.buffers) {\n          for (const buffer of message.buffers) {\n            buffers.push(buffer);\n            downloaded += buffer.byteLength;\n            progress.value = downloaded;\n          }\n        }\n      }\n      const blob = new Blob(buffers, {type: 'application/binary'});\n      const a = document.createElement('a');\n      a.href = window.URL.createObjectURL(blob);\n      a.download = filename;\n      div.appendChild(a);\n      a.click();\n      div.remove();\n    }\n  ",
            "text/plain": [
              "<IPython.core.display.Javascript object>"
            ]
          },
          "metadata": {},
          "output_type": "display_data"
        },
        {
          "data": {
            "application/javascript": "download(\"download_0133a0b7-92ad-4534-a21e-aff2306501ba\", \"model_eval_results_2.csv\", 1803751)",
            "text/plain": [
              "<IPython.core.display.Javascript object>"
            ]
          },
          "metadata": {},
          "output_type": "display_data"
        },
        {
          "name": "stdout",
          "output_type": "stream",
          "text": [
            "time: 3.41 ms (started: 2025-05-28 12:23:45 +00:00)\n"
          ]
        }
      ],
      "source": [
        "from google.colab import files\n",
        "files.download(\"model_eval_results_2.csv\")"
      ]
    },
    {
      "cell_type": "markdown",
      "metadata": {
        "id": "nnjTFlUkFJKR"
      },
      "source": [
        "#Improve - second time"
      ]
    },
    {
      "cell_type": "code",
      "execution_count": 46,
      "metadata": {
        "colab": {
          "base_uri": "https://localhost:8080/"
        },
        "id": "M4l9XmemGV6u",
        "outputId": "d4fc41cb-d12d-4dd4-9446-f24c7b9073b8"
      },
      "outputs": [
        {
          "name": "stdout",
          "output_type": "stream",
          "text": [
            "time: 39.3 ms (started: 2025-05-28 12:23:45 +00:00)\n"
          ]
        }
      ],
      "source": [
        "# Step 1: Load model prediction results\n",
        "df_errors_2 = pd.read_csv(\"model_eval_results.csv\")\n",
        "\n",
        "# Step 2: Keep only misclassified samples\n",
        "df_misclassified_2 = df_errors_2[df_errors_2['true_label'] != df_errors_2['pred_label']]\n",
        "\n",
        "# Step 3: Merge into your labeled training DataFrame\n",
        "# You need to map text to original df to recover label numbers\n",
        "df_misclassified_2 = df_misclassified_2.merge(\n",
        "    df[['text', 'label']], on='text', how='left'\n",
        ")\n",
        "\n",
        "# Step 4: Append misclassified rows to original df\n",
        "df_boosted_2 = pd.concat([df_boosted, df_misclassified_2], ignore_index=True)\n",
        "\n",
        "# ✅ Optional: Shuffle\n",
        "df_boosted_2 = df_boosted_2.sample(frac=1.0, random_state=42).reset_index(drop=True)\n",
        "\n",
        "# 🔁 From here, continue with df_boosted instead of df:\n",
        "# encoding, train/val split, tokenizer, model training, etc.\n"
      ]
    },
    {
      "cell_type": "markdown",
      "metadata": {
        "id": "im1LqdtWGV6v"
      },
      "source": [
        "##Encoding"
      ]
    },
    {
      "cell_type": "code",
      "execution_count": 47,
      "metadata": {
        "colab": {
          "base_uri": "https://localhost:8080/"
        },
        "id": "yCvKW9ExGV6v",
        "outputId": "209c655e-468f-42a2-9fd1-6b32cfdc216e"
      },
      "outputs": [
        {
          "name": "stdout",
          "output_type": "stream",
          "text": [
            "time: 246 ms (started: 2025-05-28 12:23:45 +00:00)\n"
          ]
        }
      ],
      "source": [
        "# 1. Combine subject and content into one text field\n",
        "#df['text'] = df['subject'].astype(str) + ' ' + df['content'].astype(str)\n",
        "\n",
        "df_boosted_2['text'] = (\n",
        "    df_boosted_2['subject'].fillna('') + ' ' +\n",
        "    df_boosted_2['content'].fillna('') + ' ' +\n",
        "    df_boosted_2['x_folder'].fillna('') + ' ' +\n",
        "    df_boosted_2['x_filename'].fillna('')\n",
        ")\n",
        "def inject_tags(row):\n",
        "    text = row['text'].lower()\n",
        "    tags = []\n",
        "\n",
        "    if any(kw in text for kw in ['resume', 'cv', 'position', 'apply', 'hiring', 'job', 'interview', 'offer', 'candidate', 'recruit']):\n",
        "        tags.append('[EMPLOYMENT]')\n",
        "\n",
        "    if any(kw in text for kw in ['thank you', 'congratulations', 'happy birthday', 'good to see you', 'see you soon',\n",
        "                                 'sorry', 'miss you', 'talk soon', 'thanks again', 'wedding', 'dinner', 'family', 'friends']):\n",
        "        tags.append('[PERSONAL]')\n",
        "\n",
        "    if any(kw in text for kw in ['meeting', 'schedule', 'call', 'join us', 'calendar', 'time', 'zoom', 'room', 'location', 'reminder']):\n",
        "        tags.append('[LOGISTICS]')\n",
        "\n",
        "    if any(kw in text for kw in ['attached', 'document', 'review', 'spreadsheet', 'draft', 'doc', 'ppt', 'attachment', 'slides']):\n",
        "        tags.append('[DOCUMENT]')\n",
        "\n",
        "    if any(kw in text for kw in ['project', 'strategy', 'analysis', 'report', 'budget', 'client', 'contract', 'performance',\n",
        "                                 'plan', 'goal', 'financial', 'update', 'objective', 'initiative', 'proposal']):\n",
        "        tags.append('[BUSINESS]')\n",
        "\n",
        "    return ' '.join(tags) + ' ' + row['text'] if tags else row['text']\n",
        "\n",
        "df_boosted_2['text'] = df_boosted_2.apply(inject_tags, axis=1)"
      ]
    },
    {
      "cell_type": "code",
      "execution_count": 48,
      "metadata": {
        "colab": {
          "base_uri": "https://localhost:8080/"
        },
        "id": "e0pRXljEGV6v",
        "outputId": "6f3126f6-046d-458d-f00d-d348426bd4df"
      },
      "outputs": [
        {
          "name": "stdout",
          "output_type": "stream",
          "text": [
            "{'Company Business / Strategy': np.int64(0), 'Document Collaboration': np.int64(1), 'Employment': np.int64(2), 'Logistics': np.int64(3), 'Personal': np.int64(4)}\n",
            "time: 5.58 ms (started: 2025-05-28 12:23:45 +00:00)\n"
          ]
        }
      ],
      "source": [
        "# 2. Encode the target (coarse_genre)\n",
        "from sklearn.preprocessing import LabelEncoder\n",
        "\n",
        "df_boosted_2 = df_boosted_2[df_boosted_2['coarse_genre'].notna()].reset_index(drop=True)\n",
        "\n",
        "label_encoder = LabelEncoder()\n",
        "df_boosted_2['label'] = label_encoder.fit_transform(df_boosted_2['coarse_genre'])\n",
        "\n",
        "# 3. Save the mapping (to use later for decoding predictions)\n",
        "label_mapping = dict(zip(label_encoder.classes_, label_encoder.transform(label_encoder.classes_)))\n",
        "print(label_mapping)\n"
      ]
    },
    {
      "cell_type": "markdown",
      "metadata": {
        "id": "EWkromjDGV6v"
      },
      "source": [
        "##Split"
      ]
    },
    {
      "cell_type": "code",
      "execution_count": 49,
      "metadata": {
        "colab": {
          "base_uri": "https://localhost:8080/"
        },
        "id": "K-4V2GGHGV6v",
        "outputId": "53be9d06-97fd-426b-d591-77c76d77e424"
      },
      "outputs": [
        {
          "name": "stdout",
          "output_type": "stream",
          "text": [
            "time: 6.81 ms (started: 2025-05-28 12:23:45 +00:00)\n"
          ]
        }
      ],
      "source": [
        "# from sklearn.model_selection import train_test_split\n",
        "\n",
        "# train_texts, val_texts, train_labels, val_labels = train_test_split(\n",
        "#     df_boosted_2['text'].tolist(), df_boosted_2['label'].tolist(),\n",
        "#     test_size=0.2,\n",
        "#     random_state=42,\n",
        "#     stratify=df_boosted_2['label']\n",
        "# )\n",
        "\n",
        "from sklearn.model_selection import train_test_split\n",
        "\n",
        "# Split using indices so we can fetch correct val_texts later\n",
        "indices = list(range(len(df_boosted_2)))\n",
        "train_idx, val_idx = train_test_split(\n",
        "    indices,\n",
        "    test_size=0.2,\n",
        "    random_state=42,\n",
        "    stratify=df_boosted_2['label']\n",
        ")\n",
        "\n",
        "# Create splits\n",
        "train_texts = df_boosted_2.loc[train_idx, 'text'].tolist()\n",
        "train_labels = df_boosted_2.loc[train_idx, 'label'].tolist()\n",
        "\n",
        "val_texts = df_boosted_2.loc[val_idx, 'text'].tolist()\n",
        "val_labels = df_boosted_2.loc[val_idx, 'label'].tolist()\n"
      ]
    },
    {
      "cell_type": "markdown",
      "metadata": {
        "id": "iiQPW3BZkJeY"
      },
      "source": [
        "##Balancing"
      ]
    },
    {
      "cell_type": "code",
      "execution_count": 50,
      "metadata": {
        "colab": {
          "base_uri": "https://localhost:8080/"
        },
        "id": "8BhtH77ckLP7",
        "outputId": "83a30aaf-e043-4ccf-c8f2-0c5a47770547"
      },
      "outputs": [
        {
          "name": "stdout",
          "output_type": "stream",
          "text": [
            "time: 17.8 ms (started: 2025-05-28 12:23:45 +00:00)\n"
          ]
        }
      ],
      "source": [
        "from sklearn.utils import resample\n",
        "\n",
        "# Separate each class\n",
        "df_list = []\n",
        "max_size = df_boosted_2['coarse_genre'].value_counts().max()\n",
        "\n",
        "for label in df_boosted_2['coarse_genre'].unique():\n",
        "    df_label = df_boosted_2[df_boosted_2['coarse_genre'] == label]\n",
        "    if len(df_label) > 0:\n",
        "        df_upsampled = resample(df_label,\n",
        "                                replace=True,\n",
        "                                n_samples=max_size,\n",
        "                                random_state=42)\n",
        "        df_list.append(df_upsampled)\n",
        "\n",
        "# Combine back\n",
        "df_boosted_2 = pd.concat(df_list).sample(frac=1.0, random_state=42).reset_index(drop=True)"
      ]
    },
    {
      "cell_type": "markdown",
      "metadata": {
        "id": "k0u2KzNcjJZ4"
      },
      "source": [
        "##Tokenize"
      ]
    },
    {
      "cell_type": "code",
      "execution_count": 51,
      "metadata": {
        "colab": {
          "base_uri": "https://localhost:8080/"
        },
        "id": "W7Q88KeSjJZ4",
        "outputId": "97c9f29b-be46-47a5-a32e-5c2efa30b3f9"
      },
      "outputs": [
        {
          "name": "stdout",
          "output_type": "stream",
          "text": [
            "time: 34.7 s (started: 2025-05-28 12:23:45 +00:00)\n"
          ]
        }
      ],
      "source": [
        "from transformers import BertTokenizer\n",
        "\n",
        "tokenizer = BertTokenizer.from_pretrained('bert-base-uncased')\n",
        "\n",
        "train_encodings = tokenizer(train_texts, truncation=True, padding=True, max_length=256)\n",
        "val_encodings = tokenizer(val_texts, truncation=True, padding=True, max_length=256)"
      ]
    },
    {
      "cell_type": "markdown",
      "metadata": {
        "id": "fbJnGFURjOU1"
      },
      "source": [
        "##DataSet Class"
      ]
    },
    {
      "cell_type": "code",
      "execution_count": 52,
      "metadata": {
        "colab": {
          "base_uri": "https://localhost:8080/"
        },
        "id": "nC2oXh3HjOU2",
        "outputId": "c7d18dab-44fb-4cb4-a0d9-b72fd8b01d3c"
      },
      "outputs": [
        {
          "name": "stdout",
          "output_type": "stream",
          "text": [
            "time: 774 µs (started: 2025-05-28 12:24:20 +00:00)\n"
          ]
        }
      ],
      "source": [
        "import torch\n",
        "from torch.utils.data import Dataset\n",
        "\n",
        "class EmailDataset(Dataset):\n",
        "    def __init__(self, encodings, labels):\n",
        "        self.encodings = encodings  # tokenizer outputs\n",
        "        self.labels = labels        # your numeric labels from LabelEncoder\n",
        "\n",
        "    def __len__(self):\n",
        "        return len(self.labels)  # how many samples in total\n",
        "\n",
        "    def __getitem__(self, idx):\n",
        "        return {\n",
        "            'input_ids': torch.tensor(self.encodings['input_ids'][idx]),\n",
        "            'attention_mask': torch.tensor(self.encodings['attention_mask'][idx]),\n",
        "            'labels': torch.tensor(self.labels[idx])\n",
        "        }"
      ]
    },
    {
      "cell_type": "code",
      "execution_count": 53,
      "metadata": {
        "colab": {
          "base_uri": "https://localhost:8080/"
        },
        "id": "IwvrhPk-jOU2",
        "outputId": "9f513c0e-8888-4562-bf6d-67e2ac6b201c"
      },
      "outputs": [
        {
          "name": "stdout",
          "output_type": "stream",
          "text": [
            "time: 374 µs (started: 2025-05-28 12:24:20 +00:00)\n"
          ]
        }
      ],
      "source": [
        "train_dataset = EmailDataset(train_encodings, train_labels)\n",
        "val_dataset = EmailDataset(val_encodings, val_labels)"
      ]
    },
    {
      "cell_type": "markdown",
      "metadata": {
        "id": "NwkTKHKSGV6v"
      },
      "source": [
        "##Train"
      ]
    },
    {
      "cell_type": "markdown",
      "metadata": {
        "id": "Y5R-qp2Ojmu0"
      },
      "source": [
        "Change optimizer before running"
      ]
    },
    {
      "cell_type": "code",
      "execution_count": 54,
      "metadata": {
        "colab": {
          "base_uri": "https://localhost:8080/"
        },
        "id": "leUqAmj5jqBs",
        "outputId": "210dcfd0-050b-49ae-ed8e-c64b5a230d58"
      },
      "outputs": [
        {
          "name": "stdout",
          "output_type": "stream",
          "text": [
            "time: 1.15 ms (started: 2025-05-28 12:24:20 +00:00)\n"
          ]
        }
      ],
      "source": [
        "optimizer = AdamW(model.parameters(), lr=2e-5, weight_decay=0.01)"
      ]
    },
    {
      "cell_type": "code",
      "execution_count": 55,
      "metadata": {
        "colab": {
          "base_uri": "https://localhost:8080/"
        },
        "id": "aCZCtb9qn5QL",
        "outputId": "76f4a3d5-b1a2-4da1-97c4-206e0d661c52"
      },
      "outputs": [
        {
          "name": "stdout",
          "output_type": "stream",
          "text": [
            "time: 2.77 ms (started: 2025-05-28 12:24:20 +00:00)\n"
          ]
        }
      ],
      "source": [
        "from sklearn.utils.class_weight import compute_class_weight\n",
        "import numpy as np\n",
        "\n",
        "class_weights = compute_class_weight(class_weight='balanced',\n",
        "                                     classes=np.unique(df_boosted_2['label']),\n",
        "                                     y=df_boosted_2['label'])\n",
        "\n",
        "class_weights_tensor = torch.tensor(class_weights, dtype=torch.float).to(device)\n",
        "loss_fn = torch.nn.CrossEntropyLoss(weight=class_weights_tensor)\n"
      ]
    },
    {
      "cell_type": "code",
      "execution_count": 56,
      "metadata": {
        "colab": {
          "base_uri": "https://localhost:8080/"
        },
        "id": "kZ7gQo5Wow9C",
        "outputId": "f4b6db4a-311c-49b8-f402-f8ef3a979816"
      },
      "outputs": [
        {
          "name": "stdout",
          "output_type": "stream",
          "text": [
            "5\n",
            "['Company Business / Strategy' 'Document Collaboration' 'Employment'\n",
            " 'Logistics' 'Personal']\n",
            "time: 1.01 ms (started: 2025-05-28 12:24:20 +00:00)\n"
          ]
        }
      ],
      "source": [
        "print(len(label_encoder.classes_))\n",
        "print(label_encoder.classes_)"
      ]
    },
    {
      "cell_type": "code",
      "execution_count": 57,
      "metadata": {
        "colab": {
          "base_uri": "https://localhost:8080/"
        },
        "id": "JbPxnWYio4f6",
        "outputId": "9d46e53b-a180-4520-fa71-4e1a32ea4e19"
      },
      "outputs": [
        {
          "name": "stdout",
          "output_type": "stream",
          "text": [
            "5\n",
            "time: 2.51 ms (started: 2025-05-28 12:24:20 +00:00)\n"
          ]
        }
      ],
      "source": [
        "print(model.config.num_labels)\n"
      ]
    },
    {
      "cell_type": "code",
      "execution_count": 58,
      "metadata": {
        "colab": {
          "base_uri": "https://localhost:8080/"
        },
        "id": "vPsYDGFkGV6v",
        "outputId": "e5669f5b-bdd5-4118-e3cc-27307230629e"
      },
      "outputs": [
        {
          "name": "stdout",
          "output_type": "stream",
          "text": [
            "\n",
            "🔁 Epoch 1\n"
          ]
        },
        {
          "name": "stderr",
          "output_type": "stream",
          "text": [
            "100%|██████████| 83/83 [00:53<00:00,  1.54it/s]\n"
          ]
        },
        {
          "name": "stdout",
          "output_type": "stream",
          "text": [
            "✅ Train Loss: 0.3935 | Train Acc: 0.8795\n",
            "🧪 Val   Loss: 1.2100 | Val   Acc: 0.6375\n",
            "\n",
            "🔁 Epoch 2\n"
          ]
        },
        {
          "name": "stderr",
          "output_type": "stream",
          "text": [
            "100%|██████████| 83/83 [00:53<00:00,  1.56it/s]\n"
          ]
        },
        {
          "name": "stdout",
          "output_type": "stream",
          "text": [
            "✅ Train Loss: 0.2995 | Train Acc: 0.8962\n",
            "🧪 Val   Loss: 1.2379 | Val   Acc: 0.6495\n",
            "\n",
            "🔁 Epoch 3\n"
          ]
        },
        {
          "name": "stderr",
          "output_type": "stream",
          "text": [
            "100%|██████████| 83/83 [00:53<00:00,  1.56it/s]\n"
          ]
        },
        {
          "name": "stdout",
          "output_type": "stream",
          "text": [
            "✅ Train Loss: 0.2277 | Train Acc: 0.9265\n",
            "🧪 Val   Loss: 1.2962 | Val   Acc: 0.6284\n",
            "\n",
            "🔁 Epoch 4\n"
          ]
        },
        {
          "name": "stderr",
          "output_type": "stream",
          "text": [
            "100%|██████████| 83/83 [00:53<00:00,  1.56it/s]\n"
          ]
        },
        {
          "name": "stdout",
          "output_type": "stream",
          "text": [
            "✅ Train Loss: 0.2140 | Train Acc: 0.9303\n",
            "🧪 Val   Loss: 1.3095 | Val   Acc: 0.6677\n",
            "\n",
            "🔁 Epoch 5\n"
          ]
        },
        {
          "name": "stderr",
          "output_type": "stream",
          "text": [
            "100%|██████████| 83/83 [00:53<00:00,  1.56it/s]\n"
          ]
        },
        {
          "name": "stdout",
          "output_type": "stream",
          "text": [
            "✅ Train Loss: 0.1746 | Train Acc: 0.9439\n",
            "🧪 Val   Loss: 1.3272 | Val   Acc: 0.6677\n",
            "\n",
            "🔁 Epoch 6\n"
          ]
        },
        {
          "name": "stderr",
          "output_type": "stream",
          "text": [
            "100%|██████████| 83/83 [00:53<00:00,  1.56it/s]\n"
          ]
        },
        {
          "name": "stdout",
          "output_type": "stream",
          "text": [
            "✅ Train Loss: 0.1869 | Train Acc: 0.9356\n",
            "🧪 Val   Loss: 1.2027 | Val   Acc: 0.6979\n",
            "\n",
            "🔁 Epoch 7\n"
          ]
        },
        {
          "name": "stderr",
          "output_type": "stream",
          "text": [
            "100%|██████████| 83/83 [00:53<00:00,  1.56it/s]\n"
          ]
        },
        {
          "name": "stdout",
          "output_type": "stream",
          "text": [
            "✅ Train Loss: 0.1668 | Train Acc: 0.9417\n",
            "🧪 Val   Loss: 1.4319 | Val   Acc: 0.6284\n",
            "\n",
            "🔁 Epoch 8\n"
          ]
        },
        {
          "name": "stderr",
          "output_type": "stream",
          "text": [
            "100%|██████████| 83/83 [00:53<00:00,  1.56it/s]\n"
          ]
        },
        {
          "name": "stdout",
          "output_type": "stream",
          "text": [
            "✅ Train Loss: 0.1613 | Train Acc: 0.9545\n",
            "🧪 Val   Loss: 1.3390 | Val   Acc: 0.6979\n",
            "time: 7min 41s (started: 2025-05-28 12:24:20 +00:00)\n"
          ]
        }
      ],
      "source": [
        "from sklearn.metrics import accuracy_score\n",
        "from tqdm import tqdm\n",
        "\n",
        "device = torch.device(\"cuda\" if torch.cuda.is_available() else \"cpu\")\n",
        "model.to(device)\n",
        "\n",
        "for epoch in range(8):  # Adjust number of epochs if needed\n",
        "    print(f\"\\n🔁 Epoch {epoch + 1}\")\n",
        "\n",
        "    # === TRAINING ===\n",
        "    model.train()\n",
        "    train_loss = 0\n",
        "    correct = 0\n",
        "    total = 0\n",
        "\n",
        "    for batch in tqdm(train_loader):\n",
        "        input_ids = batch['input_ids'].to(device)\n",
        "        attention_mask = batch['attention_mask'].to(device)\n",
        "        labels = batch['labels'].to(device)\n",
        "\n",
        "        optimizer.zero_grad()\n",
        "        outputs = model(input_ids, attention_mask=attention_mask)\n",
        "        loss = loss_fn(outputs.logits, labels)  # ✅ using class-weighted loss\n",
        "        train_loss += loss.item()\n",
        "\n",
        "        preds = outputs.logits.argmax(dim=1)\n",
        "        correct += (preds == labels).sum().item()\n",
        "        total += labels.size(0)\n",
        "\n",
        "        loss.backward()\n",
        "        optimizer.step()\n",
        "\n",
        "    train_acc = correct / total\n",
        "    avg_train_loss = train_loss / len(train_loader)\n",
        "\n",
        "    # === VALIDATION ===\n",
        "    model.eval()\n",
        "    val_loss = 0\n",
        "    correct = 0\n",
        "    total = 0\n",
        "\n",
        "    all_preds = []\n",
        "    all_labels = []\n",
        "\n",
        "    with torch.no_grad():\n",
        "        for batch in val_loader:\n",
        "            input_ids = batch['input_ids'].to(device)\n",
        "            attention_mask = batch['attention_mask'].to(device)\n",
        "            labels = batch['labels'].to(device)\n",
        "\n",
        "            outputs = model(input_ids, attention_mask=attention_mask)\n",
        "            loss = loss_fn(outputs.logits, labels)\n",
        "            val_loss += loss.item()\n",
        "\n",
        "            preds = outputs.logits.argmax(dim=1)\n",
        "\n",
        "            all_preds.extend(preds.cpu().tolist())\n",
        "            all_labels.extend(labels.cpu().tolist())\n",
        "\n",
        "            correct += (preds == labels).sum().item()\n",
        "            total += labels.size(0)\n",
        "\n",
        "    val_preds = all_preds\n",
        "    val_labels = all_labels\n",
        "\n",
        "    val_acc = correct / total\n",
        "    avg_val_loss = val_loss / len(val_loader)\n",
        "\n",
        "    print(f\"✅ Train Loss: {avg_train_loss:.4f} | Train Acc: {train_acc:.4f}\")\n",
        "    print(f\"🧪 Val   Loss: {avg_val_loss:.4f} | Val   Acc: {val_acc:.4f}\")\n"
      ]
    },
    {
      "cell_type": "markdown",
      "metadata": {
        "id": "E8QT7LmNGV6v"
      },
      "source": [
        "##Metrics"
      ]
    },
    {
      "cell_type": "code",
      "execution_count": 59,
      "metadata": {
        "colab": {
          "base_uri": "https://localhost:8080/"
        },
        "id": "lc0lf8ZLGV6w",
        "outputId": "ec058bb7-be40-4c91-f8f8-8ee09c42c597"
      },
      "outputs": [
        {
          "name": "stdout",
          "output_type": "stream",
          "text": [
            "time: 4.14 s (started: 2025-05-28 12:32:02 +00:00)\n"
          ]
        }
      ],
      "source": [
        "import numpy as np\n",
        "\n",
        "model.eval()\n",
        "all_preds = []\n",
        "all_labels = []\n",
        "\n",
        "with torch.no_grad():\n",
        "    for batch in val_loader:\n",
        "        input_ids = batch['input_ids'].to(device)\n",
        "        attention_mask = batch['attention_mask'].to(device)\n",
        "        labels = batch['labels'].to(device)\n",
        "\n",
        "        outputs = model(input_ids, attention_mask=attention_mask)\n",
        "        preds = outputs.logits.argmax(dim=1)\n",
        "\n",
        "        all_preds.extend(preds.cpu().numpy())\n",
        "        all_labels.extend(labels.cpu().numpy())\n"
      ]
    },
    {
      "cell_type": "code",
      "execution_count": 60,
      "metadata": {
        "colab": {
          "base_uri": "https://localhost:8080/"
        },
        "id": "06bjMGP_GV6w",
        "outputId": "a61ae2d3-771f-4af9-fc91-8e74866c78b8"
      },
      "outputs": [
        {
          "name": "stdout",
          "output_type": "stream",
          "text": [
            "                             precision    recall  f1-score   support\n",
            "\n",
            "Company Business / Strategy       0.80      0.70      0.75       148\n",
            "     Document Collaboration       0.42      0.80      0.55        35\n",
            "                 Employment       0.60      0.63      0.62        19\n",
            "                  Logistics       0.77      0.73      0.75       103\n",
            "                   Personal       0.67      0.46      0.55        26\n",
            "\n",
            "                   accuracy                           0.70       331\n",
            "                  macro avg       0.65      0.66      0.64       331\n",
            "               weighted avg       0.73      0.70      0.70       331\n",
            "\n",
            "time: 15.4 ms (started: 2025-05-28 12:32:06 +00:00)\n"
          ]
        }
      ],
      "source": [
        "from sklearn.metrics import classification_report\n",
        "\n",
        "# Get label IDs sorted as they appear in label_encoder\n",
        "label_ids = list(range(len(label_encoder.classes_)))\n",
        "target_names = label_encoder.inverse_transform(label_ids)\n",
        "\n",
        "# Print report\n",
        "from sklearn.utils.multiclass import unique_labels\n",
        "\n",
        "labels_in_val = unique_labels(all_labels, all_preds)\n",
        "print(classification_report(all_labels, all_preds, labels=labels_in_val, target_names=[inv_label_map[i] for i in labels_in_val]))\n"
      ]
    },
    {
      "cell_type": "code",
      "execution_count": 61,
      "metadata": {
        "colab": {
          "base_uri": "https://localhost:8080/",
          "height": 825
        },
        "id": "w1-WRvDkGV6w",
        "outputId": "922913ab-471d-4fe5-aca4-7fbc4271d40a"
      },
      "outputs": [
        {
          "data": {
            "image/png": "[encoded data removed]",
            "text/plain": [
              "<Figure size 1000x800 with 2 Axes>"
            ]
          },
          "metadata": {},
          "output_type": "display_data"
        },
        {
          "name": "stdout",
          "output_type": "stream",
          "text": [
            "time: 387 ms (started: 2025-05-28 12:32:06 +00:00)\n"
          ]
        }
      ],
      "source": [
        "from sklearn.metrics import confusion_matrix\n",
        "import seaborn as sns\n",
        "import matplotlib.pyplot as plt\n",
        "\n",
        "# Compute confusion matrix\n",
        "cm = confusion_matrix(all_labels, all_preds)\n",
        "\n",
        "# Plot\n",
        "plt.figure(figsize=(10, 8))\n",
        "sns.heatmap(cm, annot=True, fmt='d', cmap='Blues',\n",
        "            xticklabels=[inv_label_map[i] for i in labels_in_val],\n",
        "            yticklabels=[inv_label_map[i] for i in labels_in_val])\n",
        "\n",
        "\n",
        "plt.xlabel('Predicted')\n",
        "plt.ylabel('True')\n",
        "plt.title('Confusion Matrix')\n",
        "plt.xticks(rotation=45, ha='right')\n",
        "plt.yticks(rotation=0)\n",
        "plt.tight_layout()\n",
        "plt.show()\n"
      ]
    },
    {
      "cell_type": "code",
      "execution_count": 62,
      "metadata": {
        "colab": {
          "base_uri": "https://localhost:8080/",
          "height": 290
        },
        "id": "KduV9brTGV6w",
        "outputId": "9308bc0f-a357-4289-c3fb-56dccde20793"
      },
      "outputs": [
        {
          "data": {
            "text/html": [
              "<div>\n",
              "<style scoped>\n",
              "    .dataframe tbody tr th:only-of-type {\n",
              "        vertical-align: middle;\n",
              "    }\n",
              "\n",
              "    .dataframe tbody tr th {\n",
              "        vertical-align: top;\n",
              "    }\n",
              "\n",
              "    .dataframe thead th {\n",
              "        text-align: right;\n",
              "    }\n",
              "</style>\n",
              "<table border=\"1\" class=\"dataframe\">\n",
              "  <thead>\n",
              "    <tr style=\"text-align: right;\">\n",
              "      <th></th>\n",
              "      <th>count</th>\n",
              "    </tr>\n",
              "    <tr>\n",
              "      <th>coarse_genre</th>\n",
              "      <th></th>\n",
              "    </tr>\n",
              "  </thead>\n",
              "  <tbody>\n",
              "    <tr>\n",
              "      <th>Company Business / Strategy</th>\n",
              "      <td>740</td>\n",
              "    </tr>\n",
              "    <tr>\n",
              "      <th>Logistics</th>\n",
              "      <td>512</td>\n",
              "    </tr>\n",
              "    <tr>\n",
              "      <th>Document Collaboration</th>\n",
              "      <td>174</td>\n",
              "    </tr>\n",
              "    <tr>\n",
              "      <th>Personal</th>\n",
              "      <td>132</td>\n",
              "    </tr>\n",
              "    <tr>\n",
              "      <th>Employment</th>\n",
              "      <td>93</td>\n",
              "    </tr>\n",
              "  </tbody>\n",
              "</table>\n",
              "</div><br><label><b>dtype:</b> int64</label>"
            ],
            "text/plain": [
              "coarse_genre\n",
              "Company Business / Strategy    740\n",
              "Logistics                      512\n",
              "Document Collaboration         174\n",
              "Personal                       132\n",
              "Employment                      93\n",
              "Name: count, dtype: int64"
            ]
          },
          "execution_count": 62,
          "metadata": {},
          "output_type": "execute_result"
        },
        {
          "name": "stdout",
          "output_type": "stream",
          "text": [
            "time: 9.48 ms (started: 2025-05-28 12:32:06 +00:00)\n"
          ]
        }
      ],
      "source": [
        "df['coarse_genre'].value_counts()"
      ]
    },
    {
      "cell_type": "code",
      "execution_count": 66,
      "metadata": {
        "colab": {
          "base_uri": "https://localhost:8080/"
        },
        "id": "QO1qLEcLGV6w",
        "outputId": "94361058-9c35-456b-fe77-56396322607b"
      },
      "outputs": [
        {
          "name": "stdout",
          "output_type": "stream",
          "text": [
            "time: 81.6 ms (started: 2025-05-28 12:36:05 +00:00)\n"
          ]
        }
      ],
      "source": [
        "import pandas as pd\n",
        "\n",
        "# Rebuild the label decoding map\n",
        "inv_label_map = {v: k for k, v in label_mapping.items()}\n",
        "\n",
        "# Convert numeric labels to strings\n",
        "true_labels_text = [inv_label_map[i] for i in val_labels]\n",
        "pred_labels_text = [inv_label_map[i] for i in val_preds]\n",
        "\n",
        "val_texts = df_boosted_2.loc[val_idx, 'text'].tolist()  # Make sure this is run again\n",
        "# val_texts = df_boosted.loc[val_idx, 'text'].tolist()\n",
        "val_texts_used = [val_texts[i] for i in range(len(val_labels))]\n",
        "\n",
        "# assert len(val_texts) == len(val_preds) == len(val_labels)\n",
        "\n",
        "# Build evaluation DataFrame\n",
        "df_eval = pd.DataFrame({\n",
        "    'text': val_texts_used,\n",
        "    'true_label': true_labels_text,\n",
        "    'pred_label': pred_labels_text\n",
        "})\n",
        "\n",
        "# Save to CSV\n",
        "df_eval.to_csv(\"model_eval_results_3.csv\", index=False)"
      ]
    },
    {
      "cell_type": "code",
      "execution_count": 64,
      "metadata": {
        "colab": {
          "base_uri": "https://localhost:8080/"
        },
        "id": "cBiCjofhGV6w",
        "outputId": "002080bb-7fc1-4509-a265-40cdad76502b"
      },
      "outputs": [
        {
          "name": "stdout",
          "output_type": "stream",
          "text": [
            "time: 330 µs (started: 2025-05-28 12:32:06 +00:00)\n"
          ]
        }
      ],
      "source": [
        "# from google.colab import files\n",
        "# files.download(\"model_eval_results_3.csv\")"
      ]
    },
    {
      "cell_type": "markdown",
      "metadata": {
        "id": "nFdx_SgD5NGX"
      },
      "source": [
        "#Improve - third time"
      ]
    },
    {
      "cell_type": "code",
      "execution_count": 105,
      "metadata": {
        "colab": {
          "base_uri": "https://localhost:8080/"
        },
        "id": "Z0Njkhx85NGZ",
        "outputId": "6b6b7d28-3c51-427b-968b-c00d8126c67b"
      },
      "outputs": [
        {
          "name": "stdout",
          "output_type": "stream",
          "text": [
            "time: 38.1 ms (started: 2025-05-28 12:56:57 +00:00)\n"
          ]
        }
      ],
      "source": [
        "# Step 1: Load model prediction results\n",
        "df_errors_3 = pd.read_csv(\"model_eval_results.csv\")\n",
        "\n",
        "# Step 2: Keep only misclassified samples\n",
        "df_misclassified_3 = df_errors_3[df_errors_3['true_label'] != df_errors_3['pred_label']]\n",
        "\n",
        "# Step 3: Merge into your labeled training DataFrame\n",
        "# You need to map text to original df to recover label numbers\n",
        "df_misclassified_3 = df_misclassified_3.merge(\n",
        "    df[['text', 'label']], on='text', how='left'\n",
        ")\n",
        "\n",
        "# Step 4: Append misclassified rows to original df\n",
        "df_boosted_3 = pd.concat([df_boosted_2, df_misclassified_3], ignore_index=True)\n",
        "\n",
        "# ✅ Optional: Shuffle\n",
        "df_boosted_3 = df_boosted_3.sample(frac=1.0, random_state=42).reset_index(drop=True)\n",
        "\n",
        "# 🔁 From here, continue with df_boosted instead of df:\n",
        "# encoding, train/val split, tokenizer, model training, etc.\n"
      ]
    },
    {
      "cell_type": "markdown",
      "metadata": {
        "id": "Bj7kouUR5NGb"
      },
      "source": [
        "##Encoding"
      ]
    },
    {
      "cell_type": "code",
      "execution_count": 106,
      "metadata": {
        "colab": {
          "base_uri": "https://localhost:8080/"
        },
        "id": "KAQCGldp5NGc",
        "outputId": "eac6bb6e-86bb-4b09-9179-dd91f4f00a08"
      },
      "outputs": [
        {
          "name": "stdout",
          "output_type": "stream",
          "text": [
            "time: 318 ms (started: 2025-05-28 12:56:57 +00:00)\n"
          ]
        }
      ],
      "source": [
        "# 1. Combine subject and content into one text field\n",
        "#df['text'] = df['subject'].astype(str) + ' ' + df['content'].astype(str)\n",
        "\n",
        "df_boosted_3['text'] = (\n",
        "    df_boosted_3['subject'].fillna('') + ' ' +\n",
        "    df_boosted_3['content'].fillna('') + ' ' +\n",
        "    df_boosted_3['x_folder'].fillna('') + ' ' +\n",
        "    df_boosted_3['x_filename'].fillna('')\n",
        ")\n",
        "def inject_tags(row):\n",
        "    text = row['text'].lower()\n",
        "    tags = []\n",
        "\n",
        "    if any(kw in text for kw in ['resume', 'cv', 'position', 'apply', 'hiring', 'job', 'interview', 'offer', 'candidate', 'recruit']):\n",
        "        tags.append('[EMPLOYMENT]')\n",
        "\n",
        "    if any(kw in text for kw in ['thank you', 'congratulations', 'happy birthday', 'good to see you', 'see you soon',\n",
        "                                 'sorry', 'miss you', 'talk soon', 'thanks again', 'wedding', 'dinner', 'family', 'friends']):\n",
        "        tags.append('[PERSONAL]')\n",
        "\n",
        "    if any(kw in text for kw in ['meeting', 'schedule', 'call', 'join us', 'calendar', 'time', 'zoom', 'room', 'location', 'reminder']):\n",
        "        tags.append('[LOGISTICS]')\n",
        "\n",
        "    if any(kw in text for kw in ['attached', 'document', 'review', 'spreadsheet', 'draft', 'doc', 'ppt', 'attachment', 'slides']):\n",
        "        tags.append('[DOCUMENT]')\n",
        "\n",
        "    if any(kw in text for kw in ['project', 'strategy', 'analysis', 'report', 'budget', 'client', 'contract', 'performance',\n",
        "                                 'plan', 'goal', 'financial', 'update', 'objective', 'initiative', 'proposal']):\n",
        "        tags.append('[BUSINESS]')\n",
        "\n",
        "    return ' '.join(tags) + ' ' + row['text'] if tags else row['text']\n",
        "\n",
        "df_boosted_3['text'] = df_boosted_3.apply(inject_tags, axis=1)"
      ]
    },
    {
      "cell_type": "code",
      "execution_count": 107,
      "metadata": {
        "colab": {
          "base_uri": "https://localhost:8080/"
        },
        "id": "y23nPToj5NGd",
        "outputId": "0c58a31a-8e18-4045-b6c2-001b1ed8beae"
      },
      "outputs": [
        {
          "name": "stdout",
          "output_type": "stream",
          "text": [
            "{'Company Business / Strategy': np.int64(0), 'Document Collaboration': np.int64(1), 'Employment': np.int64(2), 'Logistics': np.int64(3), 'Personal': np.int64(4)}\n",
            "time: 7.69 ms (started: 2025-05-28 12:56:58 +00:00)\n"
          ]
        }
      ],
      "source": [
        "# 2. Encode the target (coarse_genre)\n",
        "from sklearn.preprocessing import LabelEncoder\n",
        "\n",
        "df_boosted_3 = df_boosted_3[df_boosted_3['coarse_genre'].notna()].reset_index(drop=True)\n",
        "\n",
        "label_encoder = LabelEncoder()\n",
        "df_boosted_3['label'] = label_encoder.fit_transform(df_boosted_3['coarse_genre'])\n",
        "\n",
        "# 3. Save the mapping (to use later for decoding predictions)\n",
        "label_mapping = dict(zip(label_encoder.classes_, label_encoder.transform(label_encoder.classes_)))\n",
        "print(label_mapping)\n"
      ]
    },
    {
      "cell_type": "markdown",
      "metadata": {
        "id": "MqANW10F5NGe"
      },
      "source": [
        "##Split"
      ]
    },
    {
      "cell_type": "code",
      "execution_count": 108,
      "metadata": {
        "colab": {
          "base_uri": "https://localhost:8080/"
        },
        "id": "C3qwhoHQ5NGe",
        "outputId": "1b49d765-5852-45c6-b193-b59d2b481e20"
      },
      "outputs": [
        {
          "name": "stdout",
          "output_type": "stream",
          "text": [
            "time: 7.19 ms (started: 2025-05-28 12:56:58 +00:00)\n"
          ]
        }
      ],
      "source": [
        "# from sklearn.model_selection import train_test_split\n",
        "\n",
        "# train_texts, val_texts, train_labels, val_labels = train_test_split(\n",
        "#     df_boosted_2['text'].tolist(), df_boosted_2['label'].tolist(),\n",
        "#     test_size=0.2,\n",
        "#     random_state=42,\n",
        "#     stratify=df_boosted_2['label']\n",
        "# )\n",
        "\n",
        "from sklearn.model_selection import train_test_split\n",
        "\n",
        "# Split using indices so we can fetch correct val_texts later\n",
        "indices = list(range(len(df_boosted_3)))\n",
        "train_idx, val_idx = train_test_split(\n",
        "    indices,\n",
        "    test_size=0.2,\n",
        "    random_state=42,\n",
        "    stratify=df_boosted_3['label']\n",
        ")\n",
        "\n",
        "# Create splits\n",
        "train_texts = df_boosted_3.loc[train_idx, 'text'].tolist()\n",
        "train_labels = df_boosted_3.loc[train_idx, 'label'].tolist()\n",
        "\n",
        "val_texts = df_boosted_3.loc[val_idx, 'text'].tolist()\n",
        "val_labels = df_boosted_3.loc[val_idx, 'label'].tolist()\n"
      ]
    },
    {
      "cell_type": "markdown",
      "metadata": {
        "id": "Wo5vrMTN5NGf"
      },
      "source": [
        "##Balancing"
      ]
    },
    {
      "cell_type": "code",
      "execution_count": 109,
      "metadata": {
        "colab": {
          "base_uri": "https://localhost:8080/"
        },
        "id": "NlMnTrSg5NGg",
        "outputId": "4cfb0f85-8bdc-48a2-b1be-eff07b821301"
      },
      "outputs": [
        {
          "name": "stdout",
          "output_type": "stream",
          "text": [
            "time: 19.7 ms (started: 2025-05-28 12:56:58 +00:00)\n"
          ]
        }
      ],
      "source": [
        "from sklearn.utils import resample\n",
        "\n",
        "# Separate each class\n",
        "df_list = []\n",
        "max_size = df_boosted_3['coarse_genre'].value_counts().max()\n",
        "\n",
        "for label in df_boosted_3['coarse_genre'].unique():\n",
        "    df_label = df_boosted_3[df_boosted_3['coarse_genre'] == label]\n",
        "    if len(df_label) > 0:\n",
        "        df_upsampled = resample(df_label,\n",
        "                                replace=True,\n",
        "                                n_samples=max_size,\n",
        "                                random_state=42)\n",
        "        df_list.append(df_upsampled)\n",
        "\n",
        "# Combine back\n",
        "df_boosted_3 = pd.concat(df_list).sample(frac=1.0, random_state=42).reset_index(drop=True)"
      ]
    },
    {
      "cell_type": "markdown",
      "metadata": {
        "id": "Nge0SW-w5NGh"
      },
      "source": [
        "##Tokenize"
      ]
    },
    {
      "cell_type": "code",
      "execution_count": 110,
      "metadata": {
        "colab": {
          "base_uri": "https://localhost:8080/"
        },
        "id": "7OXZHtP15NGi",
        "outputId": "7dadd776-3b5c-4e20-f161-e981f92c0a80"
      },
      "outputs": [
        {
          "name": "stdout",
          "output_type": "stream",
          "text": [
            "time: 51.4 s (started: 2025-05-28 12:56:58 +00:00)\n"
          ]
        }
      ],
      "source": [
        "from transformers import BertTokenizer\n",
        "\n",
        "tokenizer = BertTokenizer.from_pretrained('bert-base-uncased')\n",
        "\n",
        "train_encodings = tokenizer(train_texts, truncation=True, padding=True, max_length=256)\n",
        "val_encodings = tokenizer(val_texts, truncation=True, padding=True, max_length=256)"
      ]
    },
    {
      "cell_type": "markdown",
      "metadata": {
        "id": "y8ZY8jD-5NGi"
      },
      "source": [
        "##DataSet Class"
      ]
    },
    {
      "cell_type": "code",
      "execution_count": 111,
      "metadata": {
        "colab": {
          "base_uri": "https://localhost:8080/"
        },
        "id": "Kx2xOa3I5NGj",
        "outputId": "7444e6c8-6771-437a-877e-483b00555588"
      },
      "outputs": [
        {
          "name": "stdout",
          "output_type": "stream",
          "text": [
            "time: 661 µs (started: 2025-05-28 12:57:49 +00:00)\n"
          ]
        }
      ],
      "source": [
        "import torch\n",
        "from torch.utils.data import Dataset\n",
        "\n",
        "class EmailDataset(Dataset):\n",
        "    def __init__(self, encodings, labels):\n",
        "        self.encodings = encodings  # tokenizer outputs\n",
        "        self.labels = labels        # your numeric labels from LabelEncoder\n",
        "\n",
        "    def __len__(self):\n",
        "        return len(self.labels)  # how many samples in total\n",
        "\n",
        "    def __getitem__(self, idx):\n",
        "        return {\n",
        "            'input_ids': torch.tensor(self.encodings['input_ids'][idx]),\n",
        "            'attention_mask': torch.tensor(self.encodings['attention_mask'][idx]),\n",
        "            'labels': torch.tensor(self.labels[idx])\n",
        "        }"
      ]
    },
    {
      "cell_type": "code",
      "execution_count": 112,
      "metadata": {
        "colab": {
          "base_uri": "https://localhost:8080/"
        },
        "id": "ivQyWDnd5NGj",
        "outputId": "b404d633-b6e4-4341-b4f7-2372784732e0"
      },
      "outputs": [
        {
          "name": "stdout",
          "output_type": "stream",
          "text": [
            "time: 288 µs (started: 2025-05-28 12:57:49 +00:00)\n"
          ]
        }
      ],
      "source": [
        "train_dataset = EmailDataset(train_encodings, train_labels)\n",
        "val_dataset = EmailDataset(val_encodings, val_labels)"
      ]
    },
    {
      "cell_type": "markdown",
      "metadata": {
        "id": "8h1igbag5NGk"
      },
      "source": [
        "##Train"
      ]
    },
    {
      "cell_type": "markdown",
      "metadata": {
        "id": "k5khxNPo5NGk"
      },
      "source": [
        "Change optimizer before running"
      ]
    },
    {
      "cell_type": "code",
      "execution_count": 113,
      "metadata": {
        "colab": {
          "base_uri": "https://localhost:8080/"
        },
        "id": "Rpm1194Y5NGl",
        "outputId": "71dcf15f-1f70-4534-9a23-533122d464b2"
      },
      "outputs": [
        {
          "name": "stdout",
          "output_type": "stream",
          "text": [
            "time: 1.22 ms (started: 2025-05-28 12:57:49 +00:00)\n"
          ]
        }
      ],
      "source": [
        "optimizer = AdamW(model.parameters(), lr=1e-5, weight_decay=0.01)"
      ]
    },
    {
      "cell_type": "code",
      "execution_count": 114,
      "metadata": {
        "colab": {
          "base_uri": "https://localhost:8080/"
        },
        "id": "2pRMkxT15NGl",
        "outputId": "b2c468e9-77b6-49a9-f76e-c573fd4e2763"
      },
      "outputs": [
        {
          "name": "stdout",
          "output_type": "stream",
          "text": [
            "time: 4.21 ms (started: 2025-05-28 12:57:49 +00:00)\n"
          ]
        }
      ],
      "source": [
        "from sklearn.utils.class_weight import compute_class_weight\n",
        "import numpy as np\n",
        "\n",
        "class_weights = compute_class_weight(class_weight='balanced',\n",
        "                                     classes=np.unique(df_boosted_3['label']),\n",
        "                                     y=df_boosted_3['label'])\n",
        "\n",
        "class_weights_tensor = torch.tensor(class_weights, dtype=torch.float).to(device)\n",
        "loss_fn = torch.nn.CrossEntropyLoss(weight=class_weights_tensor)\n"
      ]
    },
    {
      "cell_type": "code",
      "execution_count": 115,
      "metadata": {
        "colab": {
          "base_uri": "https://localhost:8080/"
        },
        "id": "RuFRimwu5NGl",
        "outputId": "bb4f84dc-64e9-4904-85fb-125f854837ed"
      },
      "outputs": [
        {
          "name": "stdout",
          "output_type": "stream",
          "text": [
            "5\n",
            "['Company Business / Strategy' 'Document Collaboration' 'Employment'\n",
            " 'Logistics' 'Personal']\n",
            "time: 721 µs (started: 2025-05-28 12:57:49 +00:00)\n"
          ]
        }
      ],
      "source": [
        "print(len(label_encoder.classes_))\n",
        "print(label_encoder.classes_)"
      ]
    },
    {
      "cell_type": "code",
      "execution_count": 116,
      "metadata": {
        "colab": {
          "base_uri": "https://localhost:8080/"
        },
        "id": "d4u24Oc05NGl",
        "outputId": "30940b69-5bf4-4c3b-a022-461633f3739f"
      },
      "outputs": [
        {
          "name": "stdout",
          "output_type": "stream",
          "text": [
            "5\n",
            "time: 733 µs (started: 2025-05-28 12:57:49 +00:00)\n"
          ]
        }
      ],
      "source": [
        "print(model.config.num_labels)\n"
      ]
    },
    {
      "cell_type": "code",
      "execution_count": 117,
      "metadata": {
        "colab": {
          "base_uri": "https://localhost:8080/"
        },
        "id": "jhmvEhYK5NGl",
        "outputId": "faca8340-db39-4916-cf87-f9c10a959c9c"
      },
      "outputs": [
        {
          "name": "stdout",
          "output_type": "stream",
          "text": [
            "\n",
            "🔁 Epoch 1\n"
          ]
        },
        {
          "name": "stderr",
          "output_type": "stream",
          "text": [
            "100%|██████████| 83/83 [00:50<00:00,  1.65it/s]\n"
          ]
        },
        {
          "name": "stdout",
          "output_type": "stream",
          "text": [
            "✅ Train Loss: 0.0608 | Train Acc: 0.9803\n",
            "🧪 Val   Loss: 1.6456 | Val   Acc: 0.6767\n",
            "\n",
            "🔁 Epoch 2\n"
          ]
        },
        {
          "name": "stderr",
          "output_type": "stream",
          "text": [
            "100%|██████████| 83/83 [00:51<00:00,  1.61it/s]\n"
          ]
        },
        {
          "name": "stdout",
          "output_type": "stream",
          "text": [
            "✅ Train Loss: 0.0560 | Train Acc: 0.9795\n",
            "🧪 Val   Loss: 1.7020 | Val   Acc: 0.6677\n",
            "\n",
            "🔁 Epoch 3\n"
          ]
        },
        {
          "name": "stderr",
          "output_type": "stream",
          "text": [
            "100%|██████████| 83/83 [00:52<00:00,  1.59it/s]\n"
          ]
        },
        {
          "name": "stdout",
          "output_type": "stream",
          "text": [
            "✅ Train Loss: 0.0481 | Train Acc: 0.9848\n",
            "🧪 Val   Loss: 1.7152 | Val   Acc: 0.6465\n",
            "\n",
            "🔁 Epoch 4\n"
          ]
        },
        {
          "name": "stderr",
          "output_type": "stream",
          "text": [
            "100%|██████████| 83/83 [00:52<00:00,  1.57it/s]\n"
          ]
        },
        {
          "name": "stdout",
          "output_type": "stream",
          "text": [
            "✅ Train Loss: 0.0514 | Train Acc: 0.9848\n",
            "🧪 Val   Loss: 1.7569 | Val   Acc: 0.6526\n",
            "\n",
            "🔁 Epoch 5\n"
          ]
        },
        {
          "name": "stderr",
          "output_type": "stream",
          "text": [
            "100%|██████████| 83/83 [00:53<00:00,  1.56it/s]\n"
          ]
        },
        {
          "name": "stdout",
          "output_type": "stream",
          "text": [
            "✅ Train Loss: 0.0506 | Train Acc: 0.9848\n",
            "🧪 Val   Loss: 1.7168 | Val   Acc: 0.6707\n",
            "\n",
            "🔁 Epoch 6\n"
          ]
        },
        {
          "name": "stderr",
          "output_type": "stream",
          "text": [
            "100%|██████████| 83/83 [00:53<00:00,  1.56it/s]\n"
          ]
        },
        {
          "name": "stdout",
          "output_type": "stream",
          "text": [
            "✅ Train Loss: 0.0409 | Train Acc: 0.9848\n",
            "🧪 Val   Loss: 1.6820 | Val   Acc: 0.6737\n",
            "\n",
            "🔁 Epoch 7\n"
          ]
        },
        {
          "name": "stderr",
          "output_type": "stream",
          "text": [
            "100%|██████████| 83/83 [00:53<00:00,  1.56it/s]\n"
          ]
        },
        {
          "name": "stdout",
          "output_type": "stream",
          "text": [
            "✅ Train Loss: 0.0471 | Train Acc: 0.9811\n",
            "🧪 Val   Loss: 1.6112 | Val   Acc: 0.6918\n",
            "\n",
            "🔁 Epoch 8\n"
          ]
        },
        {
          "name": "stderr",
          "output_type": "stream",
          "text": [
            "100%|██████████| 83/83 [00:53<00:00,  1.56it/s]\n"
          ]
        },
        {
          "name": "stdout",
          "output_type": "stream",
          "text": [
            "✅ Train Loss: 0.0528 | Train Acc: 0.9818\n",
            "🧪 Val   Loss: 1.5999 | Val   Acc: 0.6767\n",
            "time: 7min 34s (started: 2025-05-28 12:57:49 +00:00)\n"
          ]
        }
      ],
      "source": [
        "from sklearn.metrics import accuracy_score\n",
        "from tqdm import tqdm\n",
        "\n",
        "device = torch.device(\"cuda\" if torch.cuda.is_available() else \"cpu\")\n",
        "model.to(device)\n",
        "\n",
        "for epoch in range(8):  # Adjust number of epochs if needed\n",
        "    print(f\"\\n🔁 Epoch {epoch + 1}\")\n",
        "\n",
        "    # === TRAINING ===\n",
        "    model.train()\n",
        "    train_loss = 0\n",
        "    correct = 0\n",
        "    total = 0\n",
        "\n",
        "    for batch in tqdm(train_loader):\n",
        "        input_ids = batch['input_ids'].to(device)\n",
        "        attention_mask = batch['attention_mask'].to(device)\n",
        "        labels = batch['labels'].to(device)\n",
        "\n",
        "        optimizer.zero_grad()\n",
        "        outputs = model(input_ids, attention_mask=attention_mask)\n",
        "        loss = loss_fn(outputs.logits, labels)  # ✅ using class-weighted loss\n",
        "        train_loss += loss.item()\n",
        "\n",
        "        preds = outputs.logits.argmax(dim=1)\n",
        "        correct += (preds == labels).sum().item()\n",
        "        total += labels.size(0)\n",
        "\n",
        "        loss.backward()\n",
        "        optimizer.step()\n",
        "\n",
        "    train_acc = correct / total\n",
        "    avg_train_loss = train_loss / len(train_loader)\n",
        "\n",
        "    # === VALIDATION ===\n",
        "    model.eval()\n",
        "    val_loss = 0\n",
        "    correct = 0\n",
        "    total = 0\n",
        "\n",
        "    all_preds = []\n",
        "    all_labels = []\n",
        "\n",
        "    with torch.no_grad():\n",
        "        for batch in val_loader:\n",
        "            input_ids = batch['input_ids'].to(device)\n",
        "            attention_mask = batch['attention_mask'].to(device)\n",
        "            labels = batch['labels'].to(device)\n",
        "\n",
        "            outputs = model(input_ids, attention_mask=attention_mask)\n",
        "            loss = loss_fn(outputs.logits, labels)\n",
        "            val_loss += loss.item()\n",
        "\n",
        "            preds = outputs.logits.argmax(dim=1)\n",
        "\n",
        "            all_preds.extend(preds.cpu().tolist())\n",
        "            all_labels.extend(labels.cpu().tolist())\n",
        "\n",
        "            correct += (preds == labels).sum().item()\n",
        "            total += labels.size(0)\n",
        "\n",
        "    val_preds = all_preds\n",
        "    val_labels = all_labels\n",
        "\n",
        "    val_acc = correct / total\n",
        "    avg_val_loss = val_loss / len(val_loader)\n",
        "\n",
        "    print(f\"✅ Train Loss: {avg_train_loss:.4f} | Train Acc: {train_acc:.4f}\")\n",
        "    print(f\"🧪 Val   Loss: {avg_val_loss:.4f} | Val   Acc: {val_acc:.4f}\")\n"
      ]
    },
    {
      "cell_type": "markdown",
      "metadata": {
        "id": "-aVcxoUe5NGm"
      },
      "source": [
        "##Metrics"
      ]
    },
    {
      "cell_type": "code",
      "execution_count": 118,
      "metadata": {
        "colab": {
          "base_uri": "https://localhost:8080/"
        },
        "id": "9vdOe0WD5NGm",
        "outputId": "278e1b53-444e-4e64-ae87-5801dfdf2b41"
      },
      "outputs": [
        {
          "name": "stdout",
          "output_type": "stream",
          "text": [
            "time: 4.13 s (started: 2025-05-28 13:05:24 +00:00)\n"
          ]
        }
      ],
      "source": [
        "import numpy as np\n",
        "\n",
        "model.eval()\n",
        "all_preds = []\n",
        "all_labels = []\n",
        "\n",
        "with torch.no_grad():\n",
        "    for batch in val_loader:\n",
        "        input_ids = batch['input_ids'].to(device)\n",
        "        attention_mask = batch['attention_mask'].to(device)\n",
        "        labels = batch['labels'].to(device)\n",
        "\n",
        "        outputs = model(input_ids, attention_mask=attention_mask)\n",
        "        preds = outputs.logits.argmax(dim=1)\n",
        "\n",
        "        all_preds.extend(preds.cpu().numpy())\n",
        "        all_labels.extend(labels.cpu().numpy())\n"
      ]
    },
    {
      "cell_type": "code",
      "execution_count": 119,
      "metadata": {
        "colab": {
          "base_uri": "https://localhost:8080/"
        },
        "id": "Lt3p1jGS5NGm",
        "outputId": "d8ffa619-0dbd-496c-e4d1-074bf70f76f9"
      },
      "outputs": [
        {
          "name": "stdout",
          "output_type": "stream",
          "text": [
            "                             precision    recall  f1-score   support\n",
            "\n",
            "Company Business / Strategy       0.81      0.68      0.74       148\n",
            "     Document Collaboration       0.37      0.80      0.51        35\n",
            "                 Employment       0.60      0.63      0.62        19\n",
            "                  Logistics       0.76      0.70      0.73       103\n",
            "                   Personal       0.67      0.46      0.55        26\n",
            "\n",
            "                   accuracy                           0.68       331\n",
            "                  macro avg       0.64      0.65      0.63       331\n",
            "               weighted avg       0.73      0.68      0.69       331\n",
            "\n",
            "time: 11.1 ms (started: 2025-05-28 13:05:28 +00:00)\n"
          ]
        }
      ],
      "source": [
        "from sklearn.metrics import classification_report\n",
        "\n",
        "# Get label IDs sorted as they appear in label_encoder\n",
        "label_ids = list(range(len(label_encoder.classes_)))\n",
        "target_names = label_encoder.inverse_transform(label_ids)\n",
        "\n",
        "# Print report\n",
        "from sklearn.utils.multiclass import unique_labels\n",
        "\n",
        "labels_in_val = unique_labels(all_labels, all_preds)\n",
        "print(classification_report(all_labels, all_preds, labels=labels_in_val, target_names=[inv_label_map[i] for i in labels_in_val]))\n"
      ]
    },
    {
      "cell_type": "code",
      "execution_count": 120,
      "metadata": {
        "colab": {
          "base_uri": "https://localhost:8080/",
          "height": 825
        },
        "id": "wpgwNxs05NGm",
        "outputId": "7f8d2425-4df3-4490-bcf7-4410a96da78e"
      },
      "outputs": [
        {
          "data": {
            "image/png": "[encoded data removed]",
            "text/plain": [
              "<Figure size 1000x800 with 2 Axes>"
            ]
          },
          "metadata": {},
          "output_type": "display_data"
        },
        {
          "name": "stdout",
          "output_type": "stream",
          "text": [
            "time: 771 ms (started: 2025-05-28 13:05:28 +00:00)\n"
          ]
        }
      ],
      "source": [
        "from sklearn.metrics import confusion_matrix\n",
        "import seaborn as sns\n",
        "import matplotlib.pyplot as plt\n",
        "\n",
        "# Compute confusion matrix\n",
        "cm = confusion_matrix(all_labels, all_preds)\n",
        "\n",
        "# Plot\n",
        "plt.figure(figsize=(10, 8))\n",
        "sns.heatmap(cm, annot=True, fmt='d', cmap='Blues',\n",
        "            xticklabels=[inv_label_map[i] for i in labels_in_val],\n",
        "            yticklabels=[inv_label_map[i] for i in labels_in_val])\n",
        "\n",
        "\n",
        "plt.xlabel('Predicted')\n",
        "plt.ylabel('True')\n",
        "plt.title('Confusion Matrix')\n",
        "plt.xticks(rotation=45, ha='right')\n",
        "plt.yticks(rotation=0)\n",
        "plt.tight_layout()\n",
        "plt.show()\n"
      ]
    },
    {
      "cell_type": "code",
      "execution_count": 121,
      "metadata": {
        "colab": {
          "base_uri": "https://localhost:8080/",
          "height": 290
        },
        "id": "tOCyOanY5NGm",
        "outputId": "62a6d46b-c1b1-41fc-dfc1-e6f709cc156d"
      },
      "outputs": [
        {
          "data": {
            "text/html": [
              "<div>\n",
              "<style scoped>\n",
              "    .dataframe tbody tr th:only-of-type {\n",
              "        vertical-align: middle;\n",
              "    }\n",
              "\n",
              "    .dataframe tbody tr th {\n",
              "        vertical-align: top;\n",
              "    }\n",
              "\n",
              "    .dataframe thead th {\n",
              "        text-align: right;\n",
              "    }\n",
              "</style>\n",
              "<table border=\"1\" class=\"dataframe\">\n",
              "  <thead>\n",
              "    <tr style=\"text-align: right;\">\n",
              "      <th></th>\n",
              "      <th>count</th>\n",
              "    </tr>\n",
              "    <tr>\n",
              "      <th>coarse_genre</th>\n",
              "      <th></th>\n",
              "    </tr>\n",
              "  </thead>\n",
              "  <tbody>\n",
              "    <tr>\n",
              "      <th>Company Business / Strategy</th>\n",
              "      <td>740</td>\n",
              "    </tr>\n",
              "    <tr>\n",
              "      <th>Logistics</th>\n",
              "      <td>512</td>\n",
              "    </tr>\n",
              "    <tr>\n",
              "      <th>Document Collaboration</th>\n",
              "      <td>174</td>\n",
              "    </tr>\n",
              "    <tr>\n",
              "      <th>Personal</th>\n",
              "      <td>132</td>\n",
              "    </tr>\n",
              "    <tr>\n",
              "      <th>Employment</th>\n",
              "      <td>93</td>\n",
              "    </tr>\n",
              "  </tbody>\n",
              "</table>\n",
              "</div><br><label><b>dtype:</b> int64</label>"
            ],
            "text/plain": [
              "coarse_genre\n",
              "Company Business / Strategy    740\n",
              "Logistics                      512\n",
              "Document Collaboration         174\n",
              "Personal                       132\n",
              "Employment                      93\n",
              "Name: count, dtype: int64"
            ]
          },
          "execution_count": 121,
          "metadata": {},
          "output_type": "execute_result"
        },
        {
          "name": "stdout",
          "output_type": "stream",
          "text": [
            "time: 8.17 ms (started: 2025-05-28 13:05:29 +00:00)\n"
          ]
        }
      ],
      "source": [
        "df['coarse_genre'].value_counts()"
      ]
    },
    {
      "cell_type": "code",
      "execution_count": 122,
      "metadata": {
        "colab": {
          "base_uri": "https://localhost:8080/"
        },
        "id": "_HCGIc7O5NGm",
        "outputId": "e9e08a69-03d0-412b-9fb8-fea1286a7a89"
      },
      "outputs": [
        {
          "name": "stdout",
          "output_type": "stream",
          "text": [
            "time: 244 µs (started: 2025-05-28 13:05:29 +00:00)\n"
          ]
        }
      ],
      "source": [
        "# import pandas as pd\n",
        "\n",
        "# # Rebuild the label decoding map\n",
        "# inv_label_map = {v: k for k, v in label_mapping.items()}\n",
        "\n",
        "# # Convert numeric labels to strings\n",
        "# true_labels_text = [inv_label_map[i] for i in val_labels]\n",
        "# pred_labels_text = [inv_label_map[i] for i in val_preds]\n",
        "\n",
        "# val_texts = df_boosted_2.loc[val_idx, 'text'].tolist()  # Make sure this is run again\n",
        "# # val_texts = df_boosted.loc[val_idx, 'text'].tolist()\n",
        "# val_texts_used = [val_texts[i] for i in range(len(val_labels))]\n",
        "\n",
        "# # assert len(val_texts) == len(val_preds) == len(val_labels)\n",
        "\n",
        "# # Build evaluation DataFrame\n",
        "# df_eval = pd.DataFrame({\n",
        "#     'text': val_texts_used,\n",
        "#     'true_label': true_labels_text,\n",
        "#     'pred_label': pred_labels_text\n",
        "# })\n",
        "\n",
        "# # Save to CSV\n",
        "# df_eval.to_csv(\"model_eval_results_3.csv\", index=False)"
      ]
    },
    {
      "cell_type": "code",
      "execution_count": 123,
      "metadata": {
        "colab": {
          "base_uri": "https://localhost:8080/"
        },
        "id": "DztuT7dn5NGm",
        "outputId": "95318106-5879-43c0-8a08-825ed13532f3"
      },
      "outputs": [
        {
          "name": "stdout",
          "output_type": "stream",
          "text": [
            "time: 191 µs (started: 2025-05-28 13:05:29 +00:00)\n"
          ]
        }
      ],
      "source": [
        "# from google.colab import files\n",
        "# files.download(\"model_eval_results_3.csv\")"
      ]
    }
  ],
  "metadata": {
    "accelerator": "GPU",
    "colab": {
      "collapsed_sections": [
        "79k2jo-zcomY"
      ],
      "gpuType": "T4",
      "provenance": []
    },
    "kernelspec": {
      "display_name": "Python 3",
      "name": "python3"
    },
    "language_info": {
      "name": "python"
    }
  },
  "nbformat": 4,
  "nbformat_minor": 0
}
