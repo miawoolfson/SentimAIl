{
  "cells": [
    {
      "cell_type": "markdown",
      "metadata": {
        "id": "view-in-github",
        "colab_type": "text"
      },
      "source": [
        "<a href=\"https://colab.research.google.com/github/miawoolfson/SentimAIl/blob/BERT-Model/BERT-Model/Sentiment%20Analysis.ipynb\" target=\"_parent\"><img src=\"https://colab.research.google.com/assets/colab-badge.svg\" alt=\"Open In Colab\"/></a>"
      ]
    },
    {
      "cell_type": "code",
      "execution_count": null,
      "metadata": {
        "id": "0vHOM8E2xg2N"
      },
      "outputs": [],
      "source": [
        "import warnings\n",
        "import os\n",
        "from time import time\n",
        "from datetime import datetime\n",
        "\n",
        "from google.colab import drive\n",
        "from google.colab import auth\n",
        "from googleapiclient.discovery import build\n",
        "\n",
        "import json\n",
        "import pickle\n",
        "import pandas as pd\n",
        "from tqdm import tqdm\n",
        "import matplotlib.pyplot as plt\n",
        "import seaborn as sns\n",
        "\n",
        "from sklearn.preprocessing import LabelEncoder\n",
        "from sklearn.model_selection import train_test_split\n",
        "from sklearn.metrics import confusion_matrix, classification_report, accuracy_score\n",
        "\n",
        "from transformers import BertTokenizer, BertForSequenceClassification, BertConfig\n",
        "\n",
        "import torch\n",
        "from torch import optim, nn\n",
        "from torch.utils.data import Dataset, DataLoader"
      ]
    },
    {
      "cell_type": "markdown",
      "metadata": {
        "id": "p7voLiZk5jpa"
      },
      "source": [
        "# Configure"
      ]
    },
    {
      "cell_type": "code",
      "execution_count": null,
      "metadata": {
        "id": "vZLC2kGIVSh1"
      },
      "outputs": [],
      "source": [
        "NAME = 'Multiple Emotions 1.0'\n",
        "\n",
        "PATH = '/content/drive/My Drive/DS Final Project/BERT Model/'\n",
        "DATASET = 'emotions_6_types.csv'\n",
        "TEXT_COLUMN = 'sentence'\n",
        "SENTIMENT_COLUMN = 'emotion'\n",
        "MAX_SENTIMENT_GROUP_SIZE = 10000\n",
        "MAX_TOKEN_LENGTH = 512\n",
        "\n",
        "NUM_EPOCHS = 30\n",
        "LEARNING_RATE = 2e-5\n",
        "DROPOUT_PROB = 0.4"
      ]
    },
    {
      "cell_type": "code",
      "execution_count": null,
      "metadata": {
        "id": "L74Vi_xiwoOh"
      },
      "outputs": [],
      "source": [
        "warnings.filterwarnings(\"ignore\")\n",
        "pd.set_option('display.max_columns', None)\n",
        "start_time = time()\n",
        "drive.mount('/content/drive')\n",
        "auth.authenticate_user()\n",
        "drive_service = build('drive', 'v3')"
      ]
    },
    {
      "cell_type": "markdown",
      "metadata": {
        "id": "FePzhLlZ5HwO"
      },
      "source": [
        "## Save and Load"
      ]
    },
    {
      "cell_type": "code",
      "execution_count": null,
      "metadata": {
        "id": "Ae5W-4xn5K-v"
      },
      "outputs": [],
      "source": [
        "model_dir = PATH + 'Models/Model - ' + NAME\n",
        "os.makedirs(model_dir, exist_ok=True)\n",
        "\n",
        "if os.path.exists(model_dir + '/config.json'):\n",
        "    with open(model_dir + '/config.json', 'r') as f:\n",
        "        config = json.load(f)\n",
        "\n",
        "    DATASET = config['DATASET']\n",
        "    MAX_TOKEN_LENGTH = config['MAX_TOKEN_LENGTH']\n",
        "    LEARNING_RATE = config['LEARNING_RATE']\n",
        "    DROPOUT_PROB = config['DROPOUT_PROB']\n",
        "\n",
        "    print('Loaded config from', model_dir + '/config.json')\n",
        "    print('WARNING - Config overridden!')\n",
        "else:\n",
        "  with open(model_dir + '/config.json', 'w') as f:\n",
        "      json.dump({\n",
        "          'DATASET': DATASET,\n",
        "          'MAX_TOKEN_LENGTH': MAX_TOKEN_LENGTH,\n",
        "          'LEARNING_RATE': LEARNING_RATE,\n",
        "          'DROPOUT_PROB': DROPOUT_PROB\n",
        "      }, f, indent=4)\n",
        "  print('Saved config to', model_dir + '/config.json')"
      ]
    },
    {
      "cell_type": "markdown",
      "metadata": {
        "id": "a2K_euthUuzh"
      },
      "source": [
        "## Functions"
      ]
    },
    {
      "cell_type": "code",
      "execution_count": null,
      "metadata": {
        "id": "NtauecN05a32"
      },
      "outputs": [],
      "source": [
        "class EmailDataset(Dataset):\n",
        "    def __init__(self, encodings, labels):\n",
        "        self.encodings = encodings\n",
        "        self.labels = labels\n",
        "\n",
        "    def __len__(self):\n",
        "        return len(self.labels)\n",
        "\n",
        "    def __getitem__(self, idx):\n",
        "        return {\n",
        "            'input_ids': torch.tensor(self.encodings['input_ids'][idx]),\n",
        "            'attention_mask': torch.tensor(self.encodings['attention_mask'][idx]),\n",
        "            'labels': torch.tensor(self.labels[idx])\n",
        "        }"
      ]
    },
    {
      "cell_type": "code",
      "execution_count": null,
      "metadata": {
        "id": "7MPMEONo5u5B"
      },
      "outputs": [],
      "source": [
        "def plot_graph(eval_train, eval_test, title):\n",
        "    plt.figure(figsize = (13,6))\n",
        "    plt.plot(eval_train)\n",
        "    plt.plot(eval_test)\n",
        "    plt.title('model ' + title)\n",
        "    plt.ylabel(title)\n",
        "    plt.xlabel('epoch')\n",
        "    plt.locator_params(axis=\"x\", integer=True, tight=True)\n",
        "    plt.legend(['train', 'test'], loc='upper left')"
      ]
    },
    {
      "cell_type": "code",
      "execution_count": null,
      "metadata": {
        "id": "-y2_A4aR6LBC"
      },
      "outputs": [],
      "source": [
        "def plot_confusion_matrix(y_true, y_pred, figsize=(6, 5), cmap=\"Blues\"):\n",
        "    cm = confusion_matrix(y_true, y_pred)\n",
        "\n",
        "    plt.figure(figsize=figsize)\n",
        "    sns.heatmap(cm, annot=True, fmt=\"d\", cmap=cmap, xticklabels=map_sentiment.classes_, yticklabels=map_sentiment.classes_)\n",
        "    plt.xlabel(\"Predicted Label\")\n",
        "    plt.ylabel(\"True Label\")"
      ]
    },
    {
      "cell_type": "code",
      "execution_count": null,
      "metadata": {
        "id": "H91Mpjxn6MJS"
      },
      "outputs": [],
      "source": [
        "def compute_accuracy(preds, labels):\n",
        "    return (preds == labels).float().mean().item()"
      ]
    },
    {
      "cell_type": "markdown",
      "metadata": {
        "id": "zpTF4u5H0UZ1"
      },
      "source": [
        "# Prepare Data"
      ]
    },
    {
      "cell_type": "markdown",
      "metadata": {
        "id": "zEwDqLpCUVge"
      },
      "source": [
        "## Load Data"
      ]
    },
    {
      "cell_type": "code",
      "execution_count": null,
      "metadata": {
        "id": "i489Xs12VDb0"
      },
      "outputs": [],
      "source": [
        "if DATASET.endswith(\".csv\"):\n",
        "    raw_df = pd.read_csv(PATH + 'Data/' + DATASET)\n",
        "else:\n",
        "  raw_df = pd.read_parquet(PATH + 'Data/' + DATASET)\n",
        "\n",
        "if 'email' not in raw_df.columns:\n",
        "    raw_df.rename(columns={TEXT_COLUMN: 'email'}, inplace=True)\n",
        "\n",
        "if 'sentiment' not in raw_df.columns:\n",
        "    raw_df.rename(columns={SENTIMENT_COLUMN: 'sentiment'}, inplace=True)\n",
        "\n",
        "df = raw_df[['email', 'sentiment']]"
      ]
    },
    {
      "cell_type": "code",
      "execution_count": null,
      "metadata": {
        "id": "YUzqm5qT-XuX"
      },
      "outputs": [],
      "source": [
        "group_size = min(df.groupby('sentiment').size().min(), MAX_SENTIMENT_GROUP_SIZE)\n",
        "\n",
        "df = df.groupby('sentiment').head(group_size)\n",
        "\n",
        "print(f'Saved {group_size} samples from each sentiment.')"
      ]
    },
    {
      "cell_type": "code",
      "execution_count": null,
      "metadata": {
        "id": "7qP6Iex80BxJ"
      },
      "outputs": [],
      "source": [
        "map_sentiment = LabelEncoder()\n",
        "df['sentiment'] = map_sentiment.fit_transform(df['sentiment'])"
      ]
    },
    {
      "cell_type": "markdown",
      "metadata": {
        "id": "ZNI6Ca74UZ2K"
      },
      "source": [
        "## Split Data"
      ]
    },
    {
      "cell_type": "code",
      "execution_count": null,
      "metadata": {
        "id": "pCc9q0wxzMUz"
      },
      "outputs": [],
      "source": [
        "X_df = df['email']\n",
        "y_df = df['sentiment']"
      ]
    },
    {
      "cell_type": "code",
      "execution_count": null,
      "metadata": {
        "id": "1TANs4wH0now"
      },
      "outputs": [],
      "source": [
        "x_train, x_test_val, y_train, y_test_val = train_test_split(X_df, y_df, test_size=0.2, stratify = y_df)\n",
        "x_val, x_test, y_val, y_test = train_test_split(x_test_val, y_test_val, test_size=0.5, stratify = y_test_val)"
      ]
    },
    {
      "cell_type": "code",
      "execution_count": null,
      "metadata": {
        "id": "x-UlZ6IP1R9f"
      },
      "outputs": [],
      "source": [
        "y_train = y_train.reset_index(drop=True)\n",
        "y_val = y_val.reset_index(drop=True)\n",
        "y_test = y_test.reset_index(drop=True)"
      ]
    },
    {
      "cell_type": "markdown",
      "metadata": {
        "id": "I3iMT6yN1jnf"
      },
      "source": [
        "## Tokenize"
      ]
    },
    {
      "cell_type": "code",
      "execution_count": null,
      "metadata": {
        "id": "KMhAsF4T1ern"
      },
      "outputs": [],
      "source": [
        "tokenizer = BertTokenizer.from_pretrained('bert-base-uncased', do_lower_case=True)\n",
        "MAX_TOKEN_LENGTH = 512"
      ]
    },
    {
      "cell_type": "code",
      "execution_count": null,
      "metadata": {
        "id": "X3mcjgCH12x-"
      },
      "outputs": [],
      "source": [
        "X_train_encoded = tokenizer.batch_encode_plus(x_train.tolist(), padding=True, truncation=True, max_length = MAX_TOKEN_LENGTH, return_tensors='pt')\n",
        "\n",
        "X_val_encoded = tokenizer.batch_encode_plus(x_val.tolist(), padding=True, truncation=True, max_length = MAX_TOKEN_LENGTH, return_tensors='pt')\n",
        "\n",
        "X_test_encoded = tokenizer.batch_encode_plus(x_test.tolist(), padding=True, truncation=True, max_length = MAX_TOKEN_LENGTH, return_tensors='pt')"
      ]
    },
    {
      "cell_type": "markdown",
      "metadata": {
        "id": "Al0v5uEc6f2t"
      },
      "source": [
        "# Model"
      ]
    },
    {
      "cell_type": "code",
      "execution_count": null,
      "metadata": {
        "id": "UViUnN1k6Nfx"
      },
      "outputs": [],
      "source": [
        "device = \"cuda\" if torch.cuda.is_available() else \"cpu\"\n",
        "print(f\"Using {device} device\")"
      ]
    },
    {
      "cell_type": "code",
      "execution_count": null,
      "metadata": {
        "id": "vsszDMYz6ilY"
      },
      "outputs": [],
      "source": [
        "train_dataset = EmailDataset(X_train_encoded, y_train)\n",
        "val_dataset = EmailDataset(X_val_encoded, y_val)\n",
        "test_dataset = EmailDataset(X_test_encoded, y_test)\n",
        "\n",
        "train_loader = DataLoader(train_dataset, batch_size=32, shuffle=True)\n",
        "val_loader = DataLoader(val_dataset, batch_size=32)\n",
        "test_loader = DataLoader(test_dataset, batch_size=32)"
      ]
    },
    {
      "cell_type": "markdown",
      "metadata": {
        "id": "N34P5vGFX3A9"
      },
      "source": [
        "## Train"
      ]
    },
    {
      "cell_type": "code",
      "execution_count": null,
      "metadata": {
        "id": "MYDQ3b2b624-"
      },
      "outputs": [],
      "source": [
        "config = BertConfig.from_pretrained('bert-base-uncased')\n",
        "config.num_labels=len(map_sentiment.classes_)\n",
        "config.hidden_dropout_prob = DROPOUT_PROB\n",
        "config.attention_probs_dropout_prob = DROPOUT_PROB\n",
        "model = BertForSequenceClassification.from_pretrained('bert-base-uncased', config=config).to(device)\n",
        "optimizer = optim.Adam(model.parameters(), lr=LEARNING_RATE)\n",
        "criterion = nn.CrossEntropyLoss()"
      ]
    },
    {
      "cell_type": "code",
      "execution_count": null,
      "metadata": {
        "id": "gcBKq3jw7cmo"
      },
      "outputs": [],
      "source": [
        "train_losses = []\n",
        "val_losses = []\n",
        "train_accuracies = []\n",
        "val_accuracies = []\n",
        "start_epoch = 0\n",
        "checkpoint_dir = PATH + '/Checkpoints/Model - ' + NAME"
      ]
    },
    {
      "cell_type": "code",
      "execution_count": null,
      "metadata": {
        "id": "0zhpZXD87lz_"
      },
      "outputs": [],
      "source": [
        "os.makedirs(checkpoint_dir, exist_ok=True)\n",
        "\n",
        "checkpoint_files = [f for f in os.listdir(checkpoint_dir) if f.startswith(\"model_epoch_\")]\n",
        "if checkpoint_files:\n",
        "    last_epoch = max([int(f.split('_')[-1].split('.')[0]) for f in checkpoint_files])\n",
        "    checkpoint_path = os.path.join(checkpoint_dir, f\"model_epoch_{last_epoch}.pt\")\n",
        "    checkpoint = torch.load(checkpoint_path)\n",
        "\n",
        "    model.load_state_dict(checkpoint['model_state_dict'])\n",
        "    optimizer.load_state_dict(checkpoint['optimizer_state_dict'])\n",
        "    train_losses = checkpoint['train_losses']\n",
        "    val_losses = checkpoint['val_losses']\n",
        "    train_accuracies = checkpoint['train_accuracies']\n",
        "    val_accuracies = checkpoint['val_accuracies']\n",
        "    start_epoch = checkpoint['epoch'] + 1\n",
        "\n",
        "    print(f\"Resumed from epoch {start_epoch}\")"
      ]
    },
    {
      "cell_type": "code",
      "execution_count": null,
      "metadata": {
        "id": "Rg_lsBVZ64gj"
      },
      "outputs": [],
      "source": [
        "for epoch in tqdm(range(start_epoch, NUM_EPOCHS), desc=\"Training\"):\n",
        "    model.train()\n",
        "    running_loss = 0.0\n",
        "    running_accuracy = 0.0\n",
        "\n",
        "    for batch in train_loader:\n",
        "        optimizer.zero_grad()\n",
        "        input_ids = batch['input_ids'].to(device)\n",
        "        attention_mask = batch['attention_mask'].to(device)\n",
        "        labels = batch['labels'].to(device)\n",
        "\n",
        "        output = model(input_ids=input_ids, attention_mask=attention_mask)\n",
        "        preds = torch.argmax(output.logits, dim=1)\n",
        "        loss = criterion(output.logits, labels)\n",
        "        acc = compute_accuracy(preds, labels)\n",
        "\n",
        "        running_loss += loss.item()\n",
        "        running_accuracy += acc\n",
        "\n",
        "        loss.backward()\n",
        "        optimizer.step()\n",
        "\n",
        "    avg_train_loss = running_loss / len(train_loader)\n",
        "    avg_train_accuracy = running_accuracy / len(train_loader)\n",
        "    train_losses.append(avg_train_loss)\n",
        "    train_accuracies.append(avg_train_accuracy)\n",
        "\n",
        "    # Validation\n",
        "    model.eval()\n",
        "    running_loss = 0.0\n",
        "    running_accuracy = 0.0\n",
        "\n",
        "    with torch.no_grad():\n",
        "        for batch in val_loader:\n",
        "            input_ids = batch['input_ids'].to(device)\n",
        "            attention_mask = batch['attention_mask'].to(device)\n",
        "            labels = batch['labels'].to(device)\n",
        "\n",
        "            output = model(input_ids=input_ids, attention_mask=attention_mask)\n",
        "            preds = torch.argmax(output.logits, dim=1)\n",
        "            loss = criterion(output.logits, labels)\n",
        "            acc = compute_accuracy(preds, labels)\n",
        "            running_loss += loss.item()\n",
        "            running_accuracy += acc\n",
        "\n",
        "    avg_val_loss = running_loss / len(val_loader)\n",
        "    avg_val_accuracy = running_accuracy / len(val_loader)\n",
        "    val_losses.append(avg_val_loss)\n",
        "    val_accuracies.append(avg_val_accuracy)\n",
        "\n",
        "    # Save full checkpoint for this epoch\n",
        "    checkpoint = {\n",
        "        'epoch': epoch,\n",
        "        'model_state_dict': model.state_dict(),\n",
        "        'optimizer_state_dict': optimizer.state_dict(),\n",
        "        'train_losses': train_losses,\n",
        "        'val_losses': val_losses,\n",
        "        'train_accuracies': train_accuracies,\n",
        "        'val_accuracies': val_accuracies\n",
        "    }\n",
        "\n",
        "    checkpoint_path = os.path.join(checkpoint_dir, f\"model_epoch_{epoch}.pt\")\n",
        "    torch.save(checkpoint, checkpoint_path)\n",
        "    if epoch > 0:\n",
        "      last_checkpoint_path = os.path.join(checkpoint_dir, f\"model_epoch_{epoch - 1}.pt\")\n",
        "      os.remove(last_checkpoint_path)\n",
        "      drive_service.files().emptyTrash().execute()"
      ]
    },
    {
      "cell_type": "code",
      "execution_count": null,
      "metadata": {
        "id": "eln13jG73eF9"
      },
      "outputs": [],
      "source": [
        "plot_graph(train_losses, val_losses, 'loss')"
      ]
    },
    {
      "cell_type": "code",
      "execution_count": null,
      "metadata": {
        "id": "j0Aw6EQI4ni5"
      },
      "outputs": [],
      "source": [
        "plot_graph(train_accuracies, val_accuracies, 'Accuracy')"
      ]
    },
    {
      "cell_type": "markdown",
      "metadata": {
        "id": "XQZZd5H03b1n"
      },
      "source": [
        "## Evaluate"
      ]
    },
    {
      "cell_type": "code",
      "execution_count": null,
      "metadata": {
        "id": "WtKHYjMf04nC"
      },
      "outputs": [],
      "source": [
        "model.eval()\n",
        "total_loss = 0.0\n",
        "total_accuracy = 0.0\n",
        "total_batches = 0\n",
        "pred_labels = []\n",
        "\n",
        "with torch.no_grad():\n",
        "    for batch in test_loader:\n",
        "        input_ids = batch['input_ids'].to(device)\n",
        "        attention_mask = batch['attention_mask'].to(device)\n",
        "        labels = batch['labels'].to(device)\n",
        "        outputs = model(input_ids=input_ids, attention_mask=attention_mask)\n",
        "\n",
        "        predictions = torch.argmax(outputs.logits, dim=1)\n",
        "        pred_labels.extend(predictions.tolist())\n",
        "\n",
        "        loss = criterion(outputs.logits, labels)\n",
        "        acc = compute_accuracy(predictions, labels)\n",
        "\n",
        "        total_loss += loss.item()\n",
        "        total_accuracy += acc\n",
        "        total_batches += 1\n",
        "\n",
        "test_loss = total_loss / total_batches\n",
        "test_accuracy = total_accuracy / total_batches\n",
        "\n",
        "print(f\"Test Loss: {test_loss:.4f}, Test Accuracy: {test_accuracy:.4f}\")"
      ]
    },
    {
      "cell_type": "code",
      "execution_count": null,
      "metadata": {
        "id": "TtctNTrA3Vz6"
      },
      "outputs": [],
      "source": [
        "plot_confusion_matrix(y_test, pred_labels)"
      ]
    },
    {
      "cell_type": "code",
      "execution_count": null,
      "metadata": {
        "id": "gFze9Ncd42po"
      },
      "outputs": [],
      "source": [
        "print(\"Classification Report: \\n\", classification_report(y_test, pred_labels))"
      ]
    },
    {
      "cell_type": "markdown",
      "metadata": {
        "id": "V_XPuzyn6WOr"
      },
      "source": [
        "# Wrap-Up"
      ]
    },
    {
      "cell_type": "code",
      "execution_count": null,
      "metadata": {
        "id": "8OK3XRqQ6Dfi"
      },
      "outputs": [],
      "source": [
        "model_dir = PATH + '/Models/Model - ' + NAME\n",
        "os.makedirs(model_dir, exist_ok=True)\n",
        "\n",
        "tokenizer.save_pretrained(model_dir +'/Tokenizer')\n",
        "\n",
        "model.save_pretrained(model_dir +'/Model')\n",
        "\n",
        "with open(model_dir + '/mapped_sentiments.pkl', 'wb') as f:\n",
        "    pickle.dump(map_sentiment, f)"
      ]
    },
    {
      "cell_type": "code",
      "execution_count": null,
      "metadata": {
        "id": "0wptjSzm6LlX"
      },
      "outputs": [],
      "source": [
        "def get_sentiment(email, Tokenizer=tokenizer, Model=model, Sentiments=map_sentiment, Max_input_len=MAX_TOKEN_LENGTH):\n",
        "    encoded_email = Tokenizer.batch_encode_plus([email], padding=True, truncation=True, max_length=Max_input_len, return_tensors='pt')\n",
        "\n",
        "    model.eval()\n",
        "    with torch.no_grad():\n",
        "        input_ids = encoded_email['input_ids'].to(device)\n",
        "        attention_mask = encoded_email['attention_mask'].to(device)\n",
        "\n",
        "        outputs = model(input_ids=input_ids, attention_mask=attention_mask)\n",
        "\n",
        "        predictions = torch.argmax(outputs.logits, dim=1)\n",
        "        return  Sentiments.inverse_transform([predictions.item()])[0]"
      ]
    },
    {
      "cell_type": "code",
      "execution_count": null,
      "metadata": {
        "id": "_8h6YXl09SEf"
      },
      "outputs": [],
      "source": [
        "end_time = time()"
      ]
    },
    {
      "cell_type": "code",
      "execution_count": null,
      "metadata": {
        "id": "ShO_HAcc9Whs"
      },
      "outputs": [],
      "source": [
        "print('Notebook ran for', round((end_time - start_time) / 60), 'minutes')"
      ]
    },
    {
      "cell_type": "markdown",
      "metadata": {
        "id": "vzBw6eeYiqCy"
      },
      "source": [
        "# Inference"
      ]
    },
    {
      "cell_type": "markdown",
      "metadata": {
        "id": "TI91I6HBjKhk"
      },
      "source": [
        "## Load"
      ]
    },
    {
      "cell_type": "code",
      "execution_count": null,
      "metadata": {
        "id": "hbDrv2uFjE1I"
      },
      "outputs": [],
      "source": [
        "model_dir = PATH + '/Models/Model - ' + NAME\n",
        "\n",
        "bert_tokenizer = BertTokenizer.from_pretrained(model_dir +'/Tokenizer')\n",
        "\n",
        "bert_model = BertForSequenceClassification.from_pretrained(model_dir +'/Model')\n",
        "\n",
        "with open(model_dir + '/mapped_sentiments.pkl', 'rb') as f:\n",
        "    sentiments = pickle.load(f)"
      ]
    },
    {
      "cell_type": "markdown",
      "metadata": {
        "id": "Z_DP3IbIjRch"
      },
      "source": [
        "## Inference File"
      ]
    },
    {
      "cell_type": "code",
      "execution_count": null,
      "metadata": {
        "id": "hE8TfUParwj8"
      },
      "outputs": [],
      "source": [
        "FILE_NAME = 'Benchmark.csv'"
      ]
    },
    {
      "cell_type": "code",
      "execution_count": null,
      "metadata": {
        "id": "pe-GLpgNjdXS"
      },
      "outputs": [],
      "source": [
        "inference_df = pd.read_csv(PATH + FILE_NAME)"
      ]
    },
    {
      "cell_type": "code",
      "execution_count": null,
      "metadata": {
        "id": "_9DoprFbp31W"
      },
      "outputs": [],
      "source": [
        "inference_df['Sentiment by ' + NAME] = inference_df['email'].apply(lambda email: get_sentiment(email, Tokenizer=bert_tokenizer, Model=bert_model, Sentiments=sentiments))"
      ]
    },
    {
      "cell_type": "code",
      "execution_count": null,
      "metadata": {
        "id": "-rQP2NfXqviX"
      },
      "outputs": [],
      "source": [
        "inference_df.to_csv(PATH + FILE_NAME, index=False)"
      ]
    },
    {
      "cell_type": "markdown",
      "metadata": {
        "id": "y8Vp2SrGriBH"
      },
      "source": [
        "## Inference String"
      ]
    },
    {
      "cell_type": "code",
      "execution_count": null,
      "metadata": {
        "id": "QO2NIrQ0jYXR"
      },
      "outputs": [],
      "source": [
        "email = '''\n",
        "The U.I looks good, but i wanted it darker.\n",
        "Please fix.\n",
        "'''\n",
        "get_sentiment(email, Tokenizer=bert_tokenizer, Model=bert_model, Sentiments=sentiments)"
      ]
    },
    {
      "cell_type": "markdown",
      "metadata": {
        "id": "-weHH1Wm9rH8"
      },
      "source": [
        "# Benchmark"
      ]
    },
    {
      "cell_type": "markdown",
      "metadata": {
        "id": "Lz7ESBLi92K9"
      },
      "source": [
        "## Load Benchmark File"
      ]
    },
    {
      "cell_type": "code",
      "execution_count": null,
      "metadata": {
        "id": "e1pi-4go9yDf"
      },
      "outputs": [],
      "source": [
        "benchmark_file = 'Benchmark.csv'\n",
        "benchmark_df = pd.read_csv(PATH + benchmark_file)"
      ]
    },
    {
      "cell_type": "code",
      "execution_count": null,
      "metadata": {
        "id": "ea3XLgCE-I_V"
      },
      "outputs": [],
      "source": [
        "model_names = [col for col in benchmark_df.columns if col.startswith('Sentiment by ')]\n",
        "\n",
        "benchmark_df['sentiment'] = benchmark_df['sentiment'].str.lower()\n",
        "\n",
        "for model_name in model_names:\n",
        "    benchmark_df[model_name] = benchmark_df[model_name].str.lower()"
      ]
    },
    {
      "cell_type": "markdown",
      "metadata": {
        "id": "I9fmZyrvEMBS"
      },
      "source": [
        "## Compare Models"
      ]
    },
    {
      "cell_type": "code",
      "execution_count": null,
      "metadata": {
        "id": "Yk0pSEpI-c1F"
      },
      "outputs": [],
      "source": [
        "accuracies = {}\n",
        "\n",
        "for model_name in model_names:\n",
        "    print(model_name + '\\n', classification_report(benchmark_df['sentiment'], benchmark_df[model_name]))\n",
        "    plot_confusion_matrix(benchmark_df['sentiment'], benchmark_df[model_name])\n",
        "    plt.show()\n",
        "    accuracies[model_name[13:]] = accuracy_score(benchmark_df['sentiment'], benchmark_df[model_name])"
      ]
    },
    {
      "cell_type": "code",
      "execution_count": null,
      "metadata": {
        "id": "VOHHKwHIAqhP"
      },
      "outputs": [],
      "source": [
        "plt.bar(accuracies.keys(), accuracies.values())\n",
        "plt.ylabel('Accuracy')\n",
        "plt.title('Accuracy by Model')\n",
        "plt.xticks(rotation=90, ha='right')\n",
        "plt.ylim(0, 1)\n",
        "\n",
        "plt.show()"
      ]
    },
    {
      "cell_type": "code",
      "execution_count": null,
      "metadata": {
        "id": "hCODNKCNCfcz"
      },
      "outputs": [],
      "source": []
    }
  ],
  "metadata": {
    "accelerator": "GPU",
    "colab": {
      "collapsed_sections": [
        "a2K_euthUuzh",
        "ZNI6Ca74UZ2K"
      ],
      "gpuType": "T4",
      "provenance": [],
      "include_colab_link": true
    },
    "kernelspec": {
      "display_name": "Python 3",
      "name": "python3"
    },
    "language_info": {
      "name": "python"
    }
  },
  "nbformat": 4,
  "nbformat_minor": 0
}